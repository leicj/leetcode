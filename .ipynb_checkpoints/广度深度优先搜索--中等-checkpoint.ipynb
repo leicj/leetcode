{
 "cells": [
  {
   "cell_type": "code",
   "execution_count": 1,
   "metadata": {},
   "outputs": [],
   "source": [
    "# 将规范的数组, 转化为树型结构\n",
    "class TreeNode:\n",
    "    def __init__(self, x):\n",
    "        self.val = x\n",
    "        self.left = None\n",
    "        self.right = None\n",
    "\n",
    "class Node:\n",
    "    def __init__(self, val, children=[]):\n",
    "        self.val = val\n",
    "        self.children = children\n",
    "        \n",
    "class ListNode:\n",
    "    def __init__(self, x):\n",
    "        self.val = x\n",
    "        self.next = None\n",
    "        \n",
    "def array2tree(arr):\n",
    "    n = arr.pop(0)\n",
    "    root = None if n is None else TreeNode(n)\n",
    "    queue = [root]\n",
    "    while arr and queue:\n",
    "        node = queue.pop(0)\n",
    "        if node is None:\n",
    "            continue\n",
    "        \n",
    "        n1 = arr.pop(0)\n",
    "        node.left = None if n1 is None else TreeNode(n1)\n",
    "        queue.append(node.left)\n",
    "        if arr:\n",
    "            n2 = arr.pop(0)\n",
    "            node.right = None if n2 is None else TreeNode(n2)\n",
    "            queue.append(node.right)\n",
    "    return root"
   ]
  },
  {
   "cell_type": "code",
   "execution_count": 2,
   "metadata": {},
   "outputs": [
    {
     "name": "stdout",
     "output_type": "stream",
     "text": [
      "True\n",
      "False\n"
     ]
    }
   ],
   "source": [
    "# 98. 验证二叉搜索树\n",
    "# https://leetcode-cn.com/problems/validate-binary-search-tree/\n",
    "# 解题思路\n",
    "# 1. 针对一个节点, 只要判断其在: 最大值/最小值之间即可.\n",
    "# 2. 针对左节点, 最大值就是当前节点; 针对右节点, 最小值就是当前节点\n",
    "def isValidBST(root: TreeNode) -> bool:\n",
    "    def help(node, _min=None, _max=None):\n",
    "        if not node:\n",
    "            return True\n",
    "        if _min is not None and node.val <= _min:\n",
    "            return False\n",
    "        if _max is not None and node.val >= _max:\n",
    "            return False\n",
    "        return help(node.left, _min, node.val) and help(node.right, node.val, _max)\n",
    "    \n",
    "    return help(root)\n",
    "\n",
    "t1, t2 = array2tree([2,1,3]), array2tree([5,1,4,None,None,3,6])\n",
    "print(isValidBST(t1))\n",
    "print(isValidBST(t2))"
   ]
  },
  {
   "cell_type": "code",
   "execution_count": 4,
   "metadata": {},
   "outputs": [
    {
     "name": "stdout",
     "output_type": "stream",
     "text": [
      "[[3], [9, 20], [15, 7]]\n",
      "[[3], [9, 20], [15, 7]]\n"
     ]
    }
   ],
   "source": [
    "# 102. 二叉树的层次遍历\n",
    "# https://leetcode-cn.com/problems/binary-tree-level-order-traversal/\n",
    "# 解题思路\n",
    "# 1. 递归\n",
    "# 2. 迭代\n",
    "\n",
    "# bfs\n",
    "def levelOrder(root: TreeNode):\n",
    "    if not root:\n",
    "        return []\n",
    "    r, stack = [], [root]\n",
    "    while stack:\n",
    "        temp = []\n",
    "        for _ in range(len(stack)):\n",
    "            node = stack.pop(0)\n",
    "            if node:\n",
    "                temp.append(node.val)\n",
    "                if node.left:\n",
    "                    stack.append(node.left)\n",
    "                if node.right:\n",
    "                    stack.append(node.right)\n",
    "        r.append(temp)\n",
    "    \n",
    "    return r\n",
    "\n",
    "# dfs\n",
    "def levelOrder1(root: TreeNode):\n",
    "    if not root:\n",
    "        return []\n",
    "    r = []\n",
    "    def help(node, level=0):\n",
    "        if not node:\n",
    "            return\n",
    "        if len(r) < level + 1:\n",
    "            r.append([])\n",
    "        r[level].append(node.val)\n",
    "        help(node.left, level + 1)\n",
    "        help(node.right, level + 1)\n",
    "    \n",
    "    help(root)\n",
    "    return r\n",
    "\n",
    "\n",
    "t = array2tree([3,9,20,None,None,15,7])\n",
    "print(levelOrder(t))\n",
    "print(levelOrder1(t))"
   ]
  },
  {
   "cell_type": "code",
   "execution_count": 5,
   "metadata": {},
   "outputs": [
    {
     "name": "stdout",
     "output_type": "stream",
     "text": [
      "[[3], [20, 9], [15, 7]]\n"
     ]
    }
   ],
   "source": [
    "# 103. 二叉树的锯齿形层次遍历\n",
    "# https://leetcode-cn.com/problems/binary-tree-zigzag-level-order-traversal/\n",
    "\n",
    "def zigzagLevelOrder(root: TreeNode):\n",
    "    if not root:\n",
    "        return []\n",
    "    r, stack = [], [root]\n",
    "    while stack:\n",
    "        temp = []\n",
    "        for _ in range(len(stack)):\n",
    "            node = stack.pop(0)\n",
    "            if node:\n",
    "                temp.append(node.val)\n",
    "                if node.left:\n",
    "                    stack.append(node.left)\n",
    "                if node.right:\n",
    "                    stack.append(node.right)\n",
    "        r.append(temp)\n",
    "    \n",
    "    for i in range(len(r)):\n",
    "        if i % 2 == 1:\n",
    "            r[i].reverse()\n",
    "    \n",
    "    return r\n",
    "\n",
    "t = array2tree([3,9,20,None,None,15,7])\n",
    "print(zigzagLevelOrder(t))"
   ]
  },
  {
   "cell_type": "code",
   "execution_count": 6,
   "metadata": {},
   "outputs": [
    {
     "name": "stdout",
     "output_type": "stream",
     "text": [
      "<__main__.TreeNode object at 0x1100b0a90>\n"
     ]
    }
   ],
   "source": [
    "# 105. 从前序与中序遍历序列构造二叉树\n",
    "# https://leetcode-cn.com/problems/construct-binary-tree-from-preorder-and-inorder-traversal/\n",
    "\n",
    "def buildTree(preorder, inorder):\n",
    "    def help(_pre, _in):\n",
    "        if not _pre:\n",
    "            return None\n",
    "        node = TreeNode(_pre[0])\n",
    "        index = _in.index(_pre[0])\n",
    "        node.left = help(_pre[1:index + 1], _in[0:index])\n",
    "        node.right = help(_pre[index + 1:], _in[index + 1:])\n",
    "        return node\n",
    "    return help(preorder, inorder)\n",
    "\n",
    "print(buildTree([3,9,20,15,7], [9,3,15,20,7]))"
   ]
  },
  {
   "cell_type": "code",
   "execution_count": 7,
   "metadata": {},
   "outputs": [
    {
     "name": "stdout",
     "output_type": "stream",
     "text": [
      "<__main__.TreeNode object at 0x1100b0860>\n"
     ]
    }
   ],
   "source": [
    "# 106. 从中序与后序遍历序列构造二叉树\n",
    "# https://leetcode-cn.com/problems/construct-binary-tree-from-inorder-and-postorder-traversal/\n",
    "\n",
    "def buildTree(inorder, postorder):\n",
    "    def help(_in, _post):\n",
    "        if not _in:\n",
    "            return None\n",
    "        node = TreeNode(_post[-1])\n",
    "        index = _in.index(_post[-1])\n",
    "        node.left = help(_in[0:index], _post[0:index])\n",
    "        node.right = help(_in[index + 1:], _post[index:-1])\n",
    "        return node\n",
    "    return help(inorder, postorder)\n",
    "\n",
    "print(buildTree([9,3,15,20,7], [9,15,7,20,3]))"
   ]
  },
  {
   "cell_type": "code",
   "execution_count": 2,
   "metadata": {},
   "outputs": [],
   "source": [
    "# 109. 有序链表转换二叉搜索树\n",
    "# https://leetcode-cn.com/problems/convert-sorted-list-to-binary-search-tree/\n",
    "\n",
    "def sortedListToBST(head: ListNode) -> TreeNode:\n",
    "    if not head:\n",
    "        return None\n",
    "    nums = [head.val]\n",
    "    while head.next:\n",
    "        nums.append(head.next.val)\n",
    "        head = head.next\n",
    "\n",
    "    def help(_nums):\n",
    "        if not _nums:\n",
    "            return None\n",
    "        mid = len(_nums) // 2\n",
    "        node = TreeNode(_nums[mid])\n",
    "        node.left, node.right = help(_nums[0:mid]), help(_nums[mid + 1:])\n",
    "        return node\n",
    "\n",
    "    return help(nums)"
   ]
  },
  {
   "cell_type": "code",
   "execution_count": 5,
   "metadata": {},
   "outputs": [
    {
     "name": "stdout",
     "output_type": "stream",
     "text": [
      "[[5, 4, 11, 2], [5, 8, 4, 5]]\n"
     ]
    }
   ],
   "source": [
    "# 113. 路径总和II\n",
    "# https://leetcode-cn.com/problems/path-sum-ii/\n",
    "\n",
    "def pathSum(root: TreeNode, sum: int):\n",
    "    r = []\n",
    "    def help(node, _sum, arr=[]):\n",
    "        nonlocal r\n",
    "        if not node:\n",
    "            return\n",
    "        arr.append(node.val)\n",
    "        if not node.left and not node.right and _sum == node.val:\n",
    "            r.append(arr)\n",
    "        else:\n",
    "            help(node.left, _sum - node.val, arr[:])\n",
    "            help(node.right, _sum - node.val, arr[:])\n",
    "    help(root, sum)\n",
    "    return r\n",
    "\n",
    "t = array2tree([5,4,8,11,None,13,4,7,2,None,None,5,1])\n",
    "print(pathSum(t, 22))"
   ]
  },
  {
   "cell_type": "code",
   "execution_count": 7,
   "metadata": {},
   "outputs": [],
   "source": [
    "# 114. 二叉树展开为链表\n",
    "# https://leetcode-cn.com/problems/flatten-binary-tree-to-linked-list/\n",
    "\n",
    "def flatten(root: TreeNode) -> None:\n",
    "    if not root:\n",
    "        return None\n",
    "    def help(node):\n",
    "        if not node:\n",
    "            return None\n",
    "        left, right = node.left, node.right\n",
    "        if left and right:\n",
    "            node.right = help(left)\n",
    "            node.left = None\n",
    "            rightNode = node\n",
    "            while rightNode.right:\n",
    "                rightNode = rightNode.right\n",
    "            rightNode.right = help(right)\n",
    "        elif left:\n",
    "            node.right = help(left)\n",
    "            node.left = None\n",
    "        else:\n",
    "            help(right)\n",
    "        return node\n",
    "    \n",
    "    help(root)"
   ]
  },
  {
   "cell_type": "code",
   "execution_count": 8,
   "metadata": {},
   "outputs": [],
   "source": [
    "# 116. 填充每个节点的下一个右侧节点指针\n",
    "# https://leetcode-cn.com/problems/populating-next-right-pointers-in-each-node/\n",
    "\n",
    "def connect(root: Node) -> Node:\n",
    "    if not root:\n",
    "        return root\n",
    "    queue = [root]\n",
    "    while queue:\n",
    "        preNode = None\n",
    "        for _ in range(len(queue)):\n",
    "            node = queue.pop(0)\n",
    "            if preNode:\n",
    "                preNode.next = node\n",
    "            preNode = node\n",
    "            if node.left or node.right:\n",
    "                queue.append(node.left)\n",
    "                queue.append(node.right)\n",
    "    \n",
    "    return root"
   ]
  },
  {
   "cell_type": "code",
   "execution_count": 9,
   "metadata": {},
   "outputs": [],
   "source": [
    "# 117. 填充每个节点的下一个右侧节点指针II\n",
    "# https://leetcode-cn.com/problems/populating-next-right-pointers-in-each-node-ii/\n",
    "\n",
    "def connect(root: Node) -> Node:\n",
    "    if not root:\n",
    "        return root\n",
    "    queue = [root]\n",
    "    while queue:\n",
    "        preNode = None\n",
    "        for _ in range(len(queue)):\n",
    "            node = queue.pop(0)\n",
    "            if preNode:\n",
    "                preNode.next = node\n",
    "            preNode = node\n",
    "            if node.left:\n",
    "                queue.append(node.left)\n",
    "            if node.right:\n",
    "                queue.append(node.right)\n",
    "                \n",
    "    return root"
   ]
  },
  {
   "cell_type": "code",
   "execution_count": null,
   "metadata": {},
   "outputs": [],
   "source": []
  }
 ],
 "metadata": {
  "kernelspec": {
   "display_name": "Python 3",
   "language": "python",
   "name": "python3"
  },
  "language_info": {
   "codemirror_mode": {
    "name": "ipython",
    "version": 3
   },
   "file_extension": ".py",
   "mimetype": "text/x-python",
   "name": "python",
   "nbconvert_exporter": "python",
   "pygments_lexer": "ipython3",
   "version": "3.7.3"
  }
 },
 "nbformat": 4,
 "nbformat_minor": 2
}
