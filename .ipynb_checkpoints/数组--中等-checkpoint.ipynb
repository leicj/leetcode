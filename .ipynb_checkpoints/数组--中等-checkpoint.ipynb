{
 "cells": [
  {
   "cell_type": "code",
   "execution_count": 23,
   "metadata": {},
   "outputs": [
    {
     "name": "stdout",
     "output_type": "stream",
     "text": [
      "49\n",
      "49\n"
     ]
    }
   ],
   "source": [
    "\"\"\"\n",
    "11. 盛最多水的容器\n",
    "https://leetcode-cn.com/problems/container-with-most-water/\n",
    "\"\"\"\n",
    "# 暴力解法\n",
    "def maxArea(height):\n",
    "    _max = 0\n",
    "    for i in range(len(height)):\n",
    "        for j in range(i+1, len(height)):\n",
    "            _max = max(_max, min(height[i], height[j]) * (j - i))\n",
    "    return _max\n",
    "\n",
    "def maxArea1(height):\n",
    "    _max, left, right = 0, 0, len(height) - 1\n",
    "    while left < right:\n",
    "        _max = max(_max, min(height[left], height[right]) * (right - left))\n",
    "        if height[left] < height[right]:\n",
    "            left += 1\n",
    "        else:\n",
    "            right -= 1\n",
    "    return _max\n",
    "\n",
    "print(maxArea([1,8,6,2,5,4,8,3,7]))\n",
    "print(maxArea1([1,8,6,2,5,4,8,3,7]))"
   ]
  },
  {
   "cell_type": "code",
   "execution_count": 25,
   "metadata": {},
   "outputs": [
    {
     "name": "stdout",
     "output_type": "stream",
     "text": [
      "[[-1, -1, 2], [-1, 0, 1]]\n"
     ]
    }
   ],
   "source": [
    "\"\"\"\n",
    "15. 三数之和\n",
    "https://leetcode-cn.com/problems/3sum/\n",
    "\"\"\"\n",
    "def threeSum(nums):\n",
    "    r = set()\n",
    "    nums.sort()\n",
    "    for i in range(len(nums) - 2):\n",
    "        left, right = i + 1, len(nums) - 1\n",
    "        while left < right:\n",
    "            if nums[left] + nums[right] == -nums[i]:\n",
    "                r.add((nums[i], nums[left], nums[right]))\n",
    "                left += 1\n",
    "                right -= 1\n",
    "            elif nums[left] + nums[right] > -nums[i]:\n",
    "                right -= 1\n",
    "            else:\n",
    "                left += 1\n",
    "    return [list(_r) for _r in r]\n",
    "\n",
    "print(threeSum([-1,0,1,2,-1,-4]))"
   ]
  },
  {
   "cell_type": "code",
   "execution_count": 26,
   "metadata": {},
   "outputs": [
    {
     "name": "stdout",
     "output_type": "stream",
     "text": [
      "2\n"
     ]
    }
   ],
   "source": [
    "\"\"\"\n",
    "16. 最接近的三数之和\n",
    "https://leetcode-cn.com/problems/3sum-closest/\n",
    "\"\"\"\n",
    "def threeSumClosest(nums, target):\n",
    "    nums.sort()\n",
    "    _min = sum(nums[0:3])\n",
    "    for i in range(len(nums) - 2):\n",
    "        left, right = i + 1, len(nums) - 1\n",
    "        while left < right:\n",
    "            _sum = nums[i] + nums[left] + nums[right]\n",
    "            _min = _min if abs(_min - target) < abs(_sum - target) else _sum\n",
    "            if _sum == target:\n",
    "                return _sum\n",
    "            elif _sum > target:\n",
    "                right -= 1\n",
    "            else:\n",
    "                left += 1\n",
    "    return _min\n",
    "\n",
    "print(threeSumClosest([-1,2,1,-4], 1))\n",
    "    "
   ]
  },
  {
   "cell_type": "code",
   "execution_count": 28,
   "metadata": {},
   "outputs": [
    {
     "name": "stdout",
     "output_type": "stream",
     "text": [
      "[1, 5, 1]\n"
     ]
    }
   ],
   "source": [
    "\"\"\"\n",
    "31. 下一个排列\n",
    "https://leetcode-cn.com/problems/next-permutation/\n",
    "\"\"\"\n",
    "def nextPermutation(nums):\n",
    "    i = j = len(nums) - 1\n",
    "    while i > 0 and nums[i-1] >= nums[i]:\n",
    "        i -= 1\n",
    "    if i == 0:\n",
    "        nums.reverse()\n",
    "        return\n",
    "    k = i - 1\n",
    "    while nums[j] <= nums[k]:\n",
    "        j -= 1\n",
    "    nums[k], nums[j] = nums[j], nums[k]\n",
    "    left, right = k + 1, len(nums) - 1\n",
    "    while left < right:\n",
    "        nums[left], nums[right] = nums[right], nums[left]\n",
    "        left += 1\n",
    "        right -= 1\n",
    "        \n",
    "nums = [1,1,5]\n",
    "nextPermutation(nums)\n",
    "print(nums)"
   ]
  },
  {
   "cell_type": "code",
   "execution_count": 30,
   "metadata": {},
   "outputs": [
    {
     "name": "stdout",
     "output_type": "stream",
     "text": [
      "4\n"
     ]
    }
   ],
   "source": [
    "\"\"\"\n",
    "33. 搜索旋转排序数组\n",
    "https://leetcode-cn.com/problems/search-in-rotated-sorted-array/\n",
    "\"\"\"\n",
    "def search(nums, target):\n",
    "    index = -1\n",
    "    def help(arr, start, end):\n",
    "        nonlocal index\n",
    "        if index != -1 or start >= end: return\n",
    "        mid = (start + end) // 2\n",
    "        if arr[mid] == target: index = mid\n",
    "        elif arr[mid] > target:\n",
    "            if arr[start] > arr[mid] or arr[start] <= target:\n",
    "                help(arr, start, mid)\n",
    "            else:\n",
    "                help(arr, mid + 1, end)\n",
    "        else:\n",
    "            if arr[end - 1] < arr[mid] or arr[end - 1] >= target:\n",
    "                help(arr, mid + 1, end)\n",
    "            else:\n",
    "                help(arr, start, mid)\n",
    "    help(nums, 0, len(nums))\n",
    "    return index\n",
    "\n",
    "print(search([4,5,6,7,0,1,2], 0))"
   ]
  },
  {
   "cell_type": "code",
   "execution_count": 35,
   "metadata": {},
   "outputs": [
    {
     "name": "stdout",
     "output_type": "stream",
     "text": [
      "[3, 4]\n",
      "[-1, -1]\n",
      "[3, 3]\n",
      "[0, 0]\n"
     ]
    }
   ],
   "source": [
    "\"\"\"\n",
    "34. 在排序数组中查找元素的第一个和最后一个位置\n",
    "https://leetcode-cn.com/problems/find-first-and-last-position-of-element-in-sorted-array/\n",
    "\"\"\"\n",
    "def searchRange(nums, target):\n",
    "    r = [-1, -1]\n",
    "    def help(arr, start, end, index):\n",
    "        if start >= end:\n",
    "            return -1\n",
    "        mid = (start + end) // 2\n",
    "        if arr[mid] == target:\n",
    "            if r[index] == -1:\n",
    "                r[index] = mid\n",
    "            if index == 0:\n",
    "                if r[index] > mid:\n",
    "                    r[index] = mid\n",
    "                help(arr, start, mid, index)\n",
    "            else:\n",
    "                if r[index] < mid:\n",
    "                    r[index] = mid\n",
    "                help(arr, mid + 1, end, index)\n",
    "        elif arr[mid] < target:\n",
    "            help(arr, mid + 1, end, index)\n",
    "        else:\n",
    "            help(arr, start, mid, index)\n",
    "    help(nums, 0, len(nums), 0)\n",
    "    help(nums, 0, len(nums), 1)\n",
    "    return r\n",
    "        \n",
    "print(searchRange([5,7,7,8,8,10], 8))\n",
    "print(searchRange([5,7,7,8,8,10], 6))\n",
    "print(searchRange([5,7,7,8,10], 8))\n",
    "print(searchRange([1], 1))"
   ]
  },
  {
   "cell_type": "code",
   "execution_count": 36,
   "metadata": {},
   "outputs": [
    {
     "name": "stdout",
     "output_type": "stream",
     "text": [
      "[[2, 2, 2, 2], [2, 3, 3], [3, 5]]\n"
     ]
    }
   ],
   "source": [
    "\"\"\"\n",
    "39. 组合总和\n",
    "https://leetcode-cn.com/problems/combination-sum/\n",
    "\"\"\"\n",
    "def combinationSum(candidates, target):\n",
    "    candidates.sort()\n",
    "    r = []\n",
    "    def dfs(arr, tmpArr, remain, start):\n",
    "        if remain < 0: return\n",
    "        if remain == 0:\n",
    "            r.append(tmpArr[:])\n",
    "            return\n",
    "        for i in range(start, len(arr)):\n",
    "            tmpArr.append(arr[i])\n",
    "            dfs(arr, tmpArr, remain - arr[i], i)\n",
    "            tmpArr.pop()\n",
    "    \n",
    "    dfs(candidates, [], target, 0)\n",
    "    \n",
    "    return r\n",
    "\n",
    "print(combinationSum([2,3,5], 8))"
   ]
  },
  {
   "cell_type": "code",
   "execution_count": 42,
   "metadata": {},
   "outputs": [
    {
     "name": "stdout",
     "output_type": "stream",
     "text": [
      "[[2, 6], [1, 1, 6], [1, 2, 5], [1, 7]]\n"
     ]
    }
   ],
   "source": [
    "\"\"\"\n",
    "40. 组合总和 II\n",
    "https://leetcode-cn.com/problems/combination-sum-ii/\n",
    "\"\"\"\n",
    "def combinationSum2(candidates, target):\n",
    "    candidates.sort()\n",
    "    r = set()\n",
    "    def dfs(arr, tmpArr, remain, start):\n",
    "        if remain < 0: return\n",
    "        if remain == 0:\n",
    "            r.add(tuple(tmpArr[:]))\n",
    "            return\n",
    "        for i in range(start, len(arr)):\n",
    "            tmpArr.append(arr[i])\n",
    "            dfs(arr[0:i] + arr[i+1:], tmpArr, remain - arr[i], i)\n",
    "            tmpArr.pop()\n",
    "            \n",
    "    dfs(candidates, [], target, 0)\n",
    "    return [list(_r) for _r in r]\n",
    "    \n",
    "print(combinationSum2([10,1,2,7,6,1,5], 8))"
   ]
  },
  {
   "cell_type": "code",
   "execution_count": 43,
   "metadata": {},
   "outputs": [
    {
     "name": "stdout",
     "output_type": "stream",
     "text": [
      "[[15, 13, 2, 5], [14, 3, 4, 1], [12, 6, 8, 9], [16, 7, 10, 11]]\n"
     ]
    }
   ],
   "source": [
    "\"\"\"\n",
    "48. 旋转图像\n",
    "https://leetcode-cn.com/problems/rotate-image/\n",
    "\"\"\"\n",
    "def rotate(matrix):\n",
    "    if not matrix or not matrix[0]: return\n",
    "    n = len(matrix)\n",
    "    def help(start, end):\n",
    "        i = start\n",
    "        for j in range(start, end):\n",
    "            # 可以写成一行, 但是一行代码会过长, 所以还是分开.\n",
    "            tmp = [matrix[i][j], matrix[j][n-1-i], matrix[n-1-i][n-1-j], matrix[n-1-j][i]]\n",
    "            matrix[j][n-1-i] = tmp[0]\n",
    "            matrix[n-1-i][n-1-j] = tmp[1]\n",
    "            matrix[n-1-j][i] = tmp[2]\n",
    "            matrix[i][j] = tmp[3]\n",
    "    \n",
    "    for i in range(n // 2):\n",
    "        help(i, n-i-1)\n",
    "        \n",
    "matrix = [\n",
    "    [5,1,9,11],\n",
    "    [2,4,8,10],\n",
    "    [13,3,6,7],\n",
    "    [15,14,12,16]\n",
    "]\n",
    "rotate(matrix)\n",
    "print(matrix)"
   ]
  },
  {
   "cell_type": "code",
   "execution_count": 69,
   "metadata": {},
   "outputs": [
    {
     "name": "stdout",
     "output_type": "stream",
     "text": [
      "[1, 2, 3, 4, 8, 12, 11, 10, 9, 5, 6, 7]\n",
      "[1, 2, 3, 6, 9, 8, 7, 4, 5]\n",
      "[1, 2, 3, 4, 8, 12, 16, 15, 14, 13, 9, 5, 6, 7, 11, 10]\n"
     ]
    }
   ],
   "source": [
    "\"\"\"\n",
    "54. 螺旋矩阵\n",
    "https://leetcode-cn.com/problems/spiral-matrix/\n",
    "\"\"\"\n",
    "def spiralOrder(matrix):\n",
    "    if not matrix or not matrix[0]: return\n",
    "    r = []\n",
    "    _dir, up, down, left, right = 0, 0, len(matrix) - 1, 0, len(matrix[0]) - 1\n",
    "    while left <= right and up <= down:\n",
    "        if _dir % 4 == 0:\n",
    "            r += matrix[up][left:right+1]\n",
    "            up += 1\n",
    "        elif _dir % 4 == 1:\n",
    "            r += [matrix[i][right] for i in range(up, down + 1)]\n",
    "            right -= 1\n",
    "        elif _dir % 4 == 2:\n",
    "            r += matrix[down][left:right+1][::-1]\n",
    "            down -= 1\n",
    "        else:\n",
    "            r += [matrix[i][left] for i in range(up, down + 1)][::-1]\n",
    "            left += 1\n",
    "        _dir += 1\n",
    "    \n",
    "    return r\n",
    "           \n",
    "matrix = [[1,2,3,4],[5,6,7,8],[9,10,11,12]]\n",
    "matrix1 = [[1,2,3],[4,5,6],[7,8,9]]\n",
    "matrix2 = [[1,2,3,4],[5,6,7,8],[9,10,11,12],[13,14,15,16]]\n",
    "print(spiralOrder(matrix))\n",
    "print(spiralOrder(matrix1))\n",
    "print(spiralOrder(matrix2))"
   ]
  },
  {
   "cell_type": "code",
   "execution_count": 71,
   "metadata": {},
   "outputs": [
    {
     "name": "stdout",
     "output_type": "stream",
     "text": [
      "True\n",
      "False\n"
     ]
    }
   ],
   "source": [
    "\"\"\"\n",
    "55. 跳跃游戏\n",
    "https://leetcode-cn.com/problems/jump-game/\n",
    "\"\"\"\n",
    "def canJump(nums):\n",
    "    # 来自官网的贪心算法\n",
    "    lastPos = len(nums) - 1\n",
    "    for i in range(len(nums) - 1, -1, -1):\n",
    "        if i + nums[i] >= lastPos:\n",
    "            lastPos = i\n",
    "    \n",
    "    return lastPos == 0\n",
    "\n",
    "print(canJump([2,3,1,1,4]))\n",
    "print(canJump([3,2,1,0,4]))"
   ]
  },
  {
   "cell_type": "code",
   "execution_count": 74,
   "metadata": {},
   "outputs": [
    {
     "name": "stdout",
     "output_type": "stream",
     "text": [
      "[[1, 2, 3, 4, 5], [16, 17, 18, 19, 6], [15, 24, 25, 20, 7], [14, 23, 22, 21, 8], [13, 12, 11, 10, 9]]\n"
     ]
    }
   ],
   "source": [
    "\"\"\"\n",
    "59. 螺旋矩阵 II\n",
    "https://leetcode-cn.com/problems/spiral-matrix-ii/\n",
    "\"\"\"\n",
    "def generateMatrix(n):\n",
    "    matrix = [[0 for _ in range(n)] for _ in range(n)]\n",
    "    k = 1\n",
    "    def help(i=0, j=0, _dir=0):\n",
    "        nonlocal k\n",
    "        if k > n * n: return\n",
    "        if _dir % 4 == 0:\n",
    "            while i < n and j < n and matrix[i][j] == 0:\n",
    "                matrix[i][j] = k\n",
    "                j, k = j + 1, k + 1\n",
    "            help(i+1, j-1, _dir+1)\n",
    "        elif _dir % 4 == 1:\n",
    "            while i < n and j < n and matrix[i][j] == 0:\n",
    "                matrix[i][j] = k\n",
    "                i , k = i + 1, k + 1\n",
    "            help(i-1, j-1, _dir+1)\n",
    "        elif _dir % 4 == 2:\n",
    "            while i < n and j < n and matrix[i][j] == 0:\n",
    "                matrix[i][j] = k\n",
    "                j, k = j - 1, k + 1\n",
    "            help(i-1, j+1, _dir+1)\n",
    "        else:\n",
    "            while i < n and j < n and matrix[i][j] == 0:\n",
    "                matrix[i][j] = k\n",
    "                i , k = i - 1, k + 1\n",
    "            help(i+1, j+1, _dir+1)\n",
    "    \n",
    "    help()\n",
    "    \n",
    "    return matrix\n",
    "\n",
    "print(generateMatrix(5))                        "
   ]
  },
  {
   "cell_type": "code",
   "execution_count": 75,
   "metadata": {},
   "outputs": [
    {
     "name": "stdout",
     "output_type": "stream",
     "text": [
      "None\n",
      "[[0, 0, 0, 0], [0, 4, 5, 0], [0, 3, 1, 0]]\n"
     ]
    }
   ],
   "source": [
    "\"\"\"\n",
    "73. 矩阵置零\n",
    "https://leetcode-cn.com/problems/set-matrix-zeroes/\n",
    "\"\"\"\n",
    "def setZeroes(matrix):\n",
    "    indexs = [(i, j) for i in range(len(matrix))\n",
    "              for j in range(len(matrix[0])) if matrix[i][j] == 0]\n",
    "    for x, y in indexs:\n",
    "        for j in range(len(matrix[x])): matrix[x][j] = 0\n",
    "        for j in range(len(matrix)): matrix[j][y] = 0\n",
    "\n",
    "matrix = [[0,1,2,0],[3,4,5,2],[1,3,1,5]]\n",
    "print(setZeroes(matrix))\n",
    "print(matrix)"
   ]
  },
  {
   "cell_type": "code",
   "execution_count": 79,
   "metadata": {},
   "outputs": [
    {
     "name": "stdout",
     "output_type": "stream",
     "text": [
      "True\n",
      "False\n"
     ]
    }
   ],
   "source": [
    "\"\"\"\n",
    "74. 搜索二维矩阵\n",
    "https://leetcode-cn.com/problems/search-a-2d-matrix/\n",
    "\"\"\"\n",
    "def searchMatrix(matrix, target):\n",
    "    if not matrix or not matrix[0]: return False\n",
    "    for i in range(len(matrix)):\n",
    "        if target < matrix[i][0]: return False\n",
    "        if target <= matrix[i][-1]:\n",
    "            return target in matrix[i]\n",
    "    return False\n",
    "\n",
    "matrix = [[1,3,5,7],[10,11,16,20],[23,30,34,50]]\n",
    "print(searchMatrix(matrix, 3))\n",
    "print(searchMatrix(matrix, 13))"
   ]
  },
  {
   "cell_type": "code",
   "execution_count": 81,
   "metadata": {},
   "outputs": [
    {
     "name": "stdout",
     "output_type": "stream",
     "text": [
      "[[1, 2, 3], [1, 2], [1, 3], [1], [2, 3], [2], [3], []]\n"
     ]
    }
   ],
   "source": [
    "\"\"\"\n",
    "78. 子集\n",
    "https://leetcode-cn.com/problems/subsets/\n",
    "\"\"\"\n",
    "def subsets(nums):\n",
    "    r = []\n",
    "    def help(arr, _r=[]):\n",
    "        if not arr: r.append(_r)\n",
    "        else:\n",
    "            help(arr[1:], _r + [arr[0]])\n",
    "            help(arr[1:], _r)\n",
    "    \n",
    "    help(nums)\n",
    "    return r\n",
    "\n",
    "print(subsets([1,2,3]))"
   ]
  },
  {
   "cell_type": "code",
   "execution_count": 84,
   "metadata": {},
   "outputs": [
    {
     "name": "stdout",
     "output_type": "stream",
     "text": [
      "True\n",
      "True\n",
      "False\n"
     ]
    }
   ],
   "source": [
    "\"\"\"\n",
    "79. 单词搜索\n",
    "https://leetcode-cn.com/problems/word-search/\n",
    "\"\"\"\n",
    "def exist(board, word):\n",
    "    if not board or not board[0] or not word: return False\n",
    "    dx, dy, m, n, r = [0,0,1,-1], [1,-1,0,0], len(board), len(board[0]), False\n",
    "    \n",
    "    def dfs(i, j, curWord):\n",
    "        nonlocal r\n",
    "        curWord += board[i][j]\n",
    "        if curWord == word or r:\n",
    "            r = True\n",
    "            return\n",
    "        if len(curWord) > len(word): return\n",
    "        \n",
    "        tmp = board[i][j]\n",
    "        board[i][j] = '@'\n",
    "        for k in range(4):\n",
    "            x, y = i + dx[k], j + dy[k]\n",
    "            if 0 <= x < m and 0 <= y < n and board[x][y] != '@' and board[x][y] == word[len(curWord)]:\n",
    "                dfs(x, y, curWord)\n",
    "        board[i][j] = tmp\n",
    "    \n",
    "    for i in range(m):\n",
    "        for j in range(n):\n",
    "            if board[i][j] == word[0]:\n",
    "                dfs(i, j, '')\n",
    "    \n",
    "    return r\n",
    "\n",
    "board = [['A', 'B', 'C', 'E'], ['S', 'F', 'C', 'S'], ['A', 'D', 'E', 'E']]\n",
    "print(exist(board, \"ABCCED\"))\n",
    "print(exist(board, \"SEE\"))\n",
    "print(exist(board, 'ABCB'))"
   ]
  },
  {
   "cell_type": "code",
   "execution_count": 89,
   "metadata": {},
   "outputs": [
    {
     "name": "stdout",
     "output_type": "stream",
     "text": [
      "5\n",
      "7\n"
     ]
    }
   ],
   "source": [
    "\"\"\"\n",
    "80. 删除排序数组中的重复项 II\n",
    "https://leetcode-cn.com/problems/remove-duplicates-from-sorted-array-ii/\n",
    "\"\"\"\n",
    "def removeDuplicates(nums):\n",
    "    i = 0\n",
    "    if len(nums) < 3: return len(nums)\n",
    "    while i < len(nums) - 2:\n",
    "        if nums[i] == nums[i+2]:\n",
    "            nums[i+2:i+3] = []\n",
    "            i -= 1\n",
    "        i += 1\n",
    "    \n",
    "    return len(nums)\n",
    "\n",
    "print(removeDuplicates([1,1,1,2,2,3]))\n",
    "print(removeDuplicates([0,0,1,1,1,1,2,3,3]))"
   ]
  },
  {
   "cell_type": "code",
   "execution_count": 102,
   "metadata": {},
   "outputs": [
    {
     "name": "stdout",
     "output_type": "stream",
     "text": [
      "True\n",
      "True\n",
      "False\n"
     ]
    }
   ],
   "source": [
    "\"\"\"\n",
    "81. 搜索旋转排序数组 II\n",
    "https://leetcode-cn.com/problems/search-in-rotated-sorted-array-ii/\n",
    "\"\"\"\n",
    "def search(nums, target):\n",
    "    if not nums: return False\n",
    "        \n",
    "    index, i = -1, 0\n",
    "    while i < len(nums) - 1:\n",
    "        if nums[i+1] < nums[i]: break\n",
    "        i += 1\n",
    "\n",
    "    def help(arr, start, end):\n",
    "        nonlocal index\n",
    "        if start >= end: return\n",
    "        mid = (start + end) // 2\n",
    "        if arr[mid] == target: index = mid\n",
    "        elif arr[mid] < target: help(arr, mid + 1, end)\n",
    "        else: help(arr, start, mid)\n",
    "\n",
    "    if nums[0] <= target <= nums[i]:\n",
    "        help(nums, 0, i + 1)\n",
    "    elif i+1 < len(nums) and nums[i+1] <= target <= nums[-1]:\n",
    "        help(nums, i+1, len(nums))\n",
    "\n",
    "    return index != -1\n",
    "\n",
    "print(search([1,1,1,3,1], 3))\n",
    "print(search([2,5,6,0,0,1,2], 0))\n",
    "print(search([2,5,6,0,0,1,2], 3))"
   ]
  },
  {
   "cell_type": "code",
   "execution_count": 103,
   "metadata": {},
   "outputs": [
    {
     "name": "stdout",
     "output_type": "stream",
     "text": [
      "[[1, 2], [1], [1, 2, 2], [2], [], [2, 2]]\n"
     ]
    }
   ],
   "source": [
    "\"\"\"\n",
    "90. 子集 II\n",
    "https://leetcode-cn.com/problems/subsets-ii/\n",
    "\"\"\"\n",
    "def subsetsWithDup(nums):\n",
    "    r = set()\n",
    "    def help(arr, _r=[]):\n",
    "        if not arr: r.add(tuple(_r))\n",
    "        else:\n",
    "            help(arr[1:], _r + [arr[0]])\n",
    "            help(arr[1:], _r)\n",
    "    help(nums)\n",
    "    \n",
    "    return [list(_r) for _r in r]\n",
    "\n",
    "print(subsetsWithDup([1,2,2]))"
   ]
  },
  {
   "cell_type": "code",
   "execution_count": 104,
   "metadata": {},
   "outputs": [
    {
     "name": "stdout",
     "output_type": "stream",
     "text": [
      "1\n"
     ]
    }
   ],
   "source": [
    "\"\"\"\n",
    "153. 寻找旋转排序数组中的最小值\n",
    "https://leetcode-cn.com/problems/find-minimum-in-rotated-sorted-array/\n",
    "\"\"\"\n",
    "def findMin(nums):\n",
    "    for i in range(1, len(nums)):\n",
    "        if nums[i] < nums[i-1]:\n",
    "            return nums[i]\n",
    "    return nums[0]\n",
    "\n",
    "print(findMin([3,4,5,1,2]))"
   ]
  },
  {
   "cell_type": "code",
   "execution_count": 106,
   "metadata": {},
   "outputs": [
    {
     "name": "stdout",
     "output_type": "stream",
     "text": [
      "2\n",
      "5\n"
     ]
    }
   ],
   "source": [
    "\"\"\"\n",
    "162. 寻找峰值\n",
    "https://leetcode-cn.com/problems/find-peak-element/\n",
    "\"\"\"\n",
    "def findPeakElement(nums):\n",
    "    # 来自LeetCode的答案\n",
    "    left, right = 0, len(nums) - 1\n",
    "    while left < right:\n",
    "        mid = (left + right) // 2\n",
    "        if nums[mid] > nums[mid+1]:\n",
    "            right = mid\n",
    "        else:\n",
    "            left = mid + 1\n",
    "    return left\n",
    "\n",
    "print(findPeakElement([1,2,3,1]))\n",
    "print(findPeakElement([1,2,1,3,5,6,4]))"
   ]
  },
  {
   "cell_type": "code",
   "execution_count": 144,
   "metadata": {},
   "outputs": [
    {
     "name": "stdout",
     "output_type": "stream",
     "text": [
      "2\n"
     ]
    }
   ],
   "source": [
    "\"\"\"\n",
    "209. 长度最小的子数组\n",
    "https://leetcode-cn.com/problems/minimum-size-subarray-sum/\n",
    "\"\"\"\n",
    "import math\n",
    "def minSubArrayLen(s, nums):\n",
    "    n, ans, left, _sum = len(nums), float(\"inf\"), 0, 0\n",
    "    for i in range(n):\n",
    "        _sum += nums[i]\n",
    "        while _sum >= s:\n",
    "            ans = min(ans, i + 1 - left)\n",
    "            _sum -= nums[left]\n",
    "            left += 1\n",
    "\n",
    "    return ans if not math.isinf(ans) else 0\n",
    "\n",
    "print(minSubArrayLen(7, [2,3,1,2,4,3]))"
   ]
  },
  {
   "cell_type": "code",
   "execution_count": 108,
   "metadata": {},
   "outputs": [],
   "source": [
    "\"\"\"\n",
    "216. 组合总和 III\n",
    "https://leetcode-cn.com/problems/combination-sum-iii/\n",
    "\"\"\"\n",
    "def combinationSum3(k, n):\n",
    "    pass"
   ]
  },
  {
   "cell_type": "code",
   "execution_count": 109,
   "metadata": {},
   "outputs": [],
   "source": [
    "\"\"\"\n",
    "228. 汇总区间\n",
    "https://leetcode-cn.com/problems/summary-ranges/\n",
    "\"\"\"\n",
    "def summaryRanges(nums):\n",
    "    pass"
   ]
  },
  {
   "cell_type": "code",
   "execution_count": 110,
   "metadata": {},
   "outputs": [],
   "source": [
    "\"\"\"\n",
    "229. 求众数 II\n",
    "https://leetcode-cn.com/problems/majority-element-ii/\n",
    "\"\"\"\n",
    "def majorityElement(nums):\n",
    "    pass"
   ]
  },
  {
   "cell_type": "code",
   "execution_count": 111,
   "metadata": {},
   "outputs": [],
   "source": [
    "\"\"\"\n",
    "238. 除自身以外数组的乘积\n",
    "https://leetcode-cn.com/problems/product-of-array-except-self/\n",
    "\"\"\"\n",
    "def productExceptSelf(nums):\n",
    "    pass"
   ]
  },
  {
   "cell_type": "code",
   "execution_count": 112,
   "metadata": {},
   "outputs": [],
   "source": [
    "\"\"\"\n",
    "287. 寻找重复数\n",
    "https://leetcode-cn.com/problems/find-the-duplicate-number/\n",
    "\"\"\"\n",
    "def findDuplicate(nums):\n",
    "    pass"
   ]
  },
  {
   "cell_type": "code",
   "execution_count": 113,
   "metadata": {},
   "outputs": [],
   "source": [
    "\"\"\"\n",
    "289. 生命游戏\n",
    "https://leetcode-cn.com/problems/game-of-life/\n",
    "\"\"\"\n",
    "def gameOfLife(board):\n",
    "    pass"
   ]
  },
  {
   "cell_type": "code",
   "execution_count": 114,
   "metadata": {},
   "outputs": [],
   "source": [
    "\"\"\"\n",
    "442. 数组中重复的数据\n",
    "https://leetcode-cn.com/problems/find-all-duplicates-in-an-array/\n",
    "\"\"\"\n",
    "def findDuplicates(nums):\n",
    "    pass"
   ]
  },
  {
   "cell_type": "code",
   "execution_count": 115,
   "metadata": {},
   "outputs": [],
   "source": [
    "\"\"\"\n",
    "457. 环形数组循环\n",
    "https://leetcode-cn.com/problems/circular-array-loop/\n",
    "\"\"\"\n",
    "def circularArrayLoop(nums):\n",
    "    pass"
   ]
  },
  {
   "cell_type": "code",
   "execution_count": 116,
   "metadata": {},
   "outputs": [],
   "source": [
    "\"\"\"\n",
    "495. 提莫攻击\n",
    "https://leetcode-cn.com/problems/teemo-attacking/\n",
    "\"\"\"\n",
    "def findPoisonedDuration(timeSeries, duration):\n",
    "    pass"
   ]
  },
  {
   "cell_type": "code",
   "execution_count": 117,
   "metadata": {},
   "outputs": [],
   "source": [
    "\"\"\"\n",
    "565. 数组嵌套\n",
    "https://leetcode-cn.com/problems/array-nesting/\n",
    "\"\"\"\n",
    "def arrayNesting(nums):\n",
    "    pass"
   ]
  },
  {
   "cell_type": "code",
   "execution_count": 118,
   "metadata": {},
   "outputs": [],
   "source": [
    "\"\"\"\n",
    "611. 有效三角形的个数\n",
    "https://leetcode-cn.com/problems/valid-triangle-number/\n",
    "\"\"\"\n",
    "def triangleNumber(nums):\n",
    "    pass"
   ]
  },
  {
   "cell_type": "code",
   "execution_count": 119,
   "metadata": {},
   "outputs": [],
   "source": [
    "\"\"\"\n",
    "667. 优美的排列 II\n",
    "https://leetcode-cn.com/problems/beautiful-arrangement-ii/\n",
    "\"\"\"\n",
    "def constructArray(n, k):\n",
    "    pass"
   ]
  },
  {
   "cell_type": "code",
   "execution_count": 120,
   "metadata": {},
   "outputs": [],
   "source": [
    "\"\"\"\n",
    "670. 最大交换\n",
    "https://leetcode-cn.com/problems/maximum-swap/\n",
    "\"\"\"\n",
    "def maximumSwap(num):\n",
    "    pass"
   ]
  },
  {
   "cell_type": "code",
   "execution_count": 121,
   "metadata": {},
   "outputs": [],
   "source": [
    "\"\"\"\n",
    "695. 岛屿的最大面积\n",
    "https://leetcode-cn.com/problems/max-area-of-island/\n",
    "\"\"\"\n",
    "def maxAreaOfIsland(grid):\n",
    "    pass"
   ]
  },
  {
   "cell_type": "code",
   "execution_count": 122,
   "metadata": {},
   "outputs": [],
   "source": [
    "\"\"\"\n",
    "713. 乘积小于K的子数组\n",
    "https://leetcode-cn.com/problems/subarray-product-less-than-k/\n",
    "\"\"\"\n",
    "def numSubarrayProductLessThanK(nums, k):\n",
    "    pass"
   ]
  },
  {
   "cell_type": "code",
   "execution_count": 123,
   "metadata": {},
   "outputs": [],
   "source": [
    "\"\"\"\n",
    "714. 买卖股票的最佳时机含手续费\n",
    "https://leetcode-cn.com/problems/best-time-to-buy-and-sell-stock-with-transaction-fee/\n",
    "\"\"\"\n",
    "def maxProfit(prices, fee):\n",
    "    pass"
   ]
  },
  {
   "cell_type": "code",
   "execution_count": 125,
   "metadata": {},
   "outputs": [],
   "source": [
    "\"\"\"\n",
    "729. 我的日程安排表 I\n",
    "https://leetcode-cn.com/problems/my-calendar-i/\n",
    "\"\"\"\n",
    "class MyCalendar:\n",
    "\n",
    "    def __init__(self):\n",
    "        pass\n",
    "        \n",
    "\n",
    "    def book(self, start, end) -> bool:\n",
    "        pass\n",
    "        "
   ]
  },
  {
   "cell_type": "code",
   "execution_count": 126,
   "metadata": {},
   "outputs": [],
   "source": [
    "\"\"\"\n",
    "769. 最多能完成排序的块\n",
    "https://leetcode-cn.com/problems/max-chunks-to-make-sorted/\n",
    "\"\"\"\n",
    "def maxChunksToSorted(arr):\n",
    "    pass"
   ]
  },
  {
   "cell_type": "code",
   "execution_count": 127,
   "metadata": {},
   "outputs": [],
   "source": [
    "\"\"\"\n",
    "775. 全局倒置与局部倒置\n",
    "https://leetcode-cn.com/problems/global-and-local-inversions/\n",
    "\"\"\"\n",
    "def isIdealPermutation(A):\n",
    "    pass"
   ]
  },
  {
   "cell_type": "code",
   "execution_count": 128,
   "metadata": {},
   "outputs": [],
   "source": [
    "\"\"\"\n",
    "792. 匹配子序列的单词数\n",
    "https://leetcode-cn.com/problems/number-of-matching-subsequences/\n",
    "\"\"\"\n",
    "def numMatchingSubseq(S, words):\n",
    "    pass"
   ]
  },
  {
   "cell_type": "code",
   "execution_count": 129,
   "metadata": {},
   "outputs": [],
   "source": [
    "\"\"\"\n",
    "795. 区间子数组个数\n",
    "https://leetcode-cn.com/problems/number-of-subarrays-with-bounded-maximum/\n",
    "\"\"\"\n",
    "def numSubarrayBoundedMax(A, L, R):\n",
    "    pass"
   ]
  },
  {
   "cell_type": "code",
   "execution_count": 130,
   "metadata": {},
   "outputs": [],
   "source": [
    "\"\"\"\n",
    "825. 适龄的朋友\n",
    "https://leetcode-cn.com/problems/friends-of-appropriate-ages/\n",
    "\"\"\"\n",
    "def numFriendRequests(ages):\n",
    "    pass"
   ]
  },
  {
   "cell_type": "code",
   "execution_count": 131,
   "metadata": {},
   "outputs": [],
   "source": [
    "\"\"\"\n",
    "835. 图像重叠\n",
    "https://leetcode-cn.com/problems/image-overlap/\n",
    "\"\"\"\n",
    "def largestOverlap(A, B):\n",
    "    pass"
   ]
  },
  {
   "cell_type": "code",
   "execution_count": 132,
   "metadata": {},
   "outputs": [],
   "source": [
    "\"\"\"\n",
    "870. 优势洗牌\n",
    "https://leetcode-cn.com/problems/advantage-shuffle/\n",
    "\"\"\"\n",
    "def advantageCount(A, B):\n",
    "    pass"
   ]
  },
  {
   "cell_type": "code",
   "execution_count": 133,
   "metadata": {},
   "outputs": [],
   "source": [
    "\"\"\"\n",
    "873. 最长的斐波那契子序列的长度\n",
    "https://leetcode-cn.com/problems/length-of-longest-fibonacci-subsequence/\n",
    "\"\"\"\n",
    "def lenLongestFibSubseq(A):\n",
    "    pass"
   ]
  },
  {
   "cell_type": "code",
   "execution_count": 135,
   "metadata": {},
   "outputs": [],
   "source": [
    "\"\"\"\n",
    "RLE 迭代器\n",
    "https://leetcode-cn.com/problems/rle-iterator/\n",
    "\"\"\"\n",
    "class RLEIterator:\n",
    "\n",
    "    def __init__(self, A):\n",
    "        pass\n",
    "        \n",
    "\n",
    "    def next(self, n) -> int:\n",
    "        pass\n",
    "        "
   ]
  },
  {
   "cell_type": "code",
   "execution_count": 136,
   "metadata": {},
   "outputs": [],
   "source": [
    "\"\"\"\n",
    "915. 分割数组\n",
    "https://leetcode-cn.com/problems/partition-array-into-disjoint-intervals/\n",
    "\"\"\"\n",
    "def partitionDisjoint(A):\n",
    "    pass"
   ]
  },
  {
   "cell_type": "code",
   "execution_count": 137,
   "metadata": {},
   "outputs": [],
   "source": [
    "\"\"\"\n",
    "918. 环形子数组的最大和\n",
    "https://leetcode-cn.com/problems/maximum-sum-circular-subarray/\n",
    "\"\"\"\n",
    "def maxSubarraySumCircular(A):\n",
    "    pass"
   ]
  },
  {
   "cell_type": "code",
   "execution_count": 138,
   "metadata": {},
   "outputs": [],
   "source": [
    "\"\"\"\n",
    "926. 将字符串翻转到单调递增\n",
    "https://leetcode-cn.com/problems/flip-string-to-monotone-increasing/\n",
    "\"\"\"\n",
    "def minFlipsMonoIncr(S):\n",
    "    pass"
   ]
  },
  {
   "cell_type": "code",
   "execution_count": 139,
   "metadata": {},
   "outputs": [],
   "source": [
    "\"\"\"\n",
    "945. 使数组唯一的最小增量\n",
    "https://leetcode-cn.com/problems/minimum-increment-to-make-array-unique/\n",
    "\"\"\"\n",
    "def minIncrementForUnique(A):\n",
    "    pass"
   ]
  },
  {
   "cell_type": "code",
   "execution_count": 140,
   "metadata": {},
   "outputs": [],
   "source": [
    "\"\"\"\n",
    "950. 按递增顺序显示卡牌\n",
    "https://leetcode-cn.com/problems/reveal-cards-in-increasing-order/\n",
    "\"\"\"\n",
    "def deckRevealedIncreasing(deck):\n",
    "    pass"
   ]
  },
  {
   "cell_type": "code",
   "execution_count": null,
   "metadata": {},
   "outputs": [],
   "source": [
    "\"\"\"\n",
    "962. 最大宽度坡\n",
    "https://leetcode-cn.com/problems/maximum-width-ramp/\n",
    "\"\"\"\n",
    "def maxWidthRamp(A):\n",
    "    pass"
   ]
  }
 ],
 "metadata": {
  "kernelspec": {
   "display_name": "Python 3",
   "language": "python",
   "name": "python3"
  },
  "language_info": {
   "codemirror_mode": {
    "name": "ipython",
    "version": 3
   },
   "file_extension": ".py",
   "mimetype": "text/x-python",
   "name": "python",
   "nbconvert_exporter": "python",
   "pygments_lexer": "ipython3",
   "version": "3.7.3"
  }
 },
 "nbformat": 4,
 "nbformat_minor": 2
}
