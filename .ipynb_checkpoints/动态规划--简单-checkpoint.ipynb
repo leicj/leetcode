{
 "cells": [
  {
   "cell_type": "code",
   "execution_count": 1,
   "metadata": {},
   "outputs": [
    {
     "name": "stdout",
     "output_type": "stream",
     "text": [
      "6\n"
     ]
    }
   ],
   "source": [
    "\"\"\"\n",
    "53. 最大子序和\n",
    "https://leetcode-cn.com/problems/maximum-subarray/\n",
    "\"\"\"\n",
    "def maxSubArray(nums):\n",
    "    \"\"\"\n",
    "        1. dp问题. 公式为: dp[i] = max(nums[i], nums[i] + dp[i - 1])\n",
    "        2. 最大子序和 = 当前元素自身最大, 或者 包含之前后最大\n",
    "    \"\"\"\n",
    "    for i in range(1, len(nums)):\n",
    "        # nums[i-1]代表dp[i - 1]\n",
    "        nums[i] = max(nums[i], nums[i] + nums[i-1])\n",
    "        \n",
    "    return max(nums)\n",
    "\n",
    "print(maxSubArray([-2,1,-3,4,-1,2,1,-5,4]))"
   ]
  },
  {
   "cell_type": "code",
   "execution_count": 8,
   "metadata": {},
   "outputs": [
    {
     "name": "stdout",
     "output_type": "stream",
     "text": [
      "89\n",
      "89\n"
     ]
    }
   ],
   "source": [
    "\"\"\"\n",
    "70. 爬楼梯\n",
    "https://leetcode-cn.com/problems/climbing-stairs/\n",
    "\"\"\"\n",
    "\"\"\"\n",
    "    1. dp问题, 公式为: dp[i] = dp[i - 1] + dp[i - 2].\n",
    "    2. dp[0], dp[1]都为1\n",
    "\"\"\"\n",
    "def climbStairs(n):\n",
    "    # 类似斐波拉契\n",
    "    a, b = 1, 1\n",
    "    while n > 0:\n",
    "        a, b = b, a + b\n",
    "        n -= 1\n",
    "    return a\n",
    "\n",
    "def climbStairs1(n):\n",
    "    r = [0 for _ in range(n + 1)]\n",
    "    r[0], r[1] = 1, 1\n",
    "    for i in range(2, n + 1):\n",
    "        r[i] = r[i - 1] + r[i - 2]\n",
    "    return r[n]\n",
    "\n",
    "print(climbStairs(10))\n",
    "print(climbStairs1(10))"
   ]
  },
  {
   "cell_type": "code",
   "execution_count": 9,
   "metadata": {},
   "outputs": [
    {
     "name": "stdout",
     "output_type": "stream",
     "text": [
      "5\n"
     ]
    }
   ],
   "source": [
    "\"\"\"\n",
    "121. 买卖股票的最佳时机\n",
    "https://leetcode-cn.com/problems/best-time-to-buy-and-sell-stock/\n",
    "\"\"\"\n",
    "def maxProfit(prices):\n",
    "    # 倒序遍历数组, 获取其最大值\n",
    "    # 将最大值 - 每个值 = 当前的最大利润\n",
    "    if not prices:\n",
    "        return 0\n",
    "    r, max_price = 0, prices[-1]\n",
    "    for i in range(len(prices) - 1, -1, -1):\n",
    "        # 当前更大的值\n",
    "        if prices[i] > max_price:\n",
    "            max_price = prices[i]\n",
    "        else:\n",
    "            # 最大利润\n",
    "            r = max(max_price - prices[i], r)\n",
    "    return r\n",
    "\n",
    "print(maxProfit([7,1,5,3,6,4]))"
   ]
  },
  {
   "cell_type": "code",
   "execution_count": 11,
   "metadata": {},
   "outputs": [
    {
     "name": "stdout",
     "output_type": "stream",
     "text": [
      "4\n",
      "12\n"
     ]
    }
   ],
   "source": [
    "\"\"\"\n",
    "198. 打家劫舍\n",
    "https://leetcode-cn.com/problems/house-robber/\n",
    "\"\"\"\n",
    "def rob(nums):\n",
    "    \"\"\"\n",
    "        1. dp问题, dp[i] = max(dp[i] + dp[i - 2], dp[i] + dp[i - 3])\n",
    "    \"\"\"\n",
    "    # 边界条件的判断\n",
    "    if not nums:\n",
    "        return 0\n",
    "    if len(nums) <= 2:\n",
    "        return max(nums)\n",
    "    # dp[i] += max(dp[i - 2], dp[i - 3]), 因为i-4 = 两个 i - 2\n",
    "    nums[2] += nums[0]\n",
    "    for i in range(3, len(nums)):\n",
    "        nums[i] += max(nums[i - 2], nums[i - 3])\n",
    "    return max(nums[-1], nums[-2])\n",
    "\n",
    "print(rob([1,2,3,1]))\n",
    "print(rob([2,7,9,3,1]))"
   ]
  },
  {
   "cell_type": "code",
   "execution_count": 12,
   "metadata": {},
   "outputs": [],
   "source": [
    "\"\"\"\n",
    "303. 区域和检索 - 数组不可变\n",
    "https://leetcode-cn.com/problems/range-sum-query-immutable/\n",
    "\"\"\"\n",
    "class NumArray:\n",
    "\n",
    "    def __init__(self, nums):\n",
    "        self.dp = nums[:]\n",
    "        # self.dp[i]存储0~i的子序列和\n",
    "        for i in range(1, len(self.dp)):\n",
    "            self.dp[i] += self.dp[i - 1]\n",
    "        \n",
    "\n",
    "    def sumRange(self, i, j):\n",
    "        return self.dp[j] - self.dp[i - 1] if i > 0 else self.dp[j]"
   ]
  },
  {
   "cell_type": "code",
   "execution_count": 15,
   "metadata": {},
   "outputs": [
    {
     "name": "stdout",
     "output_type": "stream",
     "text": [
      "True\n",
      "False\n"
     ]
    }
   ],
   "source": [
    "\"\"\"\n",
    "392. 判断子序列\n",
    "https://leetcode-cn.com/problems/is-subsequence/\n",
    "\"\"\"\n",
    "def isSubsequence(s, t):\n",
    "    s = list(s)\n",
    "    for _t in t:\n",
    "        if not s:\n",
    "            return True\n",
    "        if _t == s[0]:\n",
    "            s.pop(0)\n",
    "    \n",
    "    return not s\n",
    "\n",
    "print(isSubsequence(\"abc\", \"ahbgdc\"))\n",
    "print(isSubsequence(\"axc\", \"ahbgdc\"))"
   ]
  },
  {
   "cell_type": "code",
   "execution_count": 16,
   "metadata": {},
   "outputs": [
    {
     "name": "stdout",
     "output_type": "stream",
     "text": [
      "15\n",
      "6\n"
     ]
    }
   ],
   "source": [
    "\"\"\"\n",
    "746. 使用最小花费爬楼梯\n",
    "https://leetcode-cn.com/problems/min-cost-climbing-stairs/\n",
    "\"\"\"\n",
    "def minCostClimbingStairs(cost):\n",
    "    \"\"\"\n",
    "        1. dp问题: dp[i] = min(dp[i] + dp[i - 1], dp[i] + dp[i - 2])\n",
    "    \"\"\"\n",
    "    for i in range(2, len(cost)):\n",
    "        cost[i] += min(cost[i - 1], cost[i - 2])\n",
    "    return min(cost[-1], cost[-2])\n",
    "\n",
    "print(minCostClimbingStairs([10,15,20]))\n",
    "print(minCostClimbingStairs([1, 100, 1, 1, 1, 100, 1, 1, 100, 1]))"
   ]
  },
  {
   "cell_type": "code",
   "execution_count": 17,
   "metadata": {},
   "outputs": [],
   "source": [
    "\"\"\"\n",
    "1025. 除数博弈\n",
    "https://leetcode-cn.com/problems/divisor-game/submissions/\n",
    "\"\"\"\n",
    "def divisorGame(N):\n",
    "    return N % 2 == 0"
   ]
  },
  {
   "cell_type": "code",
   "execution_count": null,
   "metadata": {},
   "outputs": [],
   "source": []
  }
 ],
 "metadata": {
  "kernelspec": {
   "display_name": "Python 3",
   "language": "python",
   "name": "python3"
  },
  "language_info": {
   "codemirror_mode": {
    "name": "ipython",
    "version": 3
   },
   "file_extension": ".py",
   "mimetype": "text/x-python",
   "name": "python",
   "nbconvert_exporter": "python",
   "pygments_lexer": "ipython3",
   "version": "3.7.3"
  }
 },
 "nbformat": 4,
 "nbformat_minor": 2
}
