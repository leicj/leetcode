{
 "cells": [
  {
   "cell_type": "code",
   "execution_count": 33,
   "metadata": {},
   "outputs": [
    {
     "name": "stdout",
     "output_type": "stream",
     "text": [
      "LCIRETOESIIGEDHN\n",
      "LDREOEIIECIHNTSG\n"
     ]
    }
   ],
   "source": [
    "\"\"\"\n",
    "6. Z 字形变换\n",
    "https://leetcode-cn.com/problems/zigzag-conversion/\n",
    "\"\"\"\n",
    "def convert(s, numRows):\n",
    "    # 特殊情况处理\n",
    "    if numRows == 1: return s\n",
    "    # 生成一个二维数组\n",
    "    arr = [['' for _ in range(len(s))] for _ in range(len(s))]\n",
    "    i, j, _dir = 0, 0, 'down'\n",
    "    for k in range(len(s)):\n",
    "        arr[i][j] = s[k]\n",
    "        # 向下\n",
    "        if _dir == 'down':\n",
    "            # 还未到底部\n",
    "            if i < numRows - 1:\n",
    "                i += 1\n",
    "            else:\n",
    "                # 到达底部\n",
    "                _dir = 'up'\n",
    "                i -= 1\n",
    "                j += 1\n",
    "        else:\n",
    "            # 还未到顶部(斜着向上赋值)\n",
    "            if i > 0:\n",
    "                i -= 1\n",
    "                j += 1\n",
    "            else:\n",
    "                # 到达底部\n",
    "                _dir = 'down'\n",
    "                i += 1\n",
    "    \n",
    "    return ''.join([''.join(arr[i]) for i in range(len(arr))])\n",
    "\n",
    "print(convert(\"LEETCODEISHIRING\", 3))\n",
    "print(convert(\"LEETCODEISHIRING\", 4))"
   ]
  },
  {
   "cell_type": "code",
   "execution_count": 43,
   "metadata": {},
   "outputs": [
    {
     "name": "stdout",
     "output_type": "stream",
     "text": [
      "42\n",
      "-42\n",
      "4193\n",
      "0\n",
      "12345678\n"
     ]
    }
   ],
   "source": [
    "\"\"\"\n",
    "8. 字符串转换整数 (atoi)\n",
    "https://leetcode-cn.com/problems/string-to-integer-atoi/\n",
    "\"\"\"\n",
    "def myAtoi(str):\n",
    "    # 去除空白字符\n",
    "    str = str.lstrip()\n",
    "    r, flag, i = [], '', 0\n",
    "    if not str:\n",
    "        return 0\n",
    "    # 判断正负号\n",
    "    if str[0] == '+': i = 1\n",
    "    elif str[0] == '-':\n",
    "        flag = '-'\n",
    "        i = 1\n",
    "    \n",
    "    # 将匹配的数字写入r中\n",
    "    for j in range(i, len(str)):\n",
    "        # 去掉前面的0\n",
    "        if str[j] == '0' and not r: continue\n",
    "        elif str[j].isdigit(): r.append(str[j])\n",
    "        else: break\n",
    "    \n",
    "    # 判断两个字符串的大小\n",
    "    def isHigh(a, b):\n",
    "        if len(a) > len(b): return True\n",
    "        elif len(a) < len(b): return False\n",
    "        else: return a > b\n",
    "\n",
    "    _max, _min = \"2147483647\", \"2147483648\"\n",
    "    r = ''.join(r)\n",
    "    \n",
    "    # 判断_max, _min\n",
    "    if flag == '-':\n",
    "        if isHigh(r, _min): return -int(_min)\n",
    "        return -int(r) if r else 0\n",
    "    else:\n",
    "        if isHigh(r, _max): return int(_max)\n",
    "        return int(r) if r else 0\n",
    "    \n",
    "print(myAtoi(\"42\"))\n",
    "print(myAtoi(\"    -42\"))\n",
    "print(myAtoi(\"4193 with words\"))\n",
    "print(myAtoi(\"words and 987\"))\n",
    "print(myAtoi(\"  0000000000012345678\"))"
   ]
  },
  {
   "cell_type": "code",
   "execution_count": 54,
   "metadata": {},
   "outputs": [
    {
     "name": "stdout",
     "output_type": "stream",
     "text": [
      "MCMXCIV\n"
     ]
    }
   ],
   "source": [
    "\"\"\"\n",
    "12. 整数转罗马数字\n",
    "https://leetcode-cn.com/problems/integer-to-roman/\n",
    "\"\"\"\n",
    "def intToRoman(num):\n",
    "    nums = [1000, 500, 100, 50, 10, 5, 1]\n",
    "    words = ['M', 'D', 'C', 'L', 'X', 'V', 'I']\n",
    "    r = ''\n",
    "    for i in range(len(nums)):\n",
    "        if num >= nums[i]:\n",
    "            # 处理9/4\n",
    "            if str(num)[0] == '9':\n",
    "                r += f'{words[i+1]}{words[i-1]}'\n",
    "                num %= 10 ** (len(str(num)) - 1)\n",
    "            elif str(num)[0] == '4':\n",
    "                r += f'{words[i]}{words[i-1]}'\n",
    "                num %= 10 ** (len(str(num)) - 1)\n",
    "            else:\n",
    "                r += words[i] * (num // nums[i])\n",
    "                num %= nums[i]\n",
    "    \n",
    "    return r\n",
    "\n",
    "print(intToRoman(1994))"
   ]
  },
  {
   "cell_type": "code",
   "execution_count": 58,
   "metadata": {},
   "outputs": [
    {
     "name": "stdout",
     "output_type": "stream",
     "text": [
      "['ajt', 'aju', 'ajv', 'akt', 'aku', 'akv', 'alt', 'alu', 'alv', 'bjt', 'bju', 'bjv', 'bkt', 'bku', 'bkv', 'blt', 'blu', 'blv', 'cjt', 'cju', 'cjv', 'ckt', 'cku', 'ckv', 'clt', 'clu', 'clv']\n"
     ]
    }
   ],
   "source": [
    "\"\"\"\n",
    "17. 电话号码的字母组合\n",
    "https://leetcode-cn.com/problems/letter-combinations-of-a-phone-number/\n",
    "\"\"\"\n",
    "def letterCombinations(digits):\n",
    "    dic = {\n",
    "        \"2\": \"abc\", \"3\": \"def\", \"4\": \"ghi\", \"5\": \"jkl\", \"6\": \"mno\",\n",
    "        \"7\": \"pqrs\", \"8\": \"tuv\", \"9\": \"wxyz\"\n",
    "    }\n",
    "    r = []\n",
    "    if not digits:\n",
    "        return []\n",
    "    # 递归处理\n",
    "    def help(digits, s=''):\n",
    "        if len(digits) == 1:\n",
    "            r.extend([f'{s}{d}' for d in dic[digits]])\n",
    "        else:\n",
    "            for d in dic[digits[0]]:\n",
    "                help(digits[1:], f'{s}{d}')\n",
    "    \n",
    "    help(digits)\n",
    "    \n",
    "    return r\n",
    "        \n",
    "print(letterCombinations(\"258\"))"
   ]
  },
  {
   "cell_type": "code",
   "execution_count": 59,
   "metadata": {},
   "outputs": [
    {
     "name": "stdout",
     "output_type": "stream",
     "text": [
      "['((()))', '(()())', '(())()', '()(())', '()()()']\n"
     ]
    }
   ],
   "source": [
    "\"\"\"\n",
    "22. 括号生成\n",
    "https://leetcode-cn.com/problems/generate-parentheses/\n",
    "\"\"\"\n",
    "def generateParenthesis(n):\n",
    "    r = []\n",
    "    def help(left, right, _r=''):\n",
    "        if left == n and right == n:\n",
    "            r.append(_r)\n",
    "            return\n",
    "        if left < n:\n",
    "            help(left + 1, right, f'{_r}(')\n",
    "        if left > right and right < n:\n",
    "            help(left, right + 1, f'{_r})')\n",
    "    \n",
    "    help(0, 0)\n",
    "    return r\n",
    "\n",
    "print(generateParenthesis(3))"
   ]
  },
  {
   "cell_type": "code",
   "execution_count": 73,
   "metadata": {},
   "outputs": [
    {
     "name": "stdout",
     "output_type": "stream",
     "text": [
      "56088\n",
      "982241766\n",
      "81\n"
     ]
    }
   ],
   "source": [
    "\"\"\"\n",
    "43. 字符串相乘\n",
    "https://leetcode-cn.com/problems/multiply-strings/\n",
    "\"\"\"\n",
    "def multiply(num1, num2):\n",
    "    if num1 == '0' or num2 == '0':\n",
    "        return '0'\n",
    "    # 倒序(方便相加, 相乘)\n",
    "    num1 = list(reversed([int(n) for n in list(num1)]))\n",
    "    num2 = list(reversed([int(n) for n in list(num2)]))\n",
    "    nums = []\n",
    "    # 每位进行相乘\n",
    "    for i in range(len(num1)):\n",
    "        k, _num = 0, []\n",
    "        for j in range(len(num2)):\n",
    "            v = num1[i] * num2[j] + k\n",
    "            k = v // 10\n",
    "            _num.append(v % 10)\n",
    "        if k > 0:\n",
    "            _num.append(k)\n",
    "        # 加入0\n",
    "        _num = [0] * i + _num\n",
    "        nums.append(_num)\n",
    "    \n",
    "    # 相加\n",
    "    def add(arr1, arr2):\n",
    "        k, i, arr = 0, 0, []\n",
    "        while i < len(arr1) and i < len(arr2):\n",
    "            v = arr1[i] + arr2[i] + k\n",
    "            k = 1 if v >= 10 else 0\n",
    "            arr.append(v % 10)\n",
    "            i += 1\n",
    "        while i < len(arr1):\n",
    "            v = arr1[i] + k\n",
    "            k = 1 if v >= 10 else 0\n",
    "            arr.append(v % 10)\n",
    "            i += 1\n",
    "        while i < len(arr2):\n",
    "            v = arr2[i] + k\n",
    "            k = 1 if v >= 10 else 0\n",
    "            arr.append(v % 10)\n",
    "            i += 1\n",
    "        if k > 0:\n",
    "            arr.append(k)\n",
    "        return arr\n",
    "    \n",
    "    num = nums[0]\n",
    "    for i in range(1, len(nums)):\n",
    "        num = add(num, nums[i])\n",
    "     \n",
    "    return ''.join([str(n) for n in list(reversed(num))])\n",
    "\n",
    "print(multiply(\"123\", \"456\"))\n",
    "print(multiply(\"9999\", \"98234\"))\n",
    "print(multiply(\"9\", \"9\"))"
   ]
  },
  {
   "cell_type": "code",
   "execution_count": 78,
   "metadata": {},
   "outputs": [
    {
     "name": "stdout",
     "output_type": "stream",
     "text": [
      "['255.255.11.135', '255.255.111.35']\n",
      "['1.1.1.1']\n"
     ]
    }
   ],
   "source": [
    "\"\"\"\n",
    "93. 复原IP地址\n",
    "https://leetcode-cn.com/problems/restore-ip-addresses/\n",
    "\"\"\"\n",
    "def restoreIpAddresses(s):\n",
    "    r = []\n",
    "    def check(s):\n",
    "        if not s: return False\n",
    "        return int(s) < 256 and str(int(s)) == s\n",
    "    def help(s, _r=[]):\n",
    "        # 最后一个ip元素\n",
    "        if len(_r) == 3:\n",
    "            if check(s):\n",
    "                _r.append(s)\n",
    "                r.append('.'.join(_r))\n",
    "        else:\n",
    "            # 递归处理\n",
    "            for i in range(min(3, len(s))):\n",
    "                if check(s[0:i+1]):\n",
    "                    help(s[i+1:], _r + [s[0:i+1]])\n",
    "    \n",
    "    help(s)\n",
    "    return r\n",
    "\n",
    "print(restoreIpAddresses(\"25525511135\"))\n",
    "print(restoreIpAddresses(\"1111\"))"
   ]
  },
  {
   "cell_type": "code",
   "execution_count": 81,
   "metadata": {},
   "outputs": [
    {
     "name": "stdout",
     "output_type": "stream",
     "text": [
      "daf the\n",
      "blue is sky the\n",
      "world! hello\n",
      "example good a\n"
     ]
    }
   ],
   "source": [
    "\"\"\"\n",
    "151. 翻转字符串里的单词\n",
    "https://leetcode-cn.com/problems/reverse-words-in-a-string/\n",
    "\"\"\"\n",
    "def reverseWords(s):\n",
    "    s = [_s for _s in s.strip().split(' ') if _s.strip()]\n",
    "    return ' '.join(list(reversed(s)))\n",
    "\n",
    "print(reverseWords(\"    the    daf    \"))\n",
    "print(reverseWords(\"the sky is blue\"))\n",
    "print(reverseWords(\"  hello world!  \"))\n",
    "print(reverseWords(\"a good   example\"))"
   ]
  },
  {
   "cell_type": "code",
   "execution_count": 85,
   "metadata": {},
   "outputs": [
    {
     "name": "stdout",
     "output_type": "stream",
     "text": [
      "-1\n",
      "1\n",
      "-1\n",
      "0\n",
      "0\n"
     ]
    }
   ],
   "source": [
    "\"\"\"\n",
    "165. 比较版本号\n",
    "https://leetcode-cn.com/problems/compare-version-numbers/\n",
    "\"\"\"\n",
    "def compareVersion(version1, version2):\n",
    "    # 分隔为数组\n",
    "    v1 = [int(v) for v in version1.split('.')]\n",
    "    v2 = [int(v) for v in version2.split('.')]\n",
    "    # 去掉尾部的0\n",
    "    while v1 and v1[-1] == 0:\n",
    "        v1.pop()\n",
    "    while v2 and v2[-1] == 0:\n",
    "        v2.pop()\n",
    "    # 为元祖进行比较\n",
    "    v1, v2 = tuple(v1), tuple(v2)\n",
    "    \n",
    "    return 1 if v1 > v2 else 0 if v1 == v2 else -1\n",
    "\n",
    "print(compareVersion(\"0.1\", \"1.1\"))\n",
    "print(compareVersion(\"1.0.1\", \"1\"))\n",
    "print(compareVersion(\"7.5.2.4\", \"7.5.3\"))\n",
    "print(compareVersion(\"1.01\", \"1.001\"))\n",
    "print(compareVersion(\"1.0\", \"1.0.0\"))"
   ]
  },
  {
   "cell_type": "code",
   "execution_count": 101,
   "metadata": {},
   "outputs": [
    {
     "name": "stdout",
     "output_type": "stream",
     "text": [
      "3 3\n",
      "7 7\n",
      "1 1\n",
      "5 5\n"
     ]
    }
   ],
   "source": [
    "\"\"\"\n",
    "227. 基本计算器 II\n",
    "https://leetcode-cn.com/problems/basic-calculator-ii/\n",
    "\"\"\"\n",
    "def calculate(s):\n",
    "    # 去掉空白字符\n",
    "    s = s.replace(' ', '')\n",
    "    s1 = s.replace('+', '|').replace('-', '|').replace('*', '|').replace('/', '|').split('|')\n",
    "    opr = [_s for _s in s if _s in '+-*/']\n",
    "    \n",
    "    while len(s1) > 1:\n",
    "        i1, i2, i3, i4 = -1, -1, -1, -1\n",
    "        if '+' in opr:\n",
    "            i1 = opr.index('+')\n",
    "        if '-' in opr:\n",
    "            i2 = opr.index('-')\n",
    "        if '*' in opr:\n",
    "            i3 = opr.index('*')\n",
    "        if '/' in opr:\n",
    "            i4 = opr.index('/')\n",
    "        # 均出现*, /, 则处理先出现的\n",
    "        if i3 != -1 and i4 != -1:\n",
    "            if i3 < i4:\n",
    "                s1[i3:i3+2] = [int(s1[i3]) * int(s1[i3 + 1])]\n",
    "                opr.remove('*')\n",
    "            else:\n",
    "                s1[i4:i4+2] = [int(s1[i4]) // int(s1[i4 + 1])]\n",
    "                opr.remove('/')\n",
    "        elif i3 != -1:\n",
    "            s1[i3:i3+2] = [int(s1[i3]) * int(s1[i3 + 1])]\n",
    "            opr.remove('*')\n",
    "        elif i4 != -1:\n",
    "            s1[i4:i4+2] = [int(s1[i4]) // int(s1[i4 + 1])]\n",
    "            opr.remove('/')\n",
    "        elif i1 != -1 and i2 != -1:\n",
    "            if i1 < i2:\n",
    "                s1[i1:i1+2] = [int(s1[i1]) + int(s1[i1 + 1])]\n",
    "                opr.remove('+')\n",
    "            else:\n",
    "                s1[i2:i2+2] = [int(s1[i2]) - int(s1[i2 + 1])]\n",
    "                opr.remove('-')\n",
    "        elif i1 != -1:\n",
    "            s1[i1:i1+2] = [int(s1[i1]) + int(s1[i1 + 1])]\n",
    "            opr.remove('+')\n",
    "        elif i2 != -1:\n",
    "            s1[i2:i2+2] = [int(s1[i2]) - int(s1[i2 + 1])]\n",
    "            opr.remove('-')\n",
    "        \n",
    "    return int(s1[0]) if s1 else 0\n",
    "\n",
    "# 改进\n",
    "def calculate1(s):\n",
    "    num, op, stack = 0, '+', [0]\n",
    "    ops = {'+':lambda x, y: y, '-':lambda x, y: -y, '*':lambda x, y: x*y, '/':lambda x, y: (int)(float(x)/float(y))}\n",
    "    for i, c in enumerate(s):\n",
    "        if c.isdigit():\n",
    "            num = num * 10 + int(c)\n",
    "        if not c.isdigit() and c != ' ' or i == len(s) - 1:\n",
    "            prev = 0 if op in '+-' else stack.pop()\n",
    "            stack.append(ops[op](prev, num))\n",
    "            num, op = 0, c\n",
    "    \n",
    "    return sum(stack)\n",
    "\n",
    "print(calculate(\"3  + 2*2/5\"), calculate1(\"3  + 2*2/5\"))\n",
    "print(calculate(\"3+2*2\"), calculate1(\"3+2*2\"))\n",
    "print(calculate(\"3/2\"), calculate1(\"3/2\"))\n",
    "print(calculate(\"3+5/2\"), calculate1(\"3+5/2\"))"
   ]
  },
  {
   "cell_type": "code",
   "execution_count": 107,
   "metadata": {},
   "outputs": [
    {
     "name": "stdout",
     "output_type": "stream",
     "text": [
      "IPv4\n",
      "Neither\n",
      "Neither\n",
      "Neither\n"
     ]
    }
   ],
   "source": [
    "\"\"\"\n",
    "468. 验证IP地址\n",
    "https://leetcode-cn.com/problems/validate-ip-address/\n",
    "\"\"\"\n",
    "def validIPAddress(IP):\n",
    "    def isIPv4(s):\n",
    "        try:\n",
    "            return str(int(s)) == s and 0 <= int(s) <= 255\n",
    "        except:\n",
    "            return False\n",
    "        \n",
    "    def isIPv6(s):\n",
    "        if len(s) > 4: return False\n",
    "        try:\n",
    "            return int(s, 16) >= 0 and s[0] != '-'\n",
    "        except:\n",
    "            return False\n",
    "        \n",
    "    if IP.count('.') == 3 and all(isIPv4(i) for i in IP.split('.')):\n",
    "        return \"IPv4\"\n",
    "    if IP.count(':') == 7 and all(isIPv6(i) for i in IP.split(':')):\n",
    "        return \"IPv6\"\n",
    "    return \"Neither\"\n",
    "\n",
    "print(validIPAddress(\"172.16.254.1\"))\n",
    "print(validIPAddress(\"2001:0db8:85a3:0:0:8A2E:0370:7334\"))\n",
    "print(validIPAddress(\"256.256.256.256\"))\n",
    "print(validIPAddress(\"1e1.4.5.6\"))"
   ]
  },
  {
   "cell_type": "code",
   "execution_count": 108,
   "metadata": {},
   "outputs": [
    {
     "name": "stdout",
     "output_type": "stream",
     "text": [
      "3\n"
     ]
    }
   ],
   "source": [
    "\"\"\"\n",
    "522. 最长特殊序列 II\n",
    "https://leetcode-cn.com/problems/longest-uncommon-subsequence-ii/\n",
    "\"\"\"\n",
    "def findLUSlength(strs):\n",
    "    def subseq(w1, w2):\n",
    "        i = 0\n",
    "        for c in w2:\n",
    "            if i < len(w1) and w1[i] == c:\n",
    "                i += 1\n",
    "        return i == len(w1)\n",
    "    \n",
    "    strs.sort(key=len, reverse=True)\n",
    "    for i, w1 in enumerate(strs):\n",
    "        if all(not subseq(w1, w2) for j, w2 in enumerate(strs) if i != j):\n",
    "            return len(w1)\n",
    "    \n",
    "    return -1\n",
    "\n",
    "print(findLUSlength([\"aba\", \"cdc\", \"eae\"]))"
   ]
  },
  {
   "cell_type": "code",
   "execution_count": 110,
   "metadata": {},
   "outputs": [
    {
     "name": "stdout",
     "output_type": "stream",
     "text": [
      "0+2i\n",
      "0+-2i\n"
     ]
    }
   ],
   "source": [
    "\"\"\"\n",
    "537. 复数乘法\n",
    "https://leetcode-cn.com/problems/complex-number-multiplication/\n",
    "\"\"\"\n",
    "def complexNumberMultiply(a, b):\n",
    "    a, b = a.replace('i', ''), b.replace('i', '')\n",
    "    a1, a2 = a.split('+')\n",
    "    b1, b2 = b.split('+')\n",
    "    v1, v2, v3, v4 = int(a1) * int(b1), int(a1) * int(b2), int(a2) * int(b1), int(a2) * int(b2)\n",
    "    return f'{v1-v4}+{v2+v3}i'\n",
    "\n",
    "print(complexNumberMultiply(\"1+1i\", \"1+1i\"))\n",
    "print(complexNumberMultiply(\"1+-1i\", \"1+-1i\"))"
   ]
  },
  {
   "cell_type": "code",
   "execution_count": 114,
   "metadata": {},
   "outputs": [
    {
     "name": "stdout",
     "output_type": "stream",
     "text": [
      "1\n",
      "134\n"
     ]
    }
   ],
   "source": [
    "\"\"\"\n",
    "539. 最小时间差\n",
    "https://leetcode-cn.com/problems/minimum-time-difference/\n",
    "\"\"\"\n",
    "def findMinDifference(timePoints):\n",
    "    times = list(sorted([int(v.split(':')[0]) * 60 + int(v.split(':')[1]) for v in timePoints]))\n",
    "    times.append(24 * 60 + times[0])\n",
    "    r = [times[i] - times[i-1] for i in range(1, len(times))]\n",
    "    return min(r)\n",
    "\n",
    "print(findMinDifference([\"23:59\",\"00:00\"]))\n",
    "print(findMinDifference([\"23:59\", \"10:00\", \"12:14\"]))"
   ]
  },
  {
   "cell_type": "code",
   "execution_count": 142,
   "metadata": {},
   "outputs": [],
   "source": [
    "\"\"\"\n",
    "553. 最优除法\n",
    "https://leetcode-cn.com/problems/optimal-division/\n",
    "\"\"\"\n",
    "def optimalDivision(nums):\n",
    "    nums = list(map(str, nums))\n",
    "    if len(nums) <= 2:\n",
    "        return '/'.join(nums)\n",
    "    return nums[0] + '/(' + '/'.join(nums[1:]) + ')'"
   ]
  },
  {
   "cell_type": "code",
   "execution_count": 123,
   "metadata": {},
   "outputs": [
    {
     "name": "stdout",
     "output_type": "stream",
     "text": [
      "132\n"
     ]
    }
   ],
   "source": [
    "\"\"\"\n",
    "556. 下一个更大元素 III\n",
    "https://leetcode-cn.com/problems/next-greater-element-iii/\n",
    "\"\"\"\n",
    "import bisect\n",
    "def nextGreaterElement(n):\n",
    "    # 来自LeetCode的答案, 使用了bisect\n",
    "    digits = list(str(n))\n",
    "    N = len(digits)\n",
    "    for i in range(N - 1, 0, -1):\n",
    "        if digits[i - 1] < digits[i]:\n",
    "            right = sorted(digits[i:])\n",
    "            p = bisect.bisect(right, digits[i - 1])\n",
    "            digits[i - 1], right[p] = right[p], digits[i - 1]\n",
    "            r = int(''.join(digits[:i] + right))\n",
    "            return r if r < 0x7fffffff else -1\n",
    "    return -1\n",
    "\n",
    "print(nextGreaterElement(123))"
   ]
  },
  {
   "cell_type": "code",
   "execution_count": 127,
   "metadata": {},
   "outputs": [
    {
     "name": "stdout",
     "output_type": "stream",
     "text": [
      "2\n"
     ]
    }
   ],
   "source": [
    "\"\"\"\n",
    "583. 两个字符串的删除操作\n",
    "https://leetcode-cn.com/problems/delete-operation-for-two-strings/\n",
    "\"\"\"\n",
    "def minDistance(word1, word2):\n",
    "    # 来自官网的答案\n",
    "    dp = [[0 for _ in range(len(word2) + 1)] for _ in range(len(word1) + 1)]\n",
    "    for i in range(len(word1) + 1):\n",
    "        for j in range(len(word2) + 1):\n",
    "            if i == 0 or j == 0:\n",
    "                continue\n",
    "            if word1[i-1] == word2[j-1]:\n",
    "                dp[i][j] = 1 + dp[i-1][j-1]\n",
    "            else:\n",
    "                dp[i][j] = max(dp[i-1][j], dp[i][j-1])\n",
    "    \n",
    "    return len(word1) + len(word2) - 2 * dp[-1][-1]\n",
    "\n",
    "print(minDistance(\"sea\", \"eat\"))"
   ]
  },
  {
   "cell_type": "code",
   "execution_count": 133,
   "metadata": {},
   "outputs": [
    {
     "name": "stdout",
     "output_type": "stream",
     "text": [
      "3\n"
     ]
    }
   ],
   "source": [
    "\"\"\"\n",
    "647. 回文子串\n",
    "https://leetcode-cn.com/problems/palindromic-substrings/\n",
    "\"\"\"\n",
    "def countSubstrings(s):\n",
    "    N = len(s)\n",
    "    ans = 0\n",
    "    for center in range(2 * N - 1):\n",
    "        left = int(center / 2)\n",
    "        right = int(left + center % 2)\n",
    "        while left >= 0 and right < N and s[left] == s[right]:\n",
    "            ans += 1\n",
    "            left -= 1\n",
    "            right += 1\n",
    "    return ans\n",
    "\n",
    "print(countSubstrings(\"abc\"))"
   ]
  },
  {
   "cell_type": "code",
   "execution_count": 139,
   "metadata": {},
   "outputs": [
    {
     "name": "stdout",
     "output_type": "stream",
     "text": [
      "False\n"
     ]
    }
   ],
   "source": [
    "\"\"\"\n",
    "678. 有效的括号字符串\n",
    "https://leetcode-cn.com/problems/valid-parenthesis-string/\n",
    "\"\"\"\n",
    "def checkValidString(s):\n",
    "    # 难以理解的贪婪算法\n",
    "    lo = hi = 0\n",
    "    for c in s:\n",
    "        lo += 1 if c == '(' else -1\n",
    "        hi += 1 if c != ')' else -1\n",
    "        if hi < 0: break\n",
    "        lo = max(lo, 0)\n",
    "    \n",
    "    return lo == 0\n",
    "\n",
    "print(checkValidString(\"(())((())()()(*)(*()(())())())()()((()())((()))(*\"))\n"
   ]
  },
  {
   "cell_type": "code",
   "execution_count": 153,
   "metadata": {},
   "outputs": [
    {
     "name": "stdout",
     "output_type": "stream",
     "text": [
      "['int main()', '{ ', '  ', 'int a, b, c;', 'a = b + c;', '}']\n",
      "['ab']\n"
     ]
    }
   ],
   "source": [
    "\"\"\"\n",
    "722. 删除注释\n",
    "https://leetcode-cn.com/problems/remove-comments/\n",
    "\"\"\"\n",
    "def removeComments(source):\n",
    "    # 来自官网的答案, 个人编写的, 总是通不过测试用例\n",
    "    in_block = False\n",
    "    ans = []\n",
    "    for line in source:\n",
    "        i = 0\n",
    "        if not in_block:\n",
    "            newline = []\n",
    "        while i < len(line):\n",
    "            if line[i:i+2] == '/*' and not in_block:\n",
    "                in_block = True\n",
    "                i += 1\n",
    "            elif line[i:i+2] == '*/' and in_block:\n",
    "                in_block = False\n",
    "                i += 1\n",
    "            elif not in_block and line[i:i+2] == '//':\n",
    "                break\n",
    "            elif not in_block:\n",
    "                newline.append(line[i])\n",
    "            i += 1\n",
    "        if newline and not in_block:\n",
    "            ans.append(''.join(newline))\n",
    "    return ans\n",
    "\n",
    "source1 = [\"/*Test program */\", \"int main()\", \"{ \", \"  // variable declaration \", \"int a, b, c;\", \"/* This is a test\", \"   multiline  \", \"   comment for \", \"   testing */\", \"a = b + c;\", \"}\"]\n",
    "source2 = [\"a/*comment\", \"line\", \"more_comment*/b\"]\n",
    "print(removeComments(source1))\n",
    "print(removeComments(source2))"
   ]
  },
  {
   "cell_type": "code",
   "execution_count": 157,
   "metadata": {},
   "outputs": [
    {
     "name": "stdout",
     "output_type": "stream",
     "text": [
      "cbad\n"
     ]
    }
   ],
   "source": [
    "\"\"\"\n",
    "791. 自定义字符串排序\n",
    "https://leetcode-cn.com/problems/custom-sort-string/\n",
    "\"\"\"\n",
    "import functools\n",
    "def customSortString(S, T):\n",
    "    T = list(T)\n",
    "    def cmp(a, b):\n",
    "        if a in S and b in S:\n",
    "            if S.index(a) < S.index(b):\n",
    "                return -1\n",
    "            elif S.index(a) > S.index(b):\n",
    "                return 1\n",
    "            else:\n",
    "                return 0\n",
    "        elif a in S:\n",
    "            return -1\n",
    "        elif b in S:\n",
    "            return 1\n",
    "        elif a < b:\n",
    "            return -1\n",
    "        elif a > b:\n",
    "            return 1\n",
    "        else:\n",
    "            return 0\n",
    "\n",
    "    T.sort(key=functools.cmp_to_key(cmp))\n",
    "    return ''.join(T)\n",
    "\n",
    "print(customSortString(\"cba\", \"abcd\"))"
   ]
  },
  {
   "cell_type": "code",
   "execution_count": 161,
   "metadata": {},
   "outputs": [
    {
     "name": "stdout",
     "output_type": "stream",
     "text": [
      "0\n",
      "1\n"
     ]
    }
   ],
   "source": [
    "\"\"\"\n",
    "809. 情感丰富的文字\n",
    "https://leetcode-cn.com/problems/expressive-words/\n",
    "\"\"\"\n",
    "def expressiveWords(S, words):\n",
    "    def help(s, w):\n",
    "        i, j = 0, 0\n",
    "        while i < len(s) and j < len(w):\n",
    "            i_end, j_end = i + 1, j + 1\n",
    "            if s[i] != w[j]:\n",
    "                return False\n",
    "            while i_end < len(s) and s[i] == s[i_end] :\n",
    "                i_end += 1\n",
    "            while j_end < len(w) and w[j] == w[j_end]:\n",
    "                j_end += 1\n",
    "            if i_end - i < j_end - j:\n",
    "                return False\n",
    "            if i_end - i == j_end - j:\n",
    "                i = i_end\n",
    "                j = j_end\n",
    "                continue\n",
    "            if i_end > j_end:\n",
    "                if i_end - i >= 3:\n",
    "                    i = i_end\n",
    "                    j = j_end\n",
    "                else:\n",
    "                    return False\n",
    "        return i == len(s) and j == len(w)\n",
    "    \n",
    "    return sum([1 if help(S, w) else 0 for w in words])\n",
    "print(expressiveWords(\"abcd\", [\"abc\"]))\n",
    "print(expressiveWords(\"heeellooo\", [\"hello\", \"hi\", \"helo\"]))"
   ]
  },
  {
   "cell_type": "code",
   "execution_count": 168,
   "metadata": {},
   "outputs": [
    {
     "name": "stdout",
     "output_type": "stream",
     "text": [
      "['(1,2.3)', '(1,23)', '(1.2,3)', '(12,3)']\n"
     ]
    }
   ],
   "source": [
    "\"\"\"\n",
    "816. 模糊坐标\n",
    "https://leetcode-cn.com/problems/ambiguous-coordinates/\n",
    "\"\"\"\n",
    "import itertools\n",
    "def ambiguousCoordinates(S):\n",
    "    S = S[1:-1]\n",
    "    def help(s):\n",
    "        r = []\n",
    "        for d in range(1, len(s)+ 1):\n",
    "            left, right = s[:d], s[d:]\n",
    "            if ((not left.startswith('0') or left == '0') and (not right.endswith('0'))):\n",
    "                r.append(left + ('.' if d != len(s) else '') + right)\n",
    "        return r\n",
    "    r = []\n",
    "    return [f'({r[0]}, {r[1]})'\n",
    "            for i in range(1, len(S))\n",
    "            for r in itertools.product(help(S[:i]), help(S[i:]))]\n",
    "        \n",
    "print(ambiguousCoordinates(\"(123)\"))"
   ]
  },
  {
   "cell_type": "code",
   "execution_count": 192,
   "metadata": {},
   "outputs": [
    {
     "name": "stdout",
     "output_type": "stream",
     "text": [
      "l*****e@leetcode.com\n",
      "***-***-7890\n"
     ]
    }
   ],
   "source": [
    "\"\"\"\n",
    "831. 隐藏个人信息\n",
    "https://leetcode-cn.com/problems/masking-personal-information/\n",
    "\"\"\"\n",
    "def maskPII(S):\n",
    "    if '@' in S:\n",
    "        left, right = S.split('@')\n",
    "        return f'{left[0]}*****{left[-1]}@{right}'.lower()\n",
    "    else:\n",
    "        digits = ''.join([s for s in S if s.isdigit()])\n",
    "        local = '***-***-{}'.format(digits[-4:])\n",
    "        if len(digits) == 10:\n",
    "            return local\n",
    "        return \"+{}-\".format('*' * (len(digits) - 10)) + local\n",
    "    \n",
    "print(maskPII(\"LeetCode@LeetCode.com\"))\n",
    "print(maskPII(\"1(234)567-890\"))"
   ]
  },
  {
   "cell_type": "code",
   "execution_count": 173,
   "metadata": {},
   "outputs": [
    {
     "name": "stdout",
     "output_type": "stream",
     "text": [
      "eeebffff\n",
      "eeecd\n"
     ]
    }
   ],
   "source": [
    "\"\"\"\n",
    "833. 字符串中的查找与替换\n",
    "https://leetcode-cn.com/problems/find-and-replace-in-string/\n",
    "\"\"\"\n",
    "def findReplaceString(S, indexes, sources, targets):\n",
    "    _z = list(zip(indexes, sources, targets))\n",
    "    _z.sort()\n",
    "    indexes, sources, targets = zip(*_z)\n",
    "    S, j = list(S), 0\n",
    "    for i in range(len(indexes)):\n",
    "        _index = indexes[i] + j\n",
    "        if S[_index:_index+len(sources[i])] != list(sources[i]):\n",
    "            continue\n",
    "        S[_index:_index+len(sources[i])] = list(targets[i])\n",
    "        j += len(targets[i]) - len(sources[i])\n",
    "\n",
    "    return ''.join(S)\n",
    "\n",
    "print(findReplaceString(\"abcd\", [0,2], [\"a\", \"cd\"], [\"eee\", \"ffff\"]))\n",
    "print(findReplaceString(\"abcd\", [0,2], [\"ab\", \"ec\"], [\"eee\", \"ffff\"]))\n",
    "        "
   ]
  },
  {
   "cell_type": "code",
   "execution_count": 187,
   "metadata": {},
   "outputs": [
    {
     "name": "stdout",
     "output_type": "stream",
     "text": [
      "[123, 456, 579]\n",
      "[1, 1, 2, 3, 5, 8, 13]\n",
      "[]\n",
      "[]\n",
      "[11, 0, 11, 11]\n"
     ]
    }
   ],
   "source": [
    "\"\"\"\n",
    "842. 将数组拆分成斐波那契序列\n",
    "https://leetcode-cn.com/problems/split-array-into-fibonacci-sequence/\n",
    "\"\"\"\n",
    "def splitIntoFibonacci(S):\n",
    "    for i in range(len(S)):\n",
    "        x = S[:i+1]\n",
    "        if x != '0' and x.startswith('0'): break\n",
    "        a = int(x)\n",
    "        for j in range(i+1, len(S)):\n",
    "            y = S[i+1:j+1]\n",
    "            if y != '0' and y.startswith('0'): break\n",
    "            b = int(y)\n",
    "            fib = [a, b]\n",
    "            k = j + 1\n",
    "            while k < len(S):\n",
    "                nxt = fib[-1] + fib[-2]\n",
    "                if nxt <= 2 ** 31 - 1 and S[k:].startswith(str(nxt)):\n",
    "                    k += len(str(nxt))\n",
    "                    fib.append(nxt)\n",
    "                else:\n",
    "                    break\n",
    "            else:\n",
    "                if len(fib) >= 3:\n",
    "                    return fib\n",
    "    return []\n",
    "    \n",
    "print(splitIntoFibonacci(\"123456579\"))\n",
    "print(splitIntoFibonacci(\"11235813\"))\n",
    "print(splitIntoFibonacci(\"112358130\"))\n",
    "print(splitIntoFibonacci(\"0123\"))\n",
    "print(splitIntoFibonacci(\"1101111\"))"
   ]
  },
  {
   "cell_type": "code",
   "execution_count": 185,
   "metadata": {},
   "outputs": [
    {
     "name": "stdout",
     "output_type": "stream",
     "text": [
      "[17, 14, 9]\n",
      "rpl\n"
     ]
    }
   ],
   "source": [
    "\"\"\"\n",
    "848. 字母移位\n",
    "https://leetcode-cn.com/problems/shifting-letters/\n",
    "\"\"\"\n",
    "def shiftingLetters(S, shifts):\n",
    "    shifts = shifts[::-1]\n",
    "    for i in range(1, len(shifts)):\n",
    "        shifts[i] += shifts[i-1]\n",
    "    shifts = [s % 26 for s in shifts][::-1]\n",
    "    S = list(S)\n",
    "    for i in range(len(shifts)):\n",
    "        S[i] = chr((ord(S[i]) - ord('a') + shifts[i]) % 26 + ord('a'))\n",
    "    \n",
    "    return ''.join(S)\n",
    "\n",
    "print(shiftingLetters(\"abc\", [3,5,9]))"
   ]
  },
  {
   "cell_type": "code",
   "execution_count": 179,
   "metadata": {},
   "outputs": [
    {
     "name": "stdout",
     "output_type": "stream",
     "text": [
      "['mee', 'aqq']\n"
     ]
    }
   ],
   "source": [
    "\"\"\"\n",
    "890. 查找和替换模式\n",
    "https://leetcode-cn.com/problems/find-and-replace-pattern/\n",
    "\"\"\"\n",
    "def findAndReplacePattern(words, pattern):\n",
    "    r = []\n",
    "    for i in range(len(words)):\n",
    "        dic, j = {}, 0\n",
    "        while j < len(words[i]):\n",
    "            if pattern[j] in dic:\n",
    "                if dic[pattern[j]] != words[i][j]:\n",
    "                    break\n",
    "            else:\n",
    "                dic[pattern[j]] = words[i][j]\n",
    "            j += 1\n",
    "        \n",
    "        if j == len(words[i]) and len(set(dic.values())) == len(dic.values()):\n",
    "            r.append(words[i])\n",
    "    return r\n",
    "\n",
    "print(findAndReplacePattern([\"abc\",\"deq\",\"mee\",\"aqq\",\"dkd\",\"ccc\"], \"abb\"))"
   ]
  },
  {
   "cell_type": "code",
   "execution_count": 178,
   "metadata": {},
   "outputs": [
    {
     "name": "stdout",
     "output_type": "stream",
     "text": [
      "['google', 'leetcode']\n"
     ]
    }
   ],
   "source": [
    "\"\"\"\n",
    "916. 单词子集\n",
    "https://leetcode-cn.com/problems/word-subsets/\n",
    "\"\"\"\n",
    "import collections\n",
    "def wordSubsets(A, B):\n",
    "    count_b = collections.defaultdict(int)\n",
    "    for b in B:\n",
    "        for _b in set(b):\n",
    "            count_b[_b] = max(count_b[_b], b.count(_b))\n",
    "    def help(a):\n",
    "        count_a = collections.Counter(a)\n",
    "        for k, v in count_b.items():\n",
    "            if count_a[k] < v:\n",
    "                return False\n",
    "        return True\n",
    "    return [a for a in A if help(a)]\n",
    "\n",
    "print(wordSubsets([\"amazon\",\"apple\",\"facebook\",\"google\",\"leetcode\"], [\"lo\", \"eo\"]))"
   ]
  },
  {
   "cell_type": "code",
   "execution_count": null,
   "metadata": {},
   "outputs": [],
   "source": []
  }
 ],
 "metadata": {
  "kernelspec": {
   "display_name": "Python 3",
   "language": "python",
   "name": "python3"
  },
  "language_info": {
   "codemirror_mode": {
    "name": "ipython",
    "version": 3
   },
   "file_extension": ".py",
   "mimetype": "text/x-python",
   "name": "python",
   "nbconvert_exporter": "python",
   "pygments_lexer": "ipython3",
   "version": "3.7.3"
  }
 },
 "nbformat": 4,
 "nbformat_minor": 2
}
