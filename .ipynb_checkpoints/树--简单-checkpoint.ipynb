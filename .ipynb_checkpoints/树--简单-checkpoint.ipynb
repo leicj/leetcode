{
 "cells": [
  {
   "cell_type": "code",
   "execution_count": 1,
   "metadata": {},
   "outputs": [
    {
     "name": "stdout",
     "output_type": "stream",
     "text": [
      "True\n"
     ]
    }
   ],
   "source": [
    "# 100. 相同的树\n",
    "# https://leetcode-cn.com/problems/same-tree/\n",
    "# 解题思路\n",
    "# 1. 先判断p,q是否存在空的节点, 如果存在, 则代表终止.\n",
    "# 2. 递归判断左右子树即可.\n",
    "\n",
    "class TreeNode:\n",
    "    def __init__(self, x):\n",
    "        self.val = x\n",
    "        self.left = None\n",
    "        self.right = None\n",
    "        \n",
    "def isSameTree(p: TreeNode, q: TreeNode) -> bool:\n",
    "    if not p or not q:\n",
    "        return p == q\n",
    "    return p.val == q.val and isSameTree(p.left, q.left) and isSameTree(p.right, q.right)\n",
    "\n",
    "# 简单测试\n",
    "t1, t2, t3 = TreeNode(1), TreeNode(2), TreeNode(3)\n",
    "t4, t5, t6 = TreeNode(1), TreeNode(2), TreeNode(3)\n",
    "t1.left = t2\n",
    "t1.right = t3\n",
    "t4.left = t5\n",
    "t4.right = t6\n",
    "# True\n",
    "print(isSameTree(t1, t4))"
   ]
  },
  {
   "cell_type": "code",
   "execution_count": 2,
   "metadata": {},
   "outputs": [
    {
     "name": "stdout",
     "output_type": "stream",
     "text": [
      "True\n",
      "True\n"
     ]
    }
   ],
   "source": [
    "# 101. 对称二叉树\n",
    "# https://leetcode-cn.com/problems/symmetric-tree/\n",
    "# 解题思路\n",
    "# 1. 递归\n",
    "# 2. 迭代\n",
    "class TreeNode:\n",
    "    def __init__(self, x):\n",
    "        self.val = x\n",
    "        self.left = None\n",
    "        self.right = None\n",
    "        \n",
    "def isSymmetric(root: TreeNode) -> bool:\n",
    "    def help(left, right):\n",
    "        # left/right都为空节点\n",
    "        if not left and not right:\n",
    "            return True\n",
    "        # left/right有一个为空\n",
    "        if not (left and right):\n",
    "            return False\n",
    "        if left.val != right.val:\n",
    "            return False\n",
    "        return help(left.left, right.right) and help(left.right, right.left)\n",
    "    \n",
    "    if not root:\n",
    "        return True\n",
    "    return help(root.left, root.right)\n",
    "\n",
    "def isSymmetric1(root: TreeNode) -> bool:\n",
    "    # 如果root节点为空, 或则单个root节点, 则返回True\n",
    "    if not root or (not root.left and not root.right):\n",
    "        return True\n",
    "    # 如果left和right只有一个节点为空, 则返回False\n",
    "    if not (root.left and root.right):\n",
    "        return False\n",
    "    left = [root.left]\n",
    "    right = [root.right]\n",
    "    while left:\n",
    "        leftNode = left.pop()\n",
    "        rightNode = right.pop()\n",
    "        \n",
    "        # 如果节点不相等, 则返回False\n",
    "        if leftNode.val != rightNode.val:\n",
    "            return False\n",
    "        \n",
    "        # 将左子树的左节点和右子树的右节点写入left/right数组中\n",
    "        if leftNode.left and rightNode.right:\n",
    "            left.append(leftNode.left)\n",
    "            right.append(rightNode.right)\n",
    "        elif leftNode.left or rightNode.right:\n",
    "            return False\n",
    "        \n",
    "        # 将左子树的右节点和右子树的左节点写入left/right数组中\n",
    "        if leftNode.right and rightNode.left:\n",
    "            left.append(leftNode.right)\n",
    "            right.append(rightNode.left)\n",
    "        elif leftNode.right or rightNode.left:\n",
    "            return False\n",
    "        \n",
    "    return True\n",
    "\n",
    "# 简单测试\n",
    "t1, t2_1, t2_2, t3_1, t3_2, t4_1, t4_2 = TreeNode(1), TreeNode(2), TreeNode(2), TreeNode(3), TreeNode(3), TreeNode(4), TreeNode(4)\n",
    "t1.left, t1.right = t2_1, t2_2\n",
    "t2_1.left, t2_1.right = t3_1, t4_1\n",
    "t2_2.left, t2_2.right = t4_2, t3_2\n",
    "# True\n",
    "print(isSymmetric(t1))\n",
    "# True\n",
    "print(isSymmetric1(t1))"
   ]
  },
  {
   "cell_type": "code",
   "execution_count": 3,
   "metadata": {},
   "outputs": [
    {
     "name": "stdout",
     "output_type": "stream",
     "text": [
      "3\n"
     ]
    }
   ],
   "source": [
    "# 104. 二叉树的最大深度\n",
    "# https://leetcode-cn.com/problems/maximum-depth-of-binary-tree/\n",
    "# 解题思路\n",
    "# 1. 采用递归思想.\n",
    "# 2. 采用层序遍历的思想, 将层级带入递归体中.\n",
    "\n",
    "class TreeNode:\n",
    "    def __init__(self, x):\n",
    "        self.val = x\n",
    "        self.left = None\n",
    "        self.right = None\n",
    "        \n",
    "def maxDepth(root: TreeNode) -> int:\n",
    "    maxLevel = 0\n",
    "    def help(n, r=0):\n",
    "        nonlocal maxLevel\n",
    "        if not n:\n",
    "            if r > maxLevel:\n",
    "                maxLevel = r\n",
    "            return\n",
    "        help(n.left, r + 1)\n",
    "        help(n.right, r + 1)\n",
    "    \n",
    "    help(root)\n",
    "    return maxLevel\n",
    "\n",
    "# 简单测试\n",
    "t3, t9, t20, t15, t7 = TreeNode(3), TreeNode(9), TreeNode(20), TreeNode(15), TreeNode(7)\n",
    "t3.left, t3.right = t9, t20\n",
    "t20.left, t20.right = t15, t7\n",
    "# 3\n",
    "print(maxDepth(t3))"
   ]
  },
  {
   "cell_type": "code",
   "execution_count": 5,
   "metadata": {},
   "outputs": [
    {
     "name": "stdout",
     "output_type": "stream",
     "text": [
      "[[15, 7], [9, 20], [3]]\n",
      "[[15, 7], [9, 20], [3]]\n"
     ]
    }
   ],
   "source": [
    "# 107. 二叉树的层次遍历II\n",
    "# https://leetcode-cn.com/problems/binary-tree-level-order-traversal-ii/\n",
    "# 解题思路\n",
    "# 1. 递归\n",
    "# 2. 迭代\n",
    "\n",
    "class TreeNode:\n",
    "    def __init__(self, x):\n",
    "        self.val = x\n",
    "        self.left = None\n",
    "        self.right = None\n",
    "        \n",
    "def levelOrderBottom(root: TreeNode):\n",
    "    r = []\n",
    "    def help(n, level=0):\n",
    "        nonlocal r\n",
    "        if not n:\n",
    "            return\n",
    "        if len(r) < level + 1:\n",
    "            r.append([])\n",
    "        r[level].append(n.val)\n",
    "        help(n.left, level + 1)\n",
    "        help(n.right, level + 1)\n",
    "    \n",
    "    help(root)\n",
    "    return r[::-1]\n",
    "        \n",
    "def levelOrderBottom1(root: TreeNode):\n",
    "    if not root:\n",
    "        return []\n",
    "    stack = [root]\n",
    "    output = []\n",
    "    while stack:\n",
    "        temp = []\n",
    "        for i in range(len(stack)):\n",
    "            res = stack.pop(0)\n",
    "            if res:\n",
    "                temp.append(res.val)\n",
    "                if res.left:\n",
    "                    stack.append(res.left)\n",
    "                if res.right:\n",
    "                    stack.append(res.right)\n",
    "        output.append(temp)\n",
    "    return output[::-1]\n",
    "\n",
    "\n",
    "# 简单测试\n",
    "t3, t9, t20, t15, t7 = TreeNode(3), TreeNode(9), TreeNode(20), TreeNode(15), TreeNode(7)\n",
    "t3.left, t3.right = t9, t20\n",
    "t20.left, t20.right = t15, t7\n",
    "# [[15, 7], [9, 20], [3]]\n",
    "print(levelOrderBottom(t3))\n",
    "# [[15, 7], [9, 20], [3]]\n",
    "print(levelOrderBottom1(t3))\n"
   ]
  },
  {
   "cell_type": "code",
   "execution_count": 6,
   "metadata": {},
   "outputs": [
    {
     "name": "stdout",
     "output_type": "stream",
     "text": [
      "<__main__.TreeNode object at 0x10663e3c8>\n"
     ]
    }
   ],
   "source": [
    "# 108. 将有序数组转换为二叉搜索树\n",
    "# https://leetcode-cn.com/problems/convert-sorted-array-to-binary-search-tree/\n",
    "# 解题思路\n",
    "# 1. 递归\n",
    "# 2. 数组的中间值作为根节点; 左边数组为左子树, 右边数组为右子树.\n",
    "\n",
    "class TreeNode:\n",
    "    def __init__(self, x):\n",
    "        self.val = x\n",
    "        self.left = None\n",
    "        self.right = None\n",
    "        \n",
    "def sortedArrayToBST(nums) -> TreeNode:\n",
    "    def help(_nums):\n",
    "        if not _nums:\n",
    "            return None\n",
    "        mid = len(_nums) // 2\n",
    "        node = TreeNode(_nums[mid])\n",
    "        node.left, node.right = help(_nums[0:mid]), help(_nums[mid + 1:])\n",
    "        return node\n",
    "    \n",
    "    return help(nums)\n",
    "\n",
    "# 简单测试\n",
    "print(sortedArrayToBST([-10,-3,0,5,9]))"
   ]
  },
  {
   "cell_type": "code",
   "execution_count": 7,
   "metadata": {},
   "outputs": [
    {
     "name": "stdout",
     "output_type": "stream",
     "text": [
      "True\n"
     ]
    }
   ],
   "source": [
    "# 110. 平衡二叉树\n",
    "# https://leetcode-cn.com/problems/balanced-binary-tree/\n",
    "# 解题思路\n",
    "# 1. 定义变量flag, 表明左右子树的高度差是否已经超过1.\n",
    "# 2. 递归获取树的高度, 然后判断左右子树的高度差. 如果超过1, 则flag = False; 每次递归都判断flag即可.\n",
    "# 3. 如果正常, 则返回左右子树中高度最大的值 + 1.\n",
    "\n",
    "class TreeNode:\n",
    "    def __init__(self, x):\n",
    "        self.val = x\n",
    "        self.left = None\n",
    "        self.right = None\n",
    "        \n",
    "def isBalanced(root: TreeNode) -> bool:\n",
    "    flag = True\n",
    "    def help(node):\n",
    "        nonlocal flag\n",
    "        if not flag or not node:\n",
    "            return 0\n",
    "        left, right = help(node.left), help(node.right)\n",
    "        if abs(left - right) > 1:\n",
    "            flag = False\n",
    "            return 0\n",
    "        else:\n",
    "            return max(left, right) + 1\n",
    "        \n",
    "    help(root)\n",
    "    return flag\n",
    "\n",
    "# 简单测试\n",
    "t3, t9, t20, t15, t7 = TreeNode(3), TreeNode(9), TreeNode(20), TreeNode(15), TreeNode(7)\n",
    "t3.left, t3.right = t9, t20\n",
    "t20.left, t20.right = t15, t7\n",
    "# True\n",
    "print(isBalanced(t3))"
   ]
  },
  {
   "cell_type": "code",
   "execution_count": 8,
   "metadata": {},
   "outputs": [
    {
     "name": "stdout",
     "output_type": "stream",
     "text": [
      "2\n"
     ]
    }
   ],
   "source": [
    "# 111. 二叉树的最小深度\n",
    "# https://leetcode-cn.com/problems/minimum-depth-of-binary-tree/\n",
    "# 解题思路\n",
    "# 1. 递归的关键判断是: 只要有一个节点的高度为0, 就要终止递归, 返回其值.\n",
    "# 2. 否则, 返回左右子树的最小值 + 1\n",
    "\n",
    "class TreeNode:\n",
    "    def __init__(self, x):\n",
    "        self.val = x\n",
    "        self.left = None\n",
    "        self.right = None\n",
    "\n",
    "def minDepth(root: TreeNode) -> int:\n",
    "    def help(node):\n",
    "        if not node:\n",
    "            return 0\n",
    "        left, right = help(node.left), help(node.right)\n",
    "        return (left + right + 1) if (left == 0 or right == 0) else (min(left, right) + 1)\n",
    "    \n",
    "    return help(root)\n",
    "\n",
    "# 简单测试\n",
    "t3, t9, t20, t15, t7 = TreeNode(3), TreeNode(9), TreeNode(20), TreeNode(15), TreeNode(7)\n",
    "t3.left, t3.right = t9, t20\n",
    "t20.left, t20.right = t15, t7\n",
    "# 2\n",
    "print(minDepth(t3))"
   ]
  },
  {
   "cell_type": "code",
   "execution_count": 9,
   "metadata": {},
   "outputs": [
    {
     "name": "stdout",
     "output_type": "stream",
     "text": [
      "True\n"
     ]
    }
   ],
   "source": [
    "# 112. 路径总和\n",
    "# https://leetcode-cn.com/problems/path-sum/\n",
    "\n",
    "class TreeNode:\n",
    "    def __init__(self, x):\n",
    "        self.val = x\n",
    "        self.left = None\n",
    "        self.right = None\n",
    "        \n",
    "def hasPathSum(root: TreeNode, sum: int) -> bool:\n",
    "    flag = False\n",
    "    def help(node, _sum=0):\n",
    "        nonlocal sum, flag\n",
    "        if not node or flag:\n",
    "            return\n",
    "        if not node.left and not node.right:\n",
    "            if node.val + _sum == sum:\n",
    "                flag = True\n",
    "        else:\n",
    "            help(node.left, _sum + node.val)\n",
    "            help(node.right, _sum + node.val)\n",
    "    \n",
    "    help(root)\n",
    "    return flag\n",
    "\n",
    "# 简单测试\n",
    "t5, t4, t8, t11, t13, t4_1, t7, t2, t1 = TreeNode(5), TreeNode(4), TreeNode(8), TreeNode(11), TreeNode(13), TreeNode(4), TreeNode(7), TreeNode(2), TreeNode(1)\n",
    "t5.left, t5.right = t4, t8\n",
    "t4.left = t11\n",
    "t8.left, t8.right = t13, t4_1\n",
    "t11.left, t11.right = t7, t2\n",
    "t4.right = t1\n",
    "# True\n",
    "print(hasPathSum(t5, 22))"
   ]
  },
  {
   "cell_type": "code",
   "execution_count": 10,
   "metadata": {},
   "outputs": [
    {
     "name": "stdout",
     "output_type": "stream",
     "text": [
      "<__main__.TreeNode object at 0x1065e3208>\n"
     ]
    }
   ],
   "source": [
    "# 226. 翻转二叉树\n",
    "# https://leetcode-cn.com/problems/invert-binary-tree/\n",
    "\n",
    "class TreeNode:\n",
    "    def __init__(self, x):\n",
    "        self.val = x\n",
    "        self.left = None\n",
    "        self.right = None\n",
    "        \n",
    "def invertTree(root: TreeNode) -> TreeNode:\n",
    "    if not root:\n",
    "        return None\n",
    "    root.left, root.right = invertTree(root.right), invertTree(root.left)\n",
    "    return root\n",
    "\n",
    "# 简单测试\n",
    "t4, t2, t7 = TreeNode(4), TreeNode(2), TreeNode(7)\n",
    "t4.left, t4.right = t2, t7\n",
    "print(invertTree(t4))"
   ]
  },
  {
   "cell_type": "code",
   "execution_count": 11,
   "metadata": {},
   "outputs": [],
   "source": [
    "# 235. 二叉搜索树的最近公共祖先\n",
    "# https://leetcode-cn.com/problems/lowest-common-ancestor-of-a-binary-search-tree/\n",
    "\n",
    "class TreeNode:\n",
    "    def __init__(self, x):\n",
    "        self.val = x\n",
    "        self.left = None\n",
    "        self.right = None\n",
    "        \n",
    "def lowestCommonAncestor(root: TreeNode, p: TreeNode, q: TreeNode) -> TreeNode:\n",
    "    if root.val > p.val and root.val > q.val:\n",
    "        return lowestCommonAncestor(root.left, p, q)\n",
    "    if root.val < p.val and root.val < q.val:\n",
    "        return lowestCommonAncestor(root.right, p, q)\n",
    "    return root"
   ]
  },
  {
   "cell_type": "code",
   "execution_count": null,
   "metadata": {},
   "outputs": [],
   "source": []
  }
 ],
 "metadata": {
  "kernelspec": {
   "display_name": "Python 3",
   "language": "python",
   "name": "python3"
  },
  "language_info": {
   "codemirror_mode": {
    "name": "ipython",
    "version": 3
   },
   "file_extension": ".py",
   "mimetype": "text/x-python",
   "name": "python",
   "nbconvert_exporter": "python",
   "pygments_lexer": "ipython3",
   "version": "3.7.3"
  }
 },
 "nbformat": 4,
 "nbformat_minor": 2
}
