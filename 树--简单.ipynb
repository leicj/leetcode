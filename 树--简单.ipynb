{
 "cells": [
  {
   "cell_type": "code",
   "execution_count": 25,
   "metadata": {},
   "outputs": [],
   "source": [
    "# 将规范的数组, 转化为树型结构\n",
    "class TreeNode:\n",
    "    def __init__(self, x):\n",
    "        self.val = x\n",
    "        self.left = None\n",
    "        self.right = None\n",
    "\n",
    "class Node:\n",
    "    def __init__(self, val, children=[]):\n",
    "        self.val = val\n",
    "        self.children = children\n",
    "        \n",
    "def array2tree(arr):\n",
    "    n = arr.pop(0)\n",
    "    root = None if n is None else TreeNode(n)\n",
    "    queue = [root]\n",
    "    while arr and queue:\n",
    "        node = queue.pop(0)\n",
    "        if node is None:\n",
    "            continue\n",
    "        \n",
    "        n1 = arr.pop(0)\n",
    "        node.left = None if n1 is None else TreeNode(n1)\n",
    "        queue.append(node.left)\n",
    "        if arr:\n",
    "            n2 = arr.pop(0)\n",
    "            node.right = None if n2 is None else TreeNode(n2)\n",
    "            queue.append(node.right)\n",
    "    return root"
   ]
  },
  {
   "cell_type": "code",
   "execution_count": 8,
   "metadata": {},
   "outputs": [
    {
     "name": "stdout",
     "output_type": "stream",
     "text": [
      "True\n",
      "False\n"
     ]
    }
   ],
   "source": [
    "# 100. 相同的树\n",
    "# https://leetcode-cn.com/problems/same-tree/\n",
    "# 解题思路\n",
    "# 1. 先判断p,q是否存在空的节点, 如果存在, 则代表终止.\n",
    "# 2. 递归判断左右子树即可.\n",
    "        \n",
    "def isSameTree(p: TreeNode, q: TreeNode) -> bool:\n",
    "    if not p or not q:\n",
    "        return p == q\n",
    "    return p.val == q.val and isSameTree(p.left, q.left) and isSameTree(p.right, q.right)\n",
    "\n",
    "# 简单测试\n",
    "t1 = array2tree([1,2,3])\n",
    "t2 = array2tree([1,2,3])\n",
    "t3 = array2tree([1,3,2])\n",
    "# True\n",
    "print(isSameTree(t1, t2))\n",
    "# False\n",
    "print(isSameTree(t1, t3))"
   ]
  },
  {
   "cell_type": "code",
   "execution_count": 9,
   "metadata": {},
   "outputs": [
    {
     "name": "stdout",
     "output_type": "stream",
     "text": [
      "True\n",
      "True\n"
     ]
    }
   ],
   "source": [
    "# 101. 对称二叉树\n",
    "# https://leetcode-cn.com/problems/symmetric-tree/\n",
    "# 解题思路\n",
    "# 1. 递归\n",
    "# 2. 迭代\n",
    "        \n",
    "def isSymmetric(root: TreeNode) -> bool:\n",
    "    def help(left, right):\n",
    "        # left/right都为空节点\n",
    "        if not left and not right:\n",
    "            return True\n",
    "        # left/right有一个为空\n",
    "        if not (left and right):\n",
    "            return False\n",
    "        if left.val != right.val:\n",
    "            return False\n",
    "        return help(left.left, right.right) and help(left.right, right.left)\n",
    "    \n",
    "    if not root:\n",
    "        return True\n",
    "    return help(root.left, root.right)\n",
    "\n",
    "def isSymmetric1(root: TreeNode) -> bool:\n",
    "    # 如果root节点为空, 或则单个root节点, 则返回True\n",
    "    if not root or (not root.left and not root.right):\n",
    "        return True\n",
    "    # 如果left和right只有一个节点为空, 则返回False\n",
    "    if not (root.left and root.right):\n",
    "        return False\n",
    "    left = [root.left]\n",
    "    right = [root.right]\n",
    "    while left:\n",
    "        leftNode = left.pop()\n",
    "        rightNode = right.pop()\n",
    "        \n",
    "        # 如果节点不相等, 则返回False\n",
    "        if leftNode.val != rightNode.val:\n",
    "            return False\n",
    "        \n",
    "        # 将左子树的左节点和右子树的右节点写入left/right数组中\n",
    "        if leftNode.left and rightNode.right:\n",
    "            left.append(leftNode.left)\n",
    "            right.append(rightNode.right)\n",
    "        elif leftNode.left or rightNode.right:\n",
    "            return False\n",
    "        \n",
    "        # 将左子树的右节点和右子树的左节点写入left/right数组中\n",
    "        if leftNode.right and rightNode.left:\n",
    "            left.append(leftNode.right)\n",
    "            right.append(rightNode.left)\n",
    "        elif leftNode.right or rightNode.left:\n",
    "            return False\n",
    "        \n",
    "    return True\n",
    "\n",
    "# 简单测试\n",
    "t1 = array2tree([1,2,2,3,4,4,3])\n",
    "# True\n",
    "print(isSymmetric(t1))\n",
    "# True\n",
    "print(isSymmetric1(t1))"
   ]
  },
  {
   "cell_type": "code",
   "execution_count": 10,
   "metadata": {},
   "outputs": [
    {
     "name": "stdout",
     "output_type": "stream",
     "text": [
      "3\n"
     ]
    }
   ],
   "source": [
    "# 104. 二叉树的最大深度\n",
    "# https://leetcode-cn.com/problems/maximum-depth-of-binary-tree/\n",
    "# 解题思路\n",
    "# 1. 采用递归思想.\n",
    "# 2. 采用层序遍历的思想, 将层级带入递归体中.\n",
    "        \n",
    "def maxDepth(root: TreeNode) -> int:\n",
    "    maxLevel = 0\n",
    "    def help(n, r=0):\n",
    "        nonlocal maxLevel\n",
    "        if not n:\n",
    "            if r > maxLevel:\n",
    "                maxLevel = r\n",
    "            return\n",
    "        help(n.left, r + 1)\n",
    "        help(n.right, r + 1)\n",
    "    \n",
    "    help(root)\n",
    "    return maxLevel\n",
    "\n",
    "# 简单测试\n",
    "t = array2tree([3,9,20,None,None,15,7])\n",
    "# 3\n",
    "print(maxDepth(t))"
   ]
  },
  {
   "cell_type": "code",
   "execution_count": 11,
   "metadata": {},
   "outputs": [
    {
     "name": "stdout",
     "output_type": "stream",
     "text": [
      "[[15, 7], [9, 20], [3]]\n",
      "[[15, 7], [9, 20], [3]]\n"
     ]
    }
   ],
   "source": [
    "# 107. 二叉树的层次遍历II\n",
    "# https://leetcode-cn.com/problems/binary-tree-level-order-traversal-ii/\n",
    "# 解题思路\n",
    "# 1. 递归\n",
    "# 2. 迭代\n",
    "        \n",
    "def levelOrderBottom(root: TreeNode):\n",
    "    r = []\n",
    "    def help(n, level=0):\n",
    "        nonlocal r\n",
    "        if not n:\n",
    "            return\n",
    "        if len(r) < level + 1:\n",
    "            r.append([])\n",
    "        r[level].append(n.val)\n",
    "        help(n.left, level + 1)\n",
    "        help(n.right, level + 1)\n",
    "    \n",
    "    help(root)\n",
    "    return r[::-1]\n",
    "        \n",
    "def levelOrderBottom1(root: TreeNode):\n",
    "    if not root:\n",
    "        return []\n",
    "    stack = [root]\n",
    "    output = []\n",
    "    while stack:\n",
    "        temp = []\n",
    "        for i in range(len(stack)):\n",
    "            res = stack.pop(0)\n",
    "            if res:\n",
    "                temp.append(res.val)\n",
    "                if res.left:\n",
    "                    stack.append(res.left)\n",
    "                if res.right:\n",
    "                    stack.append(res.right)\n",
    "        output.append(temp)\n",
    "    return output[::-1]\n",
    "\n",
    "\n",
    "# 简单测试\n",
    "t = array2tree([3,9,20,None,None,15,7])\n",
    "# [[15, 7], [9, 20], [3]]\n",
    "print(levelOrderBottom(t))\n",
    "# [[15, 7], [9, 20], [3]]\n",
    "print(levelOrderBottom1(t))\n"
   ]
  },
  {
   "cell_type": "code",
   "execution_count": 12,
   "metadata": {},
   "outputs": [
    {
     "name": "stdout",
     "output_type": "stream",
     "text": [
      "<__main__.TreeNode object at 0x105d5cef0>\n"
     ]
    }
   ],
   "source": [
    "# 108. 将有序数组转换为二叉搜索树\n",
    "# https://leetcode-cn.com/problems/convert-sorted-array-to-binary-search-tree/\n",
    "# 解题思路\n",
    "# 1. 递归\n",
    "# 2. 数组的中间值作为根节点; 左边数组为左子树, 右边数组为右子树.\n",
    "        \n",
    "def sortedArrayToBST(nums) -> TreeNode:\n",
    "    def help(_nums):\n",
    "        if not _nums:\n",
    "            return None\n",
    "        mid = len(_nums) // 2\n",
    "        node = TreeNode(_nums[mid])\n",
    "        node.left, node.right = help(_nums[0:mid]), help(_nums[mid + 1:])\n",
    "        return node\n",
    "    \n",
    "    return help(nums)\n",
    "\n",
    "# 简单测试\n",
    "print(sortedArrayToBST([-10,-3,0,5,9]))"
   ]
  },
  {
   "cell_type": "code",
   "execution_count": 13,
   "metadata": {},
   "outputs": [
    {
     "name": "stdout",
     "output_type": "stream",
     "text": [
      "True\n"
     ]
    }
   ],
   "source": [
    "# 110. 平衡二叉树\n",
    "# https://leetcode-cn.com/problems/balanced-binary-tree/\n",
    "# 解题思路\n",
    "# 1. 定义变量flag, 表明左右子树的高度差是否已经超过1.\n",
    "# 2. 递归获取树的高度, 然后判断左右子树的高度差. 如果超过1, 则flag = False; 每次递归都判断flag即可.\n",
    "# 3. 如果正常, 则返回左右子树中高度最大的值 + 1.\n",
    "        \n",
    "def isBalanced(root: TreeNode) -> bool:\n",
    "    flag = True\n",
    "    def help(node):\n",
    "        nonlocal flag\n",
    "        if not flag or not node:\n",
    "            return 0\n",
    "        left, right = help(node.left), help(node.right)\n",
    "        if abs(left - right) > 1:\n",
    "            flag = False\n",
    "            return 0\n",
    "        else:\n",
    "            return max(left, right) + 1\n",
    "        \n",
    "    help(root)\n",
    "    return flag\n",
    "\n",
    "# 简单测试\n",
    "t = array2tree([3,9,20,None,None,15,7])\n",
    "# True\n",
    "print(isBalanced(t))"
   ]
  },
  {
   "cell_type": "code",
   "execution_count": 14,
   "metadata": {},
   "outputs": [
    {
     "name": "stdout",
     "output_type": "stream",
     "text": [
      "2\n"
     ]
    }
   ],
   "source": [
    "# 111. 二叉树的最小深度\n",
    "# https://leetcode-cn.com/problems/minimum-depth-of-binary-tree/\n",
    "# 解题思路\n",
    "# 1. 递归的关键判断是: 只要有一个节点的高度为0, 就要终止递归, 返回其值.\n",
    "# 2. 否则, 返回左右子树的最小值 + 1\n",
    "\n",
    "def minDepth(root: TreeNode) -> int:\n",
    "    def help(node):\n",
    "        if not node:\n",
    "            return 0\n",
    "        left, right = help(node.left), help(node.right)\n",
    "        return (left + right + 1) if (left == 0 or right == 0) else (min(left, right) + 1)\n",
    "    \n",
    "    return help(root)\n",
    "\n",
    "# 简单测试\n",
    "t = array2tree([3,9,20,None,None,15,7])\n",
    "# 2\n",
    "print(minDepth(t))"
   ]
  },
  {
   "cell_type": "code",
   "execution_count": 15,
   "metadata": {},
   "outputs": [
    {
     "name": "stdout",
     "output_type": "stream",
     "text": [
      "True\n"
     ]
    }
   ],
   "source": [
    "# 112. 路径总和\n",
    "# https://leetcode-cn.com/problems/path-sum/\n",
    "        \n",
    "def hasPathSum(root: TreeNode, sum: int) -> bool:\n",
    "    flag = False\n",
    "    def help(node, _sum=0):\n",
    "        nonlocal sum, flag\n",
    "        if not node or flag:\n",
    "            return\n",
    "        if not node.left and not node.right:\n",
    "            if node.val + _sum == sum:\n",
    "                flag = True\n",
    "        else:\n",
    "            help(node.left, _sum + node.val)\n",
    "            help(node.right, _sum + node.val)\n",
    "    \n",
    "    help(root)\n",
    "    return flag\n",
    "\n",
    "# 简单测试\n",
    "t = array2tree([5,4,8,11,None,13,4,7,2,None,None,None,1])\n",
    "# True\n",
    "print(hasPathSum(t, 22))"
   ]
  },
  {
   "cell_type": "code",
   "execution_count": 16,
   "metadata": {},
   "outputs": [
    {
     "name": "stdout",
     "output_type": "stream",
     "text": [
      "<__main__.TreeNode object at 0x105d5cfd0>\n"
     ]
    }
   ],
   "source": [
    "# 226. 翻转二叉树\n",
    "# https://leetcode-cn.com/problems/invert-binary-tree/\n",
    "        \n",
    "def invertTree(root: TreeNode) -> TreeNode:\n",
    "    if not root:\n",
    "        return None\n",
    "    root.left, root.right = invertTree(root.right), invertTree(root.left)\n",
    "    return root\n",
    "\n",
    "# 简单测试\n",
    "t = array2tree([4,2,7,1,3,6,9])\n",
    "print(invertTree(t))"
   ]
  },
  {
   "cell_type": "code",
   "execution_count": 17,
   "metadata": {},
   "outputs": [],
   "source": [
    "# 235. 二叉搜索树的最近公共祖先\n",
    "# https://leetcode-cn.com/problems/lowest-common-ancestor-of-a-binary-search-tree/\n",
    "        \n",
    "def lowestCommonAncestor(root: TreeNode, p: TreeNode, q: TreeNode) -> TreeNode:\n",
    "    if root.val > p.val and root.val > q.val:\n",
    "        return lowestCommonAncestor(root.left, p, q)\n",
    "    if root.val < p.val and root.val < q.val:\n",
    "        return lowestCommonAncestor(root.right, p, q)\n",
    "    return root"
   ]
  },
  {
   "cell_type": "code",
   "execution_count": 18,
   "metadata": {},
   "outputs": [
    {
     "name": "stdout",
     "output_type": "stream",
     "text": [
      "['1->2->5', '1->3']\n"
     ]
    }
   ],
   "source": [
    "# 257. 二叉树的所有路径\n",
    "# https://leetcode-cn.com/problems/binary-tree-paths/\n",
    "# 解题思路\n",
    "# 1. 递归实现\n",
    "        \n",
    "def binaryTreePaths(root: TreeNode):\n",
    "    r = []\n",
    "    def help(node, path=''):\n",
    "        if not node:\n",
    "            return\n",
    "        if not node.left and not node.right:\n",
    "            r.append(path + str(node.val))\n",
    "            return\n",
    "        path += f'{node.val}->'\n",
    "        help(node.left, path)\n",
    "        help(node.right, path)\n",
    "    \n",
    "    help(root)\n",
    "    return r\n",
    "\n",
    "# 简单测试\n",
    "t = array2tree([1,2,3,None,5])\n",
    "# ['1->2->5', '1->3']\n",
    "print(binaryTreePaths(t))"
   ]
  },
  {
   "cell_type": "code",
   "execution_count": 19,
   "metadata": {},
   "outputs": [
    {
     "name": "stdout",
     "output_type": "stream",
     "text": [
      "24\n"
     ]
    }
   ],
   "source": [
    "# 404. 左叶子之和\n",
    "# https://leetcode-cn.com/problems/sum-of-left-leaves/\n",
    "# 解题思路\n",
    "# 1. 递归处理\n",
    "# 2. 定义变量isLeft代表是否为左节点\n",
    "        \n",
    "def sumOfLeftLeaves(root: TreeNode) -> int:\n",
    "    r = 0\n",
    "    def help(node, isLeft=False):\n",
    "        nonlocal r\n",
    "        if not node:\n",
    "            return\n",
    "        if isLeft and not node.left and not node.right:\n",
    "            r += node.val\n",
    "        help(node.left, True)\n",
    "        help(node.right, False)\n",
    "    \n",
    "    help(root)\n",
    "    return r\n",
    "\n",
    "# 简单测试\n",
    "t = array2tree([3,9,20,None,None,15,7])\n",
    "# 24\n",
    "print(sumOfLeftLeaves(t))"
   ]
  },
  {
   "cell_type": "code",
   "execution_count": 7,
   "metadata": {},
   "outputs": [
    {
     "name": "stdout",
     "output_type": "stream",
     "text": [
      "[[1], [3, 2, 4], [5, 6]]\n"
     ]
    }
   ],
   "source": [
    "# 429. N叉树的层序遍历\n",
    "# https://leetcode-cn.com/problems/n-ary-tree-level-order-traversal/\n",
    "        \n",
    "def levelOrder(root: Node):\n",
    "    r = []\n",
    "    def help(node, level=0):\n",
    "        nonlocal r\n",
    "        if not node:\n",
    "            return\n",
    "        if level >= len(r):\n",
    "            r.append([])\n",
    "        \n",
    "        r[level].append(node.val)\n",
    "        for c in node.children:\n",
    "            help(c, level + 1)\n",
    "            \n",
    "    help(root)\n",
    "    return r\n",
    "\n",
    "# 简单测试\n",
    "t1, t2, t3, t4, t5, t6 = Node(1), Node(2), Node(3), Node(4), Node(5), Node(6)\n",
    "t1.children = [t3, t2, t4]\n",
    "t3.children = [t5, t6]\n",
    "# [[1], [3, 2, 4], [5, 6]]\n",
    "print(levelOrder(t1))"
   ]
  },
  {
   "cell_type": "code",
   "execution_count": 20,
   "metadata": {},
   "outputs": [
    {
     "name": "stdout",
     "output_type": "stream",
     "text": [
      "3\n",
      "3\n"
     ]
    }
   ],
   "source": [
    "# 437. 路径总和III\n",
    "# https://leetcode-cn.com/problems/path-sum-iii/\n",
    "# 解题思路\n",
    "# 1. 对每个节点进行递归处理\n",
    "# 2. LeetCode上的优质答案\n",
    "        \n",
    "def pathSum(root: TreeNode, sum: int) -> int:\n",
    "    count = 0\n",
    "    def check(node, _sum):\n",
    "        nonlocal count\n",
    "        if not node:\n",
    "            return\n",
    "        if node.val == _sum:\n",
    "            count += 1\n",
    "        check(node.left, _sum - node.val)\n",
    "        check(node.right, _sum - node.val)\n",
    "    \n",
    "    def help(node):\n",
    "        if not node:\n",
    "            return\n",
    "        check(node, sum)\n",
    "        help(node.left)\n",
    "        help(node.right)\n",
    "        \n",
    "    help(root)\n",
    "    return count\n",
    "\n",
    "import collections\n",
    "def pathSum1(root: TreeNode, sum: int) -> int:\n",
    "    def dfs(node, curSum):\n",
    "        nonlocal count\n",
    "        count += d[curSum - sum]\n",
    "        d[curSum] += 1\n",
    "        if node.left:\n",
    "            dfs(node.left, curSum + node.left.val)\n",
    "        if node.right:\n",
    "            dfs(node.right, curSum + node.right.val)\n",
    "        d[curSum] -= 1\n",
    "    \n",
    "    count = 0\n",
    "    d = collections.defaultdict(int)\n",
    "    d[0] = 1\n",
    "    if root:\n",
    "        dfs(root, root.val)\n",
    "    return count\n",
    "\n",
    "# 简单测试\n",
    "t = array2tree([10,5,-3,3,2,None,11,3,-2,None,1])\n",
    "# 3\n",
    "print(pathSum(t, 8))\n",
    "# 3\n",
    "print(pathSum1(t, 8))"
   ]
  },
  {
   "cell_type": "code",
   "execution_count": 7,
   "metadata": {},
   "outputs": [
    {
     "name": "stdout",
     "output_type": "stream",
     "text": [
      "[2]\n",
      "[2]\n"
     ]
    }
   ],
   "source": [
    "# 501. 二叉搜索树中的众数\n",
    "# https://leetcode-cn.com/problems/find-mode-in-binary-search-tree/\n",
    "  \n",
    "def findMode(root: TreeNode):\n",
    "    maxNum, prev, num, r = float(\"-inf\"), None, 1, []\n",
    "    def help(node):\n",
    "        nonlocal maxNum, prev, num, r\n",
    "        if not node:\n",
    "            return\n",
    "        help(node.left)\n",
    "        if prev:\n",
    "            num = num + 1 if prev.val == node.val else 1\n",
    "        if num >= maxNum:\n",
    "            if num > maxNum:\n",
    "                r = []\n",
    "            r.append(node.val)\n",
    "            maxNum = num\n",
    "        prev = node\n",
    "        help(node.right)\n",
    "        \n",
    "    help(root)\n",
    "    return r\n",
    "\n",
    "# 简单测试\n",
    "t = array2tree([1,None,2,2])\n",
    "t1 = array2tree([2,1,2])\n",
    "print(findMode(t))\n",
    "print(findMode(t1))"
   ]
  },
  {
   "cell_type": "code",
   "execution_count": 21,
   "metadata": {},
   "outputs": [
    {
     "name": "stdout",
     "output_type": "stream",
     "text": [
      "2\n"
     ]
    }
   ],
   "source": [
    "# 530. 二叉搜索树的最小绝对差\n",
    "# https://leetcode-cn.com/problems/minimum-absolute-difference-in-bst/\n",
    "# 解题思路\n",
    "# 1. 中序遍历成数组\n",
    "\n",
    "def getMinimumDifference(root: TreeNode) -> int:\n",
    "    r, v = [], float(\"inf\")\n",
    "    def help(node):\n",
    "        nonlocal r\n",
    "        if not node:\n",
    "            return\n",
    "        help(node.left)\n",
    "        r.append(node.val)\n",
    "        help(node.right)\n",
    "    help(root)\n",
    "    for i in range(len(r) - 1):\n",
    "        if r[i + 1] - r[i] < v:\n",
    "            v = r[i + 1] - r[i]\n",
    "            \n",
    "    return v\n",
    "\n",
    "# 简单测试\n",
    "t = array2tree([1,None,3,None,None,2])\n",
    "# 2\n",
    "print(getMinimumDifference(t))"
   ]
  },
  {
   "cell_type": "code",
   "execution_count": 23,
   "metadata": {},
   "outputs": [
    {
     "name": "stdout",
     "output_type": "stream",
     "text": [
      "<__main__.TreeNode object at 0x105d5ccc0>\n"
     ]
    }
   ],
   "source": [
    "# 538. 把二叉搜索树转换为累加树\n",
    "# https://leetcode-cn.com/problems/convert-bst-to-greater-tree/\n",
    "# 解题思路\n",
    "# 1. 暴力破解法(将树存储为数组, 然后累加)\n",
    "\n",
    "def convertBST(root: TreeNode) -> TreeNode:\n",
    "    r = []\n",
    "    def help(node):\n",
    "        if not node:\n",
    "            return\n",
    "        help(node.left)\n",
    "        r.append(node)\n",
    "        help(node.right)\n",
    "    \n",
    "    help(root)\n",
    "    for i in range(len(r) - 1, 0, -1):\n",
    "        r[i - 1].val += r[i].val\n",
    "    \n",
    "    return root\n",
    "\n",
    "# 简单测试\n",
    "t = array2tree([5,2,13])\n",
    "print(convertBST(t))"
   ]
  },
  {
   "cell_type": "code",
   "execution_count": 24,
   "metadata": {},
   "outputs": [
    {
     "name": "stdout",
     "output_type": "stream",
     "text": [
      "3\n"
     ]
    }
   ],
   "source": [
    "# 543. 二叉树的直径\n",
    "# https://leetcode-cn.com/problems/diameter-of-binary-tree/\n",
    "\n",
    "def diameterOfBinaryTree(root: TreeNode) -> int:\n",
    "    maxPathLen = 0\n",
    "    def help(node):\n",
    "        nonlocal maxPathLen\n",
    "        if not node:\n",
    "            return 0\n",
    "        max1, max2 = help(node.left), help(node.right)\n",
    "        if max1 + max2 > maxPathLen:\n",
    "            maxPathLen = max1 + max2\n",
    "        return max(max1, max2) + 1\n",
    "    \n",
    "    help(root)\n",
    "    return maxPathLen\n",
    "\n",
    "# 简单测试\n",
    "t = array2tree([1,2,3,4,5])\n",
    "# 3\n",
    "print(diameterOfBinaryTree(t))"
   ]
  },
  {
   "cell_type": "code",
   "execution_count": 26,
   "metadata": {},
   "outputs": [
    {
     "name": "stdout",
     "output_type": "stream",
     "text": [
      "3\n"
     ]
    }
   ],
   "source": [
    "# 559. N叉树的最大深度\n",
    "# https://leetcode-cn.com/problems/maximum-depth-of-n-ary-tree/\n",
    "\n",
    "def maxDepth(root: Node) -> int:\n",
    "    if not root:\n",
    "        return 0\n",
    "    maxLevel = 0\n",
    "    def help(node, level=0):\n",
    "        nonlocal maxLevel\n",
    "        if not node:\n",
    "            return\n",
    "        if level > maxLevel:\n",
    "            maxLevel = level\n",
    "        for c in node.children:\n",
    "            help(c, level + 1)\n",
    "    \n",
    "    help(root)\n",
    "    return maxLevel + 1\n",
    "\n",
    "# 简单测试\n",
    "t1, t2, t3, t4, t5, t6 = Node(1), Node(2), Node(3), Node(4), Node(5), Node(6)\n",
    "t1.children = [t3, t2, t4]\n",
    "t3.children = [t5, t6]\n",
    "# 3\n",
    "print(maxDepth(t1))"
   ]
  },
  {
   "cell_type": "code",
   "execution_count": 28,
   "metadata": {},
   "outputs": [
    {
     "name": "stdout",
     "output_type": "stream",
     "text": [
      "43\n",
      "43\n"
     ]
    }
   ],
   "source": [
    "# 563. 二叉树的坡度\n",
    "# https://leetcode-cn.com/problems/binary-tree-tilt/\n",
    "# 解题思路\n",
    "# 1. 暴力破解法\n",
    "\n",
    "def findTilt(root: TreeNode) -> int:\n",
    "    r = 0\n",
    "    def getSum(node):\n",
    "        return node.val + getSum(node.left) + getSum(node.right) if node else 0\n",
    "        \n",
    "    def help(node):\n",
    "        nonlocal r\n",
    "        if not node:\n",
    "            return\n",
    "        \n",
    "        r += abs(getSum(node.left) - getSum(node.right))\n",
    "        if node.left:\n",
    "            help(node.left)\n",
    "        if node.right:\n",
    "            help(node.right)\n",
    "    \n",
    "    help(root)\n",
    "    return r\n",
    "\n",
    "def findTilt1(root: TreeNode) -> int:\n",
    "    r = 0\n",
    "    def help(node):\n",
    "        nonlocal r\n",
    "        if not node:\n",
    "            return 0, 0\n",
    "        left, right = help(node.left), help(node.right)\n",
    "        tilt = abs(left[1] - right[1])\n",
    "        r += tilt\n",
    "        return tilt, left[1] + right[1] + node.val\n",
    "    help(root)\n",
    "    return r\n",
    "\n",
    "# 简单测试\n",
    "t = array2tree([1,3,2,4,6,5,7,6,5,6,7,8,7,6,1,2,3,4,5])\n",
    "print(findTilt(t))\n",
    "print(findTilt1(t))"
   ]
  },
  {
   "cell_type": "code",
   "execution_count": 29,
   "metadata": {},
   "outputs": [
    {
     "name": "stdout",
     "output_type": "stream",
     "text": [
      "True\n",
      "False\n"
     ]
    }
   ],
   "source": [
    "# 572. 另一个树的子树\n",
    "# https://leetcode-cn.com/problems/subtree-of-another-tree/\n",
    "\n",
    "def isSubtree(s: TreeNode, t: TreeNode) -> bool:\n",
    "    sList, tList = [], []\n",
    "    def help(node, arr=[]):\n",
    "        if not node:\n",
    "            arr.append('#')\n",
    "            return\n",
    "        arr.append(str(node.val))\n",
    "        help(node.left, arr)\n",
    "        help(node.right, arr)\n",
    "    \n",
    "    help(s, sList)\n",
    "    help(t, tList)\n",
    "    \n",
    "    s1 = '|' + '|'.join(sList) + '|'\n",
    "    t1 = '|' + '|'.join(tList) + '|'\n",
    "    return t1 in s1\n",
    "\n",
    "# 简单测试\n",
    "s1, t1 = array2tree([3,4,5,1,2]), array2tree([4,1,2])\n",
    "s2, t2 = array2tree([3,4,5,1,2,None,None,None,None,0]), array2tree([4,1,2])\n",
    "print(isSubtree(s1, t1))\n",
    "print(isSubtree(s2, t2))"
   ]
  },
  {
   "cell_type": "code",
   "execution_count": null,
   "metadata": {},
   "outputs": [],
   "source": []
  }
 ],
 "metadata": {
  "kernelspec": {
   "display_name": "Python 3",
   "language": "python",
   "name": "python3"
  },
  "language_info": {
   "codemirror_mode": {
    "name": "ipython",
    "version": 3
   },
   "file_extension": ".py",
   "mimetype": "text/x-python",
   "name": "python",
   "nbconvert_exporter": "python",
   "pygments_lexer": "ipython3",
   "version": "3.7.3"
  }
 },
 "nbformat": 4,
 "nbformat_minor": 2
}
