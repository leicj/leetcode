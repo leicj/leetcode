{
 "cells": [
  {
   "cell_type": "code",
   "execution_count": 3,
   "metadata": {},
   "outputs": [
    {
     "name": "stdout",
     "output_type": "stream",
     "text": [
      "3\n",
      "4\n",
      "1\n"
     ]
    }
   ],
   "source": [
    "\"\"\"\n",
    "设计一个有getMin功能的栈\n",
    "题目: 实现一个特殊的栈, 在实现栈的基础功能的基础上, 再实现返回栈中最小元素的操作.\n",
    "要求:\n",
    "  1. pop, push, getMin操作的时间复杂度都是O(1).\n",
    "  2. 设计的栈类型可以使用现成的栈结构.\n",
    "\"\"\"\n",
    "\n",
    "class Stack:\n",
    "    def __init__(self):\n",
    "        # 存储数值\n",
    "        self.stack = []\n",
    "        # 存储最小值\n",
    "        self.minStack = []\n",
    "    \n",
    "    def pop(self):\n",
    "        if not self.stack:\n",
    "            return None\n",
    "        self.minStack.pop()\n",
    "        return self.stack.pop()\n",
    "    \n",
    "    def push(self, val):\n",
    "        if not self.stack:\n",
    "            self.minStack.append(val)\n",
    "        else:\n",
    "            self.minStack.append(min(self.minStack[-1], val))\n",
    "        self.stack.append(val)\n",
    "            \n",
    "    def getMin(self):\n",
    "        if not self.minStack:\n",
    "            return None\n",
    "        return self.minStack[-1]\n",
    "    \n",
    "stack = Stack()\n",
    "stack.push(4), stack.push(3), stack.push(5)\n",
    "print(stack.getMin())\n",
    "stack.pop()\n",
    "stack.pop()\n",
    "print(stack.getMin())\n",
    "stack.push(1)\n",
    "stack.push(2)\n",
    "stack.push(1)\n",
    "print(stack.getMin())"
   ]
  },
  {
   "cell_type": "code",
   "execution_count": 5,
   "metadata": {},
   "outputs": [
    {
     "name": "stdout",
     "output_type": "stream",
     "text": [
      "0 0\n",
      "1 1\n",
      "2 2\n",
      "3 3\n",
      "4 4\n"
     ]
    }
   ],
   "source": [
    "\"\"\"\n",
    "由两个栈组成的队列\n",
    "题目: 编写一个类, 用两个栈实现队列, 支持队列的基本操作(add, poll, peek)\n",
    "\"\"\"\n",
    "\n",
    "class Queue:\n",
    "    def __init__(self):\n",
    "        # 压入栈\n",
    "        self.stack1 = []\n",
    "        # 弹出栈\n",
    "        self.stack2 = []\n",
    "        \n",
    "    def add(self, val):\n",
    "        self.stack1.append(val)\n",
    "    \n",
    "    def poll(self):\n",
    "        if not self.stack1 and not self.stack2:\n",
    "            return None\n",
    "        # 只有在stack2为空时候, 才将stack1全部弹出压入到stack2中\n",
    "        if not self.stack2:\n",
    "            while self.stack1:\n",
    "                self.stack2.append(self.stack1.pop())\n",
    "        return self.stack2.pop()\n",
    "    \n",
    "    def peek(self):\n",
    "        if not self.stack1 and not self.stack2:\n",
    "            return None\n",
    "        # 只有在stack2为空时候, 才将stack1全部弹出压入到stack2中\n",
    "        if not self.stack2:\n",
    "            while self.stack1:\n",
    "                self.stack2.append(self.stack1.pop())\n",
    "        return self.stack2[-1]\n",
    "    \n",
    "queue = Queue()\n",
    "for i in range(5):\n",
    "    queue.add(i)\n",
    "for _ in range(5):\n",
    "    print(queue.peek(), queue.poll())"
   ]
  },
  {
   "cell_type": "code",
   "execution_count": 38,
   "metadata": {},
   "outputs": [
    {
     "name": "stdout",
     "output_type": "stream",
     "text": [
      "[5, 4, 3, 2, 1]\n",
      "[5, 4, 3, 2, 1]\n"
     ]
    }
   ],
   "source": [
    "\"\"\"\n",
    "如何仅用递归函数和栈操作逆序一个栈\n",
    "解题思路:\n",
    "1. 定义函数removeLastElement, 用于删除最后一个元素, 并返回它.\n",
    "2. 递归处理堆栈, 将删除的最后一个元素, 重新压入堆栈即可.\n",
    "\"\"\"\n",
    "\n",
    "def reverseStack(stack):\n",
    "    # 删除最后一个元素, 并返回它.\n",
    "    def removeLastElement(stack):\n",
    "        val = stack.pop()\n",
    "        if not stack:\n",
    "            return val\n",
    "        else:\n",
    "            last = removeLastElement(stack)\n",
    "            stack.append(val)\n",
    "            return last\n",
    "    \n",
    "    if not stack:\n",
    "        return []\n",
    "    # 获取最后一个元素, 然后递归处理, 然后将最后一个元素压入堆栈中\n",
    "    last = removeLastElement(stack)\n",
    "    reverseStack(stack)\n",
    "    stack.append(last)\n",
    "    return stack\n",
    "\n",
    "stack = [1, 2, 3, 4, 5]\n",
    "print(reverseStack(stack))\n",
    "print(stack)"
   ]
  },
  {
   "cell_type": "code",
   "execution_count": 37,
   "metadata": {},
   "outputs": [
    {
     "name": "stdout",
     "output_type": "stream",
     "text": [
      "[1, 2, 2, 3, 3, 3, 4, 4, 5, 5, 6, 6, 7, 8]\n"
     ]
    }
   ],
   "source": [
    "\"\"\"\n",
    "用一个栈实现另一个栈的排序\n",
    "解题思路:\n",
    "1. 定义堆栈stack2, 永远保持升序. 使用val定义中间要插入到stack2的值.\n",
    "2. 如果val的值比stack2的栈顶元素大, 那就不断的pop出stack2的值, 直到val的插入保证stack2为升序.\n",
    "3. 将stack2不断pop出来, 压入到stack即可.\n",
    "\"\"\"\n",
    "\n",
    "def sortStack(stack):\n",
    "    stack2, val = [], None\n",
    "    while stack:\n",
    "        val = stack.pop()\n",
    "        # stack2中永远保持升序\n",
    "        while stack2 and val > stack2[-1]:\n",
    "            stack.append(stack2.pop())\n",
    "        stack2.append(val)\n",
    "    \n",
    "    while stack2:\n",
    "        stack.append(stack2.pop())\n",
    "        \n",
    "    return stack\n",
    "\n",
    "stack = [4,3,5,6,2,3,4,3,5,6,8,7,1,2]\n",
    "print(sortStack(stack))"
   ]
  },
  {
   "cell_type": "code",
   "execution_count": 9,
   "metadata": {},
   "outputs": [],
   "source": [
    "# 用栈来求解汉诺塔问题\n",
    "# 限制为: 最左侧必须经过中间, 才能到最右侧; 同理最右侧必须经过中间, 才能到最左侧.\n",
    "# 例如, 当塔数为两层, 最上层为1, 最下层为2, 则打印:\n",
    "# Move 1 from left to mid\n",
    "# Move 1 from mid to right\n",
    "# Move 2 from left to mid\n",
    "# Move 1 from right to mid\n",
    "# Move 1 from mid to left\n",
    "# Move 2 from mid to right\n",
    "# Move 1 from left to mid\n",
    "# Move 1 from mid to right\n",
    "# It will move 8 steps.\n",
    "\n",
    "pass"
   ]
  },
  {
   "cell_type": "code",
   "execution_count": 36,
   "metadata": {},
   "outputs": [
    {
     "name": "stdout",
     "output_type": "stream",
     "text": [
      "[5, 5, 5, 4, 6, 7]\n"
     ]
    }
   ],
   "source": [
    "\"\"\"\n",
    "生成窗口最大值数组\n",
    "题目: 数组长度为n, 窗口大小为w, 共产生n-w+1个窗口的最大值.\n",
    "\n",
    "\"\"\"\n",
    "def getMaxWindow(arr, k):\n",
    "    window, r = [], []\n",
    "    for i in range(len(arr)):\n",
    "        # 将超出索引的值删除\n",
    "        while i >= k and window[0] <= i - k:\n",
    "            window.pop(0)\n",
    "        # 在堆栈中, 将小于当前值的值删除\n",
    "        while window and arr[window[-1]] < arr[i]:\n",
    "            window.pop()\n",
    "        window.append(i)\n",
    "        # 第一个元素, 永远保持最大值的索引\n",
    "        if i >= k - 1:\n",
    "            r.append(arr[window[0]])\n",
    "    return r\n",
    "\n",
    "print(getMaxWindow([4,3,5,4,3,3,6,7],3))"
   ]
  },
  {
   "cell_type": "code",
   "execution_count": 20,
   "metadata": {},
   "outputs": [
    {
     "name": "stdout",
     "output_type": "stream",
     "text": [
      "<__main__.Node object at 0x10a1ce7f0>\n"
     ]
    }
   ],
   "source": [
    "\"\"\"\n",
    "构造数组的MaxTree\n",
    "解题思路: 使用递归\n",
    "\"\"\"\n",
    "class Node:\n",
    "    def __init__(self, val):\n",
    "        self.val = val\n",
    "        self.left = self.right = None\n",
    "        \n",
    "def getMaxTree(arr):\n",
    "    if not arr:\n",
    "        return None\n",
    "    _max, _max_index = max(arr), arr.index(max(arr))\n",
    "    node = Node(_max)\n",
    "    node.left, node.right = getMaxTree(arr[0:_max_index]), getMaxTree(arr[_max_index + 1:])\n",
    "    return node\n",
    "\n",
    "print(getMaxTree([3,4,5,1,2]))"
   ]
  },
  {
   "cell_type": "code",
   "execution_count": 31,
   "metadata": {},
   "outputs": [
    {
     "name": "stdout",
     "output_type": "stream",
     "text": [
      "3\n",
      "6\n"
     ]
    }
   ],
   "source": [
    "\"\"\"\n",
    "求最大子矩阵的大小\n",
    "题目:\n",
    "    给定一个整型矩阵map, 其中的值只有0和1两种, 求其中全是1的所有矩形区域中, 最大的矩形区域为1的数量.\n",
    "1 1 1 0\n",
    "--> 3\n",
    "\n",
    "1 0 1 1\n",
    "1 1 1 1\n",
    "1 1 1 0\n",
    "--> 6\n",
    "\n",
    "解题思路\n",
    "1. 我们对矩阵的每一行做切割, 让第i行落到i+1行上. 如果i+1行上为0, 则值为0; 否则+1.\n",
    "2. 判断每行的最大面积. 例如上例中, 我们需要判断:\n",
    "1 0 1 1\n",
    "2 1 2 2\n",
    "3 2 3 0\n",
    "中, 面积最大的.\n",
    "3. 判断一行的面积最大的方法就是使用堆栈, 面对索引为i的元素, 从右往左看, 找到比i小的则停止;\n",
    "这时候计算其面积.\n",
    "\"\"\"\n",
    "\n",
    "def maximalRectangle(matrix):\n",
    "    if not matrix or not matrix[0]:\n",
    "        return 0\n",
    "    m, n = len(matrix), len(matrix[0])\n",
    "    height = [0 for _ in range(n)]\n",
    "    r = 0\n",
    "    for i in range(m):\n",
    "        for j in range(n):\n",
    "            height[j] = 0 if matrix[i][j] == 0 else height[j] + 1\n",
    "        r = max(maxSlidingWindow(height), r)\n",
    "    return r\n",
    "\n",
    "def maxSlidingWindow(height):\n",
    "    if not height:\n",
    "        return 0\n",
    "    r, stack = 0, []\n",
    "    for i in range(len(height)):\n",
    "        while stack and height[i] < height[stack[-1]]:\n",
    "            j = stack.pop()\n",
    "            k = -1 if not stack else stack[-1]\n",
    "            r = max((i - k - 1) * height[j], r)\n",
    "        stack.append(i)\n",
    "    while stack:\n",
    "        j = stack.pop()\n",
    "        k = -1 if not stack else stack[-1]\n",
    "        r = max((len(height) - k - 1) * height[j], r)\n",
    "    \n",
    "    return r\n",
    "\n",
    "m1, m2 = [[1,1,1,0]], [[1,0,1,1],[1,1,1,1],[1,1,1,0]]\n",
    "print(maximalRectangle(m1))\n",
    "print(maximalRectangle(m2))"
   ]
  },
  {
   "cell_type": "code",
   "execution_count": 42,
   "metadata": {},
   "outputs": [
    {
     "name": "stdout",
     "output_type": "stream",
     "text": [
      "[[2, 1], [1], [4, 3, 5, 4, 3], [3, 5, 4, 3], [5, 4, 3], [4, 3], [3]]\n"
     ]
    }
   ],
   "source": [
    "\"\"\"\n",
    "最大值减去最小值小于或等于num的子数组数量\n",
    "题目:\n",
    "给定数组arr和整数num, 共返回有多少个子数组满足如下情况:\n",
    "max(arr[i:j]) - min(arr[i:j]) <= num\n",
    "要求:\n",
    "如果数组长度为N, 实现时间复杂度O(N)的解法.\n",
    "解题思路:\n",
    "1. 定义双端队列qmin, qmax. 当子数组为arr[i:j]时候, 分别维护其最大值和最小值.\n",
    "2. 如果arr向右移动到j+1, 或者向左移动到i-1, 则qmin, qmax可以在O(1)时间内完成.\n",
    "3. 最终的结果res += j - i, 代表的是所有子数组以arr[i]开头的数量.\n",
    "\"\"\"\n",
    "\n",
    "def getNum(arr, num):\n",
    "    if not arr:\n",
    "        return 0\n",
    "    qmin, qmax = [], []\n",
    "    i, j, res = 0, 0, []\n",
    "    while i < len(arr):\n",
    "        while j < len(arr):\n",
    "            while qmin and arr[qmin[-1]] >= arr[j]:\n",
    "                qmin.pop()\n",
    "            qmin.append(j)\n",
    "            while qmax and arr[qmax[-1]] <= arr[j]:\n",
    "                qmax.pop()\n",
    "            qmax.append(j)\n",
    "            if arr[qmax[0]] - arr[qmin[0]] > num:\n",
    "                break\n",
    "            j += 1\n",
    "#         print(qmin, qmax)\n",
    "        if qmin[0] == i:\n",
    "            qmin.pop(0)\n",
    "        if qmax[0] == i:\n",
    "            qmax.pop(0)\n",
    "        res.append(arr[i:j])\n",
    "#         res += j - i\n",
    "        i += 1\n",
    "    return res\n",
    "\n",
    "arr = [2,1,4,3,5,4,3]\n",
    "print(getNum(arr, 2))"
   ]
  },
  {
   "cell_type": "code",
   "execution_count": null,
   "metadata": {},
   "outputs": [],
   "source": []
  }
 ],
 "metadata": {
  "kernelspec": {
   "display_name": "Python 3",
   "language": "python",
   "name": "python3"
  },
  "language_info": {
   "codemirror_mode": {
    "name": "ipython",
    "version": 3
   },
   "file_extension": ".py",
   "mimetype": "text/x-python",
   "name": "python",
   "nbconvert_exporter": "python",
   "pygments_lexer": "ipython3",
   "version": "3.7.3"
  }
 },
 "nbformat": 4,
 "nbformat_minor": 2
}
