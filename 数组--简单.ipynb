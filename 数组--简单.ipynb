{
 "cells": [
  {
   "cell_type": "code",
   "execution_count": 1,
   "metadata": {},
   "outputs": [
    {
     "name": "stdout",
     "output_type": "stream",
     "text": [
      "[0, 1]\n"
     ]
    }
   ],
   "source": [
    "\"\"\"\n",
    "1. 两数之和\n",
    "https://leetcode-cn.com/problems/two-sum/submissions/\n",
    "\"\"\"\n",
    "def twoSum(nums, target):\n",
    "    # 假设v1 + v2 = target, i1, i2为它们的索引\n",
    "    d = {}\n",
    "    for i, v in enumerate(nums):\n",
    "        # 找到v2, 则通过d, 将v1的索引找出(d[v])\n",
    "        if v in d:\n",
    "            return [d[v], i]\n",
    "        # 将v2和i1关联起来, 这样定位到v2时候, 就可以找到v1的索引i1\n",
    "        d[target - v] = i\n",
    "        \n",
    "print(twoSum([2,7,11,15], 9))"
   ]
  },
  {
   "cell_type": "code",
   "execution_count": 2,
   "metadata": {},
   "outputs": [
    {
     "name": "stdout",
     "output_type": "stream",
     "text": [
      "2\n",
      "2\n",
      "5\n"
     ]
    }
   ],
   "source": [
    "\"\"\"\n",
    "26. 删除排序数组中的重复项\n",
    "https://leetcode-cn.com/problems/remove-duplicates-from-sorted-array/\n",
    "\"\"\"\n",
    "def removeDuplicates(nums):\n",
    "    # 如果数组为空, 则返回0\n",
    "    if not nums:\n",
    "        return 0\n",
    "    # i为不同元素的数组的长度\n",
    "    i = 1\n",
    "    for j in range(1, len(nums)):\n",
    "        # nums[j]的元素不等于nums[i - 1], 则进行copy, 并且i自增\n",
    "        if nums[j] != nums[i - 1]:\n",
    "            nums[i] = nums[j]\n",
    "            i += 1\n",
    "    return i\n",
    "\n",
    "print(removeDuplicates([1,1,2]))\n",
    "print(removeDuplicates([1,1,2,2]))\n",
    "print(removeDuplicates([0,0,1,1,1,2,2,3,3,4]))"
   ]
  },
  {
   "cell_type": "code",
   "execution_count": 4,
   "metadata": {},
   "outputs": [
    {
     "name": "stdout",
     "output_type": "stream",
     "text": [
      "2\n",
      "5\n"
     ]
    }
   ],
   "source": [
    "\"\"\"\n",
    "27. 移除元素\n",
    "https://leetcode-cn.com/problems/remove-element/\n",
    "\"\"\"\n",
    "def removeElement(nums, val):\n",
    "    # i为不同元素的数组的长度\n",
    "    i = 0\n",
    "    for j in range(0, len(nums)):\n",
    "        # 如果nums[j]不等于val, 则将nums[j]赋值给nums[i]即可, i自增\n",
    "        if nums[j] != val:\n",
    "            nums[i] = nums[j]\n",
    "            i += 1\n",
    "    return i\n",
    "\n",
    "print(removeElement([3,2,2,3], 3))\n",
    "print(removeElement([0,1,2,2,3,0,4,2], 2))"
   ]
  },
  {
   "cell_type": "code",
   "execution_count": 5,
   "metadata": {},
   "outputs": [
    {
     "name": "stdout",
     "output_type": "stream",
     "text": [
      "2\n",
      "1\n",
      "4\n",
      "0\n"
     ]
    }
   ],
   "source": [
    "\"\"\"\n",
    "35. 搜索插入位置\n",
    "https://leetcode-cn.com/problems/search-insert-position/\n",
    "\"\"\"\n",
    "def searchInsert(nums, target):\n",
    "    for i, v in enumerate(nums):\n",
    "        # 找到大于target的元素, 则返回当前索引\n",
    "        if v >= target:\n",
    "            return i\n",
    "    # 说明没有任何元素大于target, 则插入到数组的末尾\n",
    "    return len(nums)\n",
    "\n",
    "print(searchInsert([1,3,5,6], 5))\n",
    "print(searchInsert([1,3,5,6], 2))\n",
    "print(searchInsert([1,3,5,6], 7))\n",
    "print(searchInsert([1,3,5,6], 0))"
   ]
  },
  {
   "cell_type": "code",
   "execution_count": 6,
   "metadata": {},
   "outputs": [
    {
     "name": "stdout",
     "output_type": "stream",
     "text": [
      "6\n"
     ]
    }
   ],
   "source": [
    "\"\"\"\n",
    "53. 最大子序和\n",
    "https://leetcode-cn.com/problems/maximum-subarray/\n",
    "\"\"\"\n",
    "def maxSubArray(nums):\n",
    "    for i in range(1, len(nums)):\n",
    "        # 当前索引i永远存储0~i的最大和\n",
    "        nums[i] = max(nums[i], nums[i] + nums[i - 1])\n",
    "    # 返回每个索引最大和的最大值\n",
    "    return max(nums)\n",
    "\n",
    "print(maxSubArray([-2,1,-3,4,-1,2,1,-5,4]))"
   ]
  },
  {
   "cell_type": "code",
   "execution_count": 8,
   "metadata": {},
   "outputs": [
    {
     "name": "stdout",
     "output_type": "stream",
     "text": [
      "[1, 2, 4]\n",
      "[4, 3, 2, 2]\n",
      "[1, 0, 0, 0]\n"
     ]
    }
   ],
   "source": [
    "\"\"\"\n",
    "66. 加一\n",
    "https://leetcode-cn.com/problems/plus-one/\n",
    "\"\"\"\n",
    "def plusOne(digits):\n",
    "    # 将digits进行倒序, 最后在倒序, 便于理解\n",
    "    # 将k初始化为1, 就相当于加1\n",
    "    digits, k = digits[::-1], 1\n",
    "    for i, d in enumerate(digits):\n",
    "        # 如果当前值不大于10, 说明无需继续下去, 并设置k=0\n",
    "        if d + k < 10:\n",
    "            digits[i] = d + k\n",
    "            k = 0\n",
    "            break\n",
    "        else:\n",
    "            # 将k设置为1, 并且当前索引设置为0(因为加1, 所以肯定为0)\n",
    "            k, digits[i] = 1, 0\n",
    "    # 说明最后还存在进位\n",
    "    if k == 1:\n",
    "        digits.append(1)\n",
    "        \n",
    "    return digits[::-1]\n",
    "\n",
    "print(plusOne([1,2,3]))\n",
    "print(plusOne([4,3,2,1]))\n",
    "print(plusOne([9,9,9]))"
   ]
  },
  {
   "cell_type": "code",
   "execution_count": 9,
   "metadata": {},
   "outputs": [
    {
     "name": "stdout",
     "output_type": "stream",
     "text": [
      "[1, 2, 2, 3, 5, 6]\n"
     ]
    }
   ],
   "source": [
    "\"\"\"\n",
    "88. 合并两个有序数组\n",
    "https://leetcode-cn.com/problems/merge-sorted-array/\n",
    "\"\"\"\n",
    "def merge(nums1, m, nums2, n):\n",
    "    mn = m + n\n",
    "    m -= 1\n",
    "    n -= 1\n",
    "    # 从后往前一一赋值, 将较大的值赋给num1[m + n]即可\n",
    "    # 由于是写入num1, 所以只要判断n >= 0即可\n",
    "    while n >= 0:\n",
    "        mn -= 1\n",
    "        if m >= 0 and nums1[m] > nums2[n]:\n",
    "            nums1[mn] = nums1[m]\n",
    "            m -= 1\n",
    "        else:\n",
    "            nums1[mn] = nums2[n]\n",
    "            n -= 1\n",
    "\n",
    "nums1, nums2 = [1,2,3,0,0,0], [2,5,6]\n",
    "merge(nums1, 3, nums2, 3)\n",
    "print(nums1)"
   ]
  },
  {
   "cell_type": "code",
   "execution_count": 11,
   "metadata": {},
   "outputs": [
    {
     "name": "stdout",
     "output_type": "stream",
     "text": [
      "[[1], [1, 1], [1, 2, 1], [1, 3, 3, 1], [1, 4, 6, 4, 1]]\n"
     ]
    }
   ],
   "source": [
    "\"\"\"\n",
    "118. 杨辉三角\n",
    "https://leetcode-cn.com/problems/pascals-triangle/\n",
    "\"\"\"\n",
    "def generate(numRows):\n",
    "    # 处理0, 1的特殊情况\n",
    "    if numRows == 0:\n",
    "        return []\n",
    "    if numRows == 1:\n",
    "        return [[1]]\n",
    "    # 从第二行开始, 数组两边都是1\n",
    "    r = [[1]] + [[1, 1] for _ in range(numRows - 1)]\n",
    "    # 第i行\n",
    "    for i in range(2, numRows):\n",
    "        # 第i行的第j个元素, 等于上一行的j, j + 1的元素之和\n",
    "        for j in range(len(r[i - 1]) - 1):\n",
    "            r[i].insert(j + 1, r[i - 1][j] + r[i - 1][j + 1])\n",
    "    return r\n",
    "\n",
    "print(generate(5))"
   ]
  },
  {
   "cell_type": "code",
   "execution_count": 12,
   "metadata": {},
   "outputs": [
    {
     "name": "stdout",
     "output_type": "stream",
     "text": [
      "[1, 5, 10, 10, 5, 1]\n"
     ]
    }
   ],
   "source": [
    "\"\"\"\n",
    "119. 杨辉三角II\n",
    "https://leetcode-cn.com/problems/pascals-triangle-ii/\n",
    "\"\"\"\n",
    "def getRow(rowIndex):\n",
    "    # j行的数据, 应该由j - 1行的数据计算出来.\n",
    "    # 假设j - 1行为[1,3,3,1], 那么我们前面插入一个0(j行的数据会比j-1行多一个),\n",
    "    # 然后执行相加[0+1,1+3,3+3,3+1,1] = [1,4,6,4,1], 最后一个1保留即可.\n",
    "    r = [1]\n",
    "    for i in range(1, rowIndex + 1):\n",
    "        r.insert(0, 0)\n",
    "        # 因为i行的数据长度为i+1, 所以j+1不会越界, 并且最后一个1不会被修改.\n",
    "        for j in range(i):\n",
    "            r[j] = r[j] + r[j + 1]\n",
    "    return r\n",
    "\n",
    "print(getRow(5))"
   ]
  },
  {
   "cell_type": "code",
   "execution_count": 13,
   "metadata": {},
   "outputs": [
    {
     "name": "stdout",
     "output_type": "stream",
     "text": [
      "5\n",
      "0\n"
     ]
    }
   ],
   "source": [
    "\"\"\"\n",
    "121. 买卖股票的最佳时机\n",
    "https://leetcode-cn.com/problems/best-time-to-buy-and-sell-stock/\n",
    "\"\"\"\n",
    "def maxProfit(prices):\n",
    "    # 倒序遍历数组, 获取其最大值\n",
    "    # 将最大值 - 每个值 = 当前的最大利润\n",
    "    if not prices:\n",
    "        return 0\n",
    "    r, max_price = 0, prices[-1]\n",
    "    for i in range(len(prices) - 1, -1, -1):\n",
    "        # 当前更大的值\n",
    "        if prices[i] > max_price:\n",
    "            max_price = prices[i]\n",
    "        else:\n",
    "            # 最大利润\n",
    "            r = max(max_price - prices[i], r)\n",
    "    return r\n",
    "\n",
    "print(maxProfit([7,1,5,3,6,4]))\n",
    "print(maxProfit([7,6,4,3,1]))"
   ]
  },
  {
   "cell_type": "code",
   "execution_count": 14,
   "metadata": {},
   "outputs": [
    {
     "name": "stdout",
     "output_type": "stream",
     "text": [
      "7\n",
      "4\n"
     ]
    }
   ],
   "source": [
    "\"\"\"\n",
    "122. 买卖股票的最佳时机II\n",
    "https://leetcode-cn.com/problems/best-time-to-buy-and-sell-stock-ii/\n",
    "\"\"\"\n",
    "def maxProfit(prices):\n",
    "    # 考虑[1,2,3], 最大利润 = 3 - 1,\n",
    "    # 实际上等价于(2 - 1) + (3 - 2)(违背卖出2再买入2的规则), 但这不影响最终的结果\n",
    "    # 所以, 最大利润 = 每次升序的差值\n",
    "    r = 0\n",
    "    for i in range(1, len(prices)):\n",
    "        v = prices[i] - prices[i - 1]\n",
    "        r += v if v > 0 else 0\n",
    "    return r\n",
    "\n",
    "print(maxProfit([7,1,5,3,6,4]))\n",
    "print(maxProfit([1,2,3,4,5]))"
   ]
  },
  {
   "cell_type": "code",
   "execution_count": 15,
   "metadata": {},
   "outputs": [
    {
     "name": "stdout",
     "output_type": "stream",
     "text": [
      "[1, 2]\n"
     ]
    }
   ],
   "source": [
    "\"\"\"\n",
    "167. 两数之和 II - 输入有序数组\n",
    "https://leetcode-cn.com/problems/two-sum-ii-input-array-is-sorted/\n",
    "\"\"\"\n",
    "def twoSum(numbers, target):\n",
    "    # i, j指向数组的首尾, 相加. 如果小于target, 则i自增, 大于则j自减;\n",
    "    # 等于, 则返回索引\n",
    "    i, j = 0, len(numbers) - 1\n",
    "    while numbers[i] + numbers[j] != target:\n",
    "        if numbers[i] + numbers[j] < target:\n",
    "            i += 1\n",
    "        else:\n",
    "            j -= 1\n",
    "    return [i + 1, j + 1]\n",
    "\n",
    "print(twoSum([2, 7, 11, 15], 9))"
   ]
  },
  {
   "cell_type": "code",
   "execution_count": null,
   "metadata": {},
   "outputs": [],
   "source": [
    "\"\"\"\n",
    "169. 求众数\n",
    "https://leetcode-cn.com/problems/majority-element/submissions/\n",
    "\"\"\"\n",
    "def majorityElement(nums):\n",
    "    nums.sort()\n",
    "    return nums[len(nums) // 2]"
   ]
  },
  {
   "cell_type": "code",
   "execution_count": 18,
   "metadata": {},
   "outputs": [
    {
     "name": "stdout",
     "output_type": "stream",
     "text": [
      "[5, 6, 7, 1, 2, 3, 4] [6, 7, 1, 2, 3, 4, 5]\n"
     ]
    }
   ],
   "source": [
    "\"\"\"\n",
    "189. 旋转数组\n",
    "https://leetcode-cn.com/problems/rotate-array/\n",
    "\"\"\"\n",
    "def rotate(nums, k):\n",
    "    # 对k进行求余\n",
    "    k %= len(nums)\n",
    "    nums[:] = nums[-k:] + nums[0:-k]\n",
    "    \n",
    "nums1, nums2 = [1,2,3,4,5,6,7], [1,2,3,4,5,6,7]\n",
    "rotate(nums1, 3)\n",
    "rotate(nums2, 23)\n",
    "print(nums1, nums2)"
   ]
  },
  {
   "cell_type": "code",
   "execution_count": 19,
   "metadata": {},
   "outputs": [
    {
     "name": "stdout",
     "output_type": "stream",
     "text": [
      "True\n",
      "False\n",
      "True\n"
     ]
    }
   ],
   "source": [
    "\"\"\"\n",
    "217. 存在重复元素\n",
    "https://leetcode-cn.com/problems/contains-duplicate/\n",
    "\"\"\"\n",
    "def containsDuplicate(nums):\n",
    "    return len(nums) != len(set(nums))\n",
    "\n",
    "print(containsDuplicate([1,2,3,1]))\n",
    "print(containsDuplicate([1,2,3,4]))\n",
    "print(containsDuplicate([1,1,1,3,3,4,3,2,4,2]))"
   ]
  },
  {
   "cell_type": "code",
   "execution_count": 21,
   "metadata": {},
   "outputs": [
    {
     "name": "stdout",
     "output_type": "stream",
     "text": [
      "True\n",
      "True\n",
      "False\n"
     ]
    }
   ],
   "source": [
    "\"\"\"\n",
    "219. 存在重复元素II\n",
    "https://leetcode-cn.com/problems/contains-duplicate-ii/\n",
    "\"\"\"\n",
    "def containsNearbyDuplicate(nums, k):\n",
    "    # 题目中差值最大为k, 意思是只要小于等于k则为True, 而不是所有差值的最大值小于等于k\n",
    "    # 将相同值的索引存储起来\n",
    "    import collections\n",
    "    d = collections.defaultdict(list)\n",
    "    for i, v in enumerate(nums):\n",
    "        d[v].append(i)\n",
    "    \n",
    "    # 对索引值进行差值的判断, 小于等于k, 则返回True\n",
    "    for v in d.values():\n",
    "        for i in range(len(v) - 1):\n",
    "            if v[i + 1] - v[i] <= k:\n",
    "                return True\n",
    "    \n",
    "    return False\n",
    "\n",
    "print(containsNearbyDuplicate([1,2,3,1], 3))\n",
    "print(containsNearbyDuplicate([1,0,1,1], 1))\n",
    "print(containsNearbyDuplicate([1,2,3,1,2,3], 2))"
   ]
  },
  {
   "cell_type": "code",
   "execution_count": 30,
   "metadata": {},
   "outputs": [
    {
     "name": "stdout",
     "output_type": "stream",
     "text": [
      "1\n",
      "1\n",
      "2\n"
     ]
    }
   ],
   "source": [
    "\"\"\"\n",
    "268. 缺失数字\n",
    "https://leetcode-cn.com/problems/missing-number/\n",
    "\"\"\"\n",
    "def missingNumber(nums):\n",
    "    # 对数组进行排序\n",
    "    nums.sort()\n",
    "    # 让数组的值跟索引一一匹配, 不匹配上则为缺失的数字\n",
    "    for i in range(len(nums)):\n",
    "        if nums[i] != i:\n",
    "            return i\n",
    "    # 如果全部都不匹配, 则说明缺失的数字为最后一个值\n",
    "    return len(nums)\n",
    "\n",
    "def missingNumber1(nums):\n",
    "    # 使用set\n",
    "    s1, s2 = set(range(len(nums))), set(nums)\n",
    "    return len(nums) if s1 == s2 else list(s1 - s2)[0]\n",
    "\n",
    "print(missingNumber([0]))\n",
    "print(missingNumber1([0]))\n",
    "print(missingNumber1([3,0,1]))"
   ]
  },
  {
   "cell_type": "code",
   "execution_count": 38,
   "metadata": {},
   "outputs": [
    {
     "name": "stdout",
     "output_type": "stream",
     "text": [
      "[1, 1, 1, 0]\n"
     ]
    }
   ],
   "source": [
    "\"\"\"\n",
    "283. 移动零\n",
    "https://leetcode-cn.com/problems/move-zeroes/\n",
    "\"\"\"\n",
    "def moveZeroes(nums):\n",
    "    # i为0的索引, j为非0的索引\n",
    "    i, j = 0, 0\n",
    "    while j < len(nums) and i < len(nums):\n",
    "        # 定位0的索引\n",
    "        if nums[i]:\n",
    "            i += 1\n",
    "            j += 1\n",
    "            continue\n",
    "        # 说明i应定位到0, j定位到非0\n",
    "        if nums[j]:\n",
    "            nums[i] = nums[j]\n",
    "            # 这里需要将j赋值后的值, 置为0, 并且i自增\n",
    "            nums[j] = 0\n",
    "            i += 1\n",
    "        j += 1\n",
    "    \n",
    "nums1 = [1,0,1,1]\n",
    "moveZeroes(nums1)\n",
    "print(nums1)"
   ]
  },
  {
   "cell_type": "code",
   "execution_count": 40,
   "metadata": {},
   "outputs": [
    {
     "name": "stdout",
     "output_type": "stream",
     "text": [
      "1\n",
      "2\n",
      "1\n"
     ]
    }
   ],
   "source": [
    "\"\"\"\n",
    "414. 第三大的数\n",
    "https://leetcode-cn.com/problems/third-maximum-number/\n",
    "\"\"\"\n",
    "import math\n",
    "def thirdMax(nums):\n",
    "    # 因为时间复杂度为O(N), 所以只能一一判断\n",
    "    r = [float(\"-inf\"), float(\"-inf\"), float(\"-inf\")]\n",
    "    for n in nums:\n",
    "        # 重复的值, 无需判断\n",
    "        if n in r:\n",
    "            continue\n",
    "        # 出现最大的值\n",
    "        if n > r[0]:\n",
    "            r = [n, r[0], r[1]]\n",
    "        # 出现第二大的值\n",
    "        elif n > r[1]:\n",
    "            r = [r[0], n, r[1]]\n",
    "        # 出现第三大的值\n",
    "        elif n > r[2]:\n",
    "            r[2] = n\n",
    "    \n",
    "    return r[0] if math.isinf(r[2]) else r[2]\n",
    "\n",
    "print(thirdMax([3,2,1]))\n",
    "print(thirdMax([1,2]))\n",
    "print(thirdMax([2,2,3,1]))"
   ]
  },
  {
   "cell_type": "code",
   "execution_count": 41,
   "metadata": {},
   "outputs": [
    {
     "name": "stdout",
     "output_type": "stream",
     "text": [
      "[5, 6]\n"
     ]
    }
   ],
   "source": [
    "\"\"\"\n",
    "448. 找到所有数组中消失的数字\n",
    "https://leetcode-cn.com/problems/find-all-numbers-disappeared-in-an-array/\n",
    "\"\"\"\n",
    "def findDisappearedNumbers(nums):\n",
    "    # 使用set\n",
    "    return list(set(range(1, len(nums) + 1)) - set(nums))\n",
    "\n",
    "print(findDisappearedNumbers([4,3,2,7,8,2,3,1]))"
   ]
  },
  {
   "cell_type": "code",
   "execution_count": 43,
   "metadata": {},
   "outputs": [
    {
     "name": "stdout",
     "output_type": "stream",
     "text": [
      "3\n"
     ]
    }
   ],
   "source": [
    "\"\"\"\n",
    "485. 最大连续1的个数\n",
    "https://leetcode-cn.com/problems/max-consecutive-ones/\n",
    "\"\"\"\n",
    "def findMaxConsecutiveOnes(nums):\n",
    "    for i in range(1, len(nums)):\n",
    "        # 当前索引的值 = 前一个值 + 当前值(两个均不为0), 否则不改变\n",
    "        nums[i] = nums[i] + nums[i - 1] if nums[i] and nums[i - 1] else nums[i]\n",
    "    \n",
    "    return max(nums)\n",
    "\n",
    "print(findMaxConsecutiveOnes([1,1,0,1,1,1]))"
   ]
  },
  {
   "cell_type": "code",
   "execution_count": 44,
   "metadata": {},
   "outputs": [
    {
     "name": "stdout",
     "output_type": "stream",
     "text": [
      "2\n"
     ]
    }
   ],
   "source": [
    "\"\"\"\n",
    "509. 斐波那契数\n",
    "https://leetcode-cn.com/problems/fibonacci-number/\n",
    "\"\"\"\n",
    "def fib(N):\n",
    "    if N in [0, 1]:\n",
    "        return N\n",
    "    a, b = 0, 1\n",
    "    while N > 1:\n",
    "        a, b = b, a + b\n",
    "        N -= 1\n",
    "    return b\n",
    "\n",
    "print(fib(3))"
   ]
  },
  {
   "cell_type": "code",
   "execution_count": 45,
   "metadata": {},
   "outputs": [
    {
     "name": "stdout",
     "output_type": "stream",
     "text": [
      "2\n",
      "4\n",
      "1\n"
     ]
    }
   ],
   "source": [
    "\"\"\"\n",
    "532. 数组中的K-diff数对\n",
    "https://leetcode-cn.com/problems/k-diff-pairs-in-an-array/\n",
    "\"\"\"\n",
    "def findPairs(nums, k):\n",
    "    # 这里有一个细节需要注意的是: (1,3)等同于(3,1)\n",
    "    # 所以我们无需将1,3都存储起来, 只要存储3即可. 因为k是确定的, 导致1也是确定的\n",
    "    if k < 0:\n",
    "        return 0\n",
    "    # s存储遍历的元素, r存储上面注释的3\n",
    "    s, r = set(), set()\n",
    "    for n in nums:\n",
    "        if n + k in s:\n",
    "            r.add(n + k)\n",
    "        if n - k in s:\n",
    "            r.add(n)\n",
    "        s.add(n)\n",
    "        \n",
    "    return len(r)\n",
    "\n",
    "print(findPairs([3,1,4,1,5], 2))\n",
    "print(findPairs([1,2,3,4,5], 1))\n",
    "print(findPairs([1,3,1,5,4], 0))"
   ]
  },
  {
   "cell_type": "code",
   "execution_count": 46,
   "metadata": {},
   "outputs": [],
   "source": [
    "\"\"\"\n",
    "561. 数组拆分I\n",
    "https://leetcode-cn.com/problems/array-partition-i/\n",
    "\"\"\"\n",
    "def arrayPairSum(nums):\n",
    "    nums.sort()\n",
    "    return sum(nums[0::2])"
   ]
  },
  {
   "cell_type": "code",
   "execution_count": 47,
   "metadata": {},
   "outputs": [
    {
     "name": "stdout",
     "output_type": "stream",
     "text": [
      "[[1, 2, 3, 4]]\n"
     ]
    }
   ],
   "source": [
    "\"\"\"\n",
    "566. 重塑矩阵\n",
    "https://leetcode-cn.com/problems/reshape-the-matrix/\n",
    "\"\"\"\n",
    "def matrixReshape(nums, r, c):\n",
    "    if len(nums) * len(nums[0]) != r * c:\n",
    "        return nums\n",
    "    r, sub_r = [], []\n",
    "    # 遍历二维数组\n",
    "    for i in range(len(nums)):\n",
    "        for j in range(len(nums[0])):\n",
    "            sub_r.append(nums[i][j])\n",
    "            if len(sub_r) == c:\n",
    "                r.append(sub_r)\n",
    "                sub_r = []\n",
    "    return r\n",
    "\n",
    "print(matrixReshape([[1,2],[3,4]], 1, 4))"
   ]
  },
  {
   "cell_type": "code",
   "execution_count": 49,
   "metadata": {},
   "outputs": [
    {
     "name": "stdout",
     "output_type": "stream",
     "text": [
      "5\n"
     ]
    }
   ],
   "source": [
    "\"\"\"\n",
    "581. 最短无序连续子数组\n",
    "https://leetcode-cn.com/problems/shortest-unsorted-continuous-subarray/\n",
    "\"\"\"\n",
    "def findUnsortedSubarray(nums):\n",
    "    start, end, N = -1, -1, len(nums)\n",
    "    source_nums = nums[:]\n",
    "    nums.sort()\n",
    "    for i in range(N):\n",
    "        # 这里j之所以不等于N - 1, 是因为\"判断2\"中已经保证N - 1 - i之后的已经确定过\n",
    "        j = N - 1 - i\n",
    "        if start != -1 and end != -1:\n",
    "            break\n",
    "        # 判断1\n",
    "        if start == -1 and source_nums[i] != nums[i]:\n",
    "            start = i\n",
    "        # 判断2\n",
    "        if end == -1 and source_nums[j] != nums[j]:\n",
    "            end = j + 1\n",
    "    return end - start\n",
    "\n",
    "print(findUnsortedSubarray([2, 6, 4, 8, 10, 9, 15]))"
   ]
  },
  {
   "cell_type": "code",
   "execution_count": 50,
   "metadata": {},
   "outputs": [
    {
     "name": "stdout",
     "output_type": "stream",
     "text": [
      "True\n",
      "False\n"
     ]
    }
   ],
   "source": [
    "\"\"\"\n",
    "605. 种花问题\n",
    "https://leetcode-cn.com/problems/can-place-flowers/\n",
    "\"\"\"\n",
    "def canPlaceFlowers(flowerbed, n):\n",
    "    N = len(flowerbed)\n",
    "    for i in range(N):\n",
    "        if n == 0:\n",
    "            break\n",
    "        if flowerbed[i] == 0:\n",
    "            # 如果是第一个元素, 则需要判断两种情况:\n",
    "            # 1. 只有一朵花\n",
    "            # 2. 后一朵花为0\n",
    "            if i == 0:\n",
    "                if N == 1 or flowerbed[i + 1] == 0:\n",
    "                    flowerbed[i] = 1\n",
    "                    n -= 1\n",
    "            # 如果是最后一个元素, 则判断前一个元素是否为0\n",
    "            elif i == N - 1:\n",
    "                if flowerbed[i - 1] == 0:\n",
    "                    flowerbed[i] = 1\n",
    "                    n -= 1\n",
    "            # 否则是中间元素, 则判断前后是否等于0\n",
    "            elif flowerbed[i - 1] == 0 and flowerbed[i + 1] == 0:\n",
    "                flowerbed[i] = 1\n",
    "                n -= 1\n",
    "    return n == 0\n",
    "\n",
    "print(canPlaceFlowers([1,0,0,0,1], 1))\n",
    "print(canPlaceFlowers([1,0,0,0,1], 2))"
   ]
  },
  {
   "cell_type": "code",
   "execution_count": 51,
   "metadata": {},
   "outputs": [
    {
     "name": "stdout",
     "output_type": "stream",
     "text": [
      "6\n",
      "24\n"
     ]
    }
   ],
   "source": [
    "\"\"\"\n",
    "628. 三个数的最大乘积\n",
    "https://leetcode-cn.com/problems/maximum-product-of-three-numbers/\n",
    "\"\"\"\n",
    "def maximumProduct(nums):\n",
    "    # 最大三个数, 要么都是正数, 要么是两个负数+一个正数\n",
    "    nums.sort()\n",
    "    v1 = nums[-1] * nums[-2] * nums[-3]\n",
    "    v2 = nums[0] * nums[1] * nums[-1]\n",
    "    return max(v1, v2)\n",
    "\n",
    "print(maximumProduct([1,2,3]))\n",
    "print(maximumProduct([1,2,3,4]))"
   ]
  },
  {
   "cell_type": "code",
   "execution_count": 52,
   "metadata": {},
   "outputs": [
    {
     "name": "stdout",
     "output_type": "stream",
     "text": [
      "12.75\n"
     ]
    }
   ],
   "source": [
    "\"\"\"\n",
    "643. 子数组最大平均数 I\n",
    "https://leetcode-cn.com/problems/maximum-average-subarray-i/submissions/\n",
    "\"\"\"\n",
    "def findMaxAverage(nums, k):\n",
    "    r = _sum = sum(nums[0:k])\n",
    "    for i in range(k, len(nums)):\n",
    "        # 通过滑动窗口来计算和\n",
    "        _sum += nums[i] - nums[i - k]\n",
    "        r = max(r, _sum)\n",
    "    return r / k\n",
    "\n",
    "print(findMaxAverage([1,12,-5,-6,50,3], 4))"
   ]
  },
  {
   "cell_type": "code",
   "execution_count": 53,
   "metadata": {},
   "outputs": [],
   "source": [
    "\"\"\"\n",
    "661. 图片平滑器\n",
    "https://leetcode-cn.com/problems/image-smoother/\n",
    "\"\"\"\n",
    "def imageSmoother(M):\n",
    "    pass"
   ]
  },
  {
   "cell_type": "code",
   "execution_count": 54,
   "metadata": {},
   "outputs": [
    {
     "name": "stdout",
     "output_type": "stream",
     "text": [
      "True\n",
      "False\n"
     ]
    }
   ],
   "source": [
    "\"\"\"\n",
    "665. 非递减数列\n",
    "https://leetcode-cn.com/problems/non-decreasing-array/\n",
    "\"\"\"\n",
    "def checkPossibility(nums):\n",
    "    def isSort(arr):\n",
    "        for i in range(len(arr) - 1):\n",
    "            if arr[i] > arr[i + 1]:\n",
    "                return False\n",
    "        return True\n",
    "    \n",
    "    for i in range(len(nums) - 1):\n",
    "        if nums[i] > nums[i + 1]:\n",
    "            # i, i + 1中的两个元素, 肯定有一个被替换掉\n",
    "            # 替换掉的情况下, 原数组保持有序, 则为有序\n",
    "            t1 = isSort(nums[0:i] + nums[i + 1:])\n",
    "            t2 = isSort(nums[0:i + 1] + nums[i + 2:])\n",
    "            return t1 or t2\n",
    "    return True\n",
    "\n",
    "print(checkPossibility([4,2,3]))\n",
    "print(checkPossibility([4,2,1]))"
   ]
  },
  {
   "cell_type": "code",
   "execution_count": 55,
   "metadata": {},
   "outputs": [
    {
     "name": "stdout",
     "output_type": "stream",
     "text": [
      "3\n",
      "1\n"
     ]
    }
   ],
   "source": [
    "\"\"\"\n",
    "674. 最长连续递增序列\n",
    "https://leetcode-cn.com/problems/longest-continuous-increasing-subsequence/\n",
    "\"\"\"\n",
    "def findLengthOfLCIS(nums):\n",
    "    if not nums:\n",
    "        return 0\n",
    "    maxCount, count = 1, 1\n",
    "    for i in range(len(nums) - 1):\n",
    "        # 处于递增中\n",
    "        if nums[i + 1] > nums[i]:\n",
    "            count += 1\n",
    "        else:\n",
    "            # 计算最大长度\n",
    "            maxCount = max(maxCount, count)\n",
    "            count = 1\n",
    "    # 最大长度在数组末尾的情况\n",
    "    return max(maxCount, count)\n",
    "\n",
    "print(findLengthOfLCIS([1,3,5,4,7]))\n",
    "print(findLengthOfLCIS([2,2,2,2,2]))"
   ]
  },
  {
   "cell_type": "code",
   "execution_count": 61,
   "metadata": {},
   "outputs": [
    {
     "name": "stdout",
     "output_type": "stream",
     "text": [
      "2\n",
      "6\n"
     ]
    }
   ],
   "source": [
    "\"\"\"\n",
    "697. 数组的度\n",
    "https://leetcode-cn.com/problems/degree-of-an-array/\n",
    "\"\"\"\n",
    "import collections\n",
    "def findShortestSubArray(nums):\n",
    "    # 获取次数最多的数\n",
    "    counter = collections.Counter(nums)\n",
    "    max_v = max(counter.values())\n",
    "    ns = [k for k, v in counter.items() if v == max_v]\n",
    "    # 返回间距最小的索引差值\n",
    "    return min([len(nums) - nums[::-1].index(n) - nums.index(n) for n in ns])\n",
    "\n",
    "print(findShortestSubArray([1,2,2,3,1]))\n",
    "print(findShortestSubArray([1,2,2,3,1,4,2]))"
   ]
  },
  {
   "cell_type": "code",
   "execution_count": 62,
   "metadata": {},
   "outputs": [
    {
     "name": "stdout",
     "output_type": "stream",
     "text": [
      "True\n",
      "False\n"
     ]
    }
   ],
   "source": [
    "\"\"\"\n",
    "717. 1比特与2比特字符\n",
    "https://leetcode-cn.com/problems/1-bit-and-2-bit-characters/\n",
    "\"\"\"\n",
    "def isOneBitCharacter(bits):\n",
    "    i, N = 0, len(bits)\n",
    "    while i < N - 1:\n",
    "        if bits[i] == 0:\n",
    "            i += 1\n",
    "        # 处理末尾1, 0这种情况\n",
    "        elif i + 1 < N - 1 and bits[i + 1] in [0, 1]:\n",
    "            i += 2\n",
    "        else:\n",
    "            return False\n",
    "    return True\n",
    "\n",
    "print(isOneBitCharacter([1,0,0]))\n",
    "print(isOneBitCharacter([1,1,1,0]))"
   ]
  },
  {
   "cell_type": "code",
   "execution_count": 63,
   "metadata": {},
   "outputs": [
    {
     "name": "stdout",
     "output_type": "stream",
     "text": [
      "3\n"
     ]
    }
   ],
   "source": [
    "\"\"\"\n",
    "724. 寻找数组的中心索引\n",
    "https://leetcode-cn.com/problems/find-pivot-index/\n",
    "\"\"\"\n",
    "def pivotIndex(nums):\n",
    "    if not nums:\n",
    "        return -1\n",
    "    # 通过左数组和不断递增判断的方法\n",
    "    # 需要注意两种情况: 1. 数组为空. 2. 题目允许中心索引为0, len(nums) - 1的存在.\n",
    "    _sum, left_sum = sum(nums), 0\n",
    "    for i in range(0, len(nums)):\n",
    "        if left_sum * 2 + nums[i] == _sum:\n",
    "            return i\n",
    "        left_sum += nums[i]\n",
    "    return -1\n",
    "\n",
    "print(pivotIndex([1,7,3,6,5,6]))"
   ]
  },
  {
   "cell_type": "code",
   "execution_count": 64,
   "metadata": {},
   "outputs": [
    {
     "name": "stdout",
     "output_type": "stream",
     "text": [
      "15\n",
      "10\n",
      "6\n"
     ]
    }
   ],
   "source": [
    "\"\"\"\n",
    "746. 使用最小花费爬楼梯\n",
    "https://leetcode-cn.com/problems/min-cost-climbing-stairs/\n",
    "\"\"\"\n",
    "def minCostClimbingStairs(cost):\n",
    "    for i in range(2, len(cost)):\n",
    "        cost[i] += min(cost[i - 1], cost[i - 2])\n",
    "    return min(cost[-1], cost[-2])\n",
    "\n",
    "print(minCostClimbingStairs([10,15,20]))\n",
    "print(minCostClimbingStairs([10,15]))\n",
    "print(minCostClimbingStairs([1, 100, 1, 1, 1, 100, 1, 1, 100, 1]))"
   ]
  },
  {
   "cell_type": "code",
   "execution_count": 67,
   "metadata": {},
   "outputs": [
    {
     "name": "stdout",
     "output_type": "stream",
     "text": [
      "1\n",
      "-1\n"
     ]
    }
   ],
   "source": [
    "\"\"\"\n",
    "747. 至少是其他数字两倍的最大数\n",
    "https://leetcode-cn.com/problems/largest-number-at-least-twice-of-others/\n",
    "\"\"\"\n",
    "def dominantIndex(nums):\n",
    "    max_num = max(nums)\n",
    "    t = len(list(filter(lambda a: a * 2 > max_num, nums))) == 1\n",
    "    return nums.index(max_num) if t else -1\n",
    "\n",
    "print(dominantIndex([3,6,1,0]))\n",
    "print(dominantIndex([1,2,3,4]))"
   ]
  },
  {
   "cell_type": "code",
   "execution_count": 68,
   "metadata": {},
   "outputs": [
    {
     "name": "stdout",
     "output_type": "stream",
     "text": [
      "True\n"
     ]
    }
   ],
   "source": [
    "\"\"\"\n",
    "766. 托普利茨矩阵\n",
    "https://leetcode-cn.com/problems/toeplitz-matrix/\n",
    "\"\"\"\n",
    "def isToeplitzMatrix(matrix):\n",
    "    m, n = len(matrix), len(matrix[0])\n",
    "    for i in range(m - 2, -1, -1):\n",
    "        \"\"\"\n",
    "        每两行进行比较即可. 例如矩阵:\n",
    "        [\n",
    "            [1,2,3,4],\n",
    "            [5,1,2,3],\n",
    "            [9,5,1,2]\n",
    "        ]\n",
    "        先比较[5,1,2,3], [9,5,1,2]是否符合要求,\n",
    "        然后再比较[1,2,3,4],[5,1,2,3]即可.\n",
    "        \"\"\"\n",
    "        for j in range(0, n - 1):\n",
    "            if matrix[i][j] != matrix[i + 1][j + 1]:\n",
    "                return False\n",
    "    return True\n",
    "\n",
    "matrix = [[1,2,3,4],[5,1,2,3],[9,5,1,2]]\n",
    "print(isToeplitzMatrix(matrix))"
   ]
  },
  {
   "cell_type": "code",
   "execution_count": 70,
   "metadata": {},
   "outputs": [
    {
     "name": "stdout",
     "output_type": "stream",
     "text": [
      "[[3, 6]]\n",
      "[]\n",
      "[[3, 5], [6, 9], [12, 14]]\n",
      "[[2, 4]]\n"
     ]
    }
   ],
   "source": [
    "\"\"\"\n",
    "830. 较大分组的位置\n",
    "https://leetcode-cn.com/problems/positions-of-large-groups/\n",
    "\"\"\"\n",
    "def largeGroupPositions(S):\n",
    "    # i, j为相同字母的开始索引, 结束索引的下一个\n",
    "    r, i, j = [], 0, 0\n",
    "    while j < len(S):\n",
    "        # 如果字母相同, j自增\n",
    "        if S[j] == S[i]:\n",
    "            j += 1\n",
    "            continue\n",
    "        # 索引差超过3\n",
    "        if j - i >= 3:\n",
    "            r.append([i, j - 1])\n",
    "        i = j\n",
    "    # 终止条件: 相同字母在末尾\n",
    "    if j - i >= 3:\n",
    "        r.append([i, j - 1])\n",
    "    return r\n",
    "\n",
    "print(largeGroupPositions(\"abbxxxxzzy\"))\n",
    "print(largeGroupPositions(\"abc\"))\n",
    "print(largeGroupPositions(\"abcdddeeeeaabbbcd\"))\n",
    "print(largeGroupPositions(\"abccc\"))"
   ]
  },
  {
   "cell_type": "code",
   "execution_count": 71,
   "metadata": {},
   "outputs": [
    {
     "name": "stdout",
     "output_type": "stream",
     "text": [
      "[[1, 0, 0], [0, 1, 0], [1, 1, 1]]\n"
     ]
    }
   ],
   "source": [
    "\"\"\"\n",
    "832. 翻转图像\n",
    "https://leetcode-cn.com/problems/flipping-an-image/\n",
    "\"\"\"\n",
    "def flipAndInvertImage(A):\n",
    "    m, n = len(A), len(A[0])\n",
    "    for i in range(m):\n",
    "        j, k = 0, n - 1\n",
    "        # 行翻转\n",
    "        while j < k:\n",
    "            A[i][j], A[i][k] = A[i][k], A[i][j]\n",
    "            j += 1\n",
    "            k -= 1\n",
    "    \n",
    "    # 0, 1互换\n",
    "    for i in range(m):\n",
    "        for j in range(n):\n",
    "            A[i][j] = 1 if A[i][j] == 0 else 0\n",
    "            \n",
    "    return A\n",
    "\n",
    "print(flipAndInvertImage([[1,1,0],[1,0,1],[0,0,0]]))"
   ]
  },
  {
   "cell_type": "code",
   "execution_count": 75,
   "metadata": {},
   "outputs": [
    {
     "name": "stdout",
     "output_type": "stream",
     "text": [
      "1\n"
     ]
    }
   ],
   "source": [
    "\"\"\"\n",
    "840. 矩阵中的幻方\n",
    "https://leetcode-cn.com/problems/magic-squares-in-grid/\n",
    "\"\"\"\n",
    "def numMagicSquaresInside(grid):\n",
    "    def help(grid, i, j):\n",
    "        # 确定数字为1~9\n",
    "        col1, col2, col3 = grid[i][j:j+3], grid[i+1][j:j+3], grid[i+2][j:j+3]\n",
    "        if set(col1).union(set(col2)).union(set(col3)) != set(range(1,10)):\n",
    "            return False\n",
    "        # 每行比较\n",
    "        if not all([sum(grid[i][j:j+3]) == 15,\n",
    "              sum(grid[i+1][j:j+3]) == 15,\n",
    "              sum(grid[i+2][j:j+3]) == 15]):\n",
    "            return False\n",
    "        # 每列比较\n",
    "        for k in range(3):\n",
    "            if not (grid[i][j + k] + grid[i+1][j + k] + grid[i+2][j+k] == 15):\n",
    "                return False\n",
    "        # 斜比较\n",
    "        if not (grid[i][j] + grid[i+1][j+1] + grid[i+2][j+2] == 15):\n",
    "            return False\n",
    "        if not (grid[i][j+2] + grid[i+1][j+1] + grid[i+2][j] == 15):\n",
    "            return False\n",
    "        return True\n",
    "    \n",
    "    m, n = len(grid), len(grid[0])\n",
    "    r = 0\n",
    "    for i in range(m - 2):\n",
    "        for j in range(n - 2):\n",
    "            if help(grid, i, j):\n",
    "                r += 1\n",
    "    return r\n",
    "\n",
    "grid = [[4,3,8,4],[9,5,1,9],[2,7,6,2]]\n",
    "print(numMagicSquaresInside(grid))"
   ]
  },
  {
   "cell_type": "code",
   "execution_count": 78,
   "metadata": {},
   "outputs": [
    {
     "name": "stdout",
     "output_type": "stream",
     "text": [
      "2\n",
      "3\n"
     ]
    }
   ],
   "source": [
    "\"\"\"\n",
    "849. 到最近的人的最大距离\n",
    "https://leetcode-cn.com/problems/maximize-distance-to-closest-person/\n",
    "\"\"\"\n",
    "def maxDistToClosest(seats):\n",
    "    max_count = 0\n",
    "    # 开头/结尾为0, 则特殊处理\n",
    "    if seats[0] == 0 and 1 in seats:\n",
    "        max_count = max(max_count, seats.index(1))\n",
    "    if seats[-1] == 0 and 1 in seats:\n",
    "        max_count = max(max_count, seats[::-1].index(1))\n",
    "\n",
    "    # 找到0的最大个数\n",
    "    count, start, end = 0, None, None\n",
    "    for i in range(len(seats)):\n",
    "        if seats[i] == 0 and start is None:\n",
    "            start = i\n",
    "        if seats[i] == 1 and start is not None and end is None:\n",
    "            end = i\n",
    "        if start is not None and end is not None:\n",
    "            count = max(count, end - start)\n",
    "            start, end = None, None\n",
    "    if count % 2 == 0:\n",
    "        return max(max_count, count // 2)\n",
    "    return max(max_count, count // 2 + 1)\n",
    "    \n",
    "print(maxDistToClosest([1,0,0,0,1,0,1]))\n",
    "print(maxDistToClosest([1,0,0,0]))"
   ]
  },
  {
   "cell_type": "code",
   "execution_count": 80,
   "metadata": {},
   "outputs": [
    {
     "name": "stdout",
     "output_type": "stream",
     "text": [
      "[[1, 4, 7], [2, 5, 8], [3, 6, 9]]\n",
      "[(1, 4, 7), (2, 5, 8), (3, 6, 9)]\n"
     ]
    }
   ],
   "source": [
    "\"\"\"\n",
    "867. 转置矩阵\n",
    "https://leetcode-cn.com/problems/transpose-matrix/\n",
    "\"\"\"\n",
    "def transpose(A):\n",
    "    m, n = len(A), len(A[0])\n",
    "    r = [[0 for i in range(m)] for j in range(n)]\n",
    "    # 不推荐使用临时变量 + 在矩阵A上直接修改. 这样代码不太好理解.\n",
    "    for i in range(n):\n",
    "        for j in range(m):\n",
    "            r[i][j] = A[j][i]\n",
    "\n",
    "    return r\n",
    "\n",
    "def transpose1(A):\n",
    "    return list(zip(*A))\n",
    "\n",
    "print(transpose([[1,2,3],[4,5,6],[7,8,9]]))\n",
    "print(transpose1([[1,2,3],[4,5,6],[7,8,9]]))"
   ]
  },
  {
   "cell_type": "code",
   "execution_count": null,
   "metadata": {},
   "outputs": [],
   "source": []
  }
 ],
 "metadata": {
  "kernelspec": {
   "display_name": "Python 3",
   "language": "python",
   "name": "python3"
  },
  "language_info": {
   "codemirror_mode": {
    "name": "ipython",
    "version": 3
   },
   "file_extension": ".py",
   "mimetype": "text/x-python",
   "name": "python",
   "nbconvert_exporter": "python",
   "pygments_lexer": "ipython3",
   "version": "3.7.3"
  }
 },
 "nbformat": 4,
 "nbformat_minor": 2
}
