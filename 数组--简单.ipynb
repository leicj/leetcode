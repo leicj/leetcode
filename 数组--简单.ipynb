{
 "cells": [
  {
   "cell_type": "code",
   "execution_count": 1,
   "metadata": {},
   "outputs": [
    {
     "name": "stdout",
     "output_type": "stream",
     "text": [
      "[0, 1]\n"
     ]
    }
   ],
   "source": [
    "\"\"\"\n",
    "1. 两数之和\n",
    "https://leetcode-cn.com/problems/two-sum/submissions/\n",
    "\"\"\"\n",
    "def twoSum(nums, target):\n",
    "    # 假设v1 + v2 = target, i1, i2为它们的索引\n",
    "    d = {}\n",
    "    for i, v in enumerate(nums):\n",
    "        # 找到v2, 则通过d, 将v1的索引找出(d[v])\n",
    "        if v in d:\n",
    "            return [d[v], i]\n",
    "        # 将v2和i1关联起来, 这样定位到v2时候, 就可以找到v1的索引i1\n",
    "        d[target - v] = i\n",
    "        \n",
    "print(twoSum([2,7,11,15], 9))"
   ]
  },
  {
   "cell_type": "code",
   "execution_count": 2,
   "metadata": {},
   "outputs": [
    {
     "name": "stdout",
     "output_type": "stream",
     "text": [
      "2\n",
      "2\n",
      "5\n"
     ]
    }
   ],
   "source": [
    "\"\"\"\n",
    "26. 删除排序数组中的重复项\n",
    "https://leetcode-cn.com/problems/remove-duplicates-from-sorted-array/\n",
    "\"\"\"\n",
    "def removeDuplicates(nums):\n",
    "    # 如果数组为空, 则返回0\n",
    "    if not nums:\n",
    "        return 0\n",
    "    # i为不同元素的数组的长度\n",
    "    i = 1\n",
    "    for j in range(1, len(nums)):\n",
    "        # nums[j]的元素不等于nums[i - 1], 则进行copy, 并且i自增\n",
    "        if nums[j] != nums[i - 1]:\n",
    "            nums[i] = nums[j]\n",
    "            i += 1\n",
    "    return i\n",
    "\n",
    "print(removeDuplicates([1,1,2]))\n",
    "print(removeDuplicates([1,1,2,2]))\n",
    "print(removeDuplicates([0,0,1,1,1,2,2,3,3,4]))"
   ]
  },
  {
   "cell_type": "code",
   "execution_count": 4,
   "metadata": {},
   "outputs": [
    {
     "name": "stdout",
     "output_type": "stream",
     "text": [
      "2\n",
      "5\n"
     ]
    }
   ],
   "source": [
    "\"\"\"\n",
    "27. 移除元素\n",
    "https://leetcode-cn.com/problems/remove-element/\n",
    "\"\"\"\n",
    "def removeElement(nums, val):\n",
    "    # i为不同元素的数组的长度\n",
    "    i = 0\n",
    "    for j in range(0, len(nums)):\n",
    "        # 如果nums[j]不等于val, 则将nums[j]赋值给nums[i]即可, i自增\n",
    "        if nums[j] != val:\n",
    "            nums[i] = nums[j]\n",
    "            i += 1\n",
    "    return i\n",
    "\n",
    "print(removeElement([3,2,2,3], 3))\n",
    "print(removeElement([0,1,2,2,3,0,4,2], 2))"
   ]
  },
  {
   "cell_type": "code",
   "execution_count": 5,
   "metadata": {},
   "outputs": [
    {
     "name": "stdout",
     "output_type": "stream",
     "text": [
      "2\n",
      "1\n",
      "4\n",
      "0\n"
     ]
    }
   ],
   "source": [
    "\"\"\"\n",
    "35. 搜索插入位置\n",
    "https://leetcode-cn.com/problems/search-insert-position/\n",
    "\"\"\"\n",
    "def searchInsert(nums, target):\n",
    "    for i, v in enumerate(nums):\n",
    "        # 找到大于target的元素, 则返回当前索引\n",
    "        if v >= target:\n",
    "            return i\n",
    "    # 说明没有任何元素大于target, 则插入到数组的末尾\n",
    "    return len(nums)\n",
    "\n",
    "print(searchInsert([1,3,5,6], 5))\n",
    "print(searchInsert([1,3,5,6], 2))\n",
    "print(searchInsert([1,3,5,6], 7))\n",
    "print(searchInsert([1,3,5,6], 0))"
   ]
  },
  {
   "cell_type": "code",
   "execution_count": 6,
   "metadata": {},
   "outputs": [
    {
     "name": "stdout",
     "output_type": "stream",
     "text": [
      "6\n"
     ]
    }
   ],
   "source": [
    "\"\"\"\n",
    "53. 最大子序和\n",
    "https://leetcode-cn.com/problems/maximum-subarray/\n",
    "\"\"\"\n",
    "def maxSubArray(nums):\n",
    "    for i in range(1, len(nums)):\n",
    "        # 当前索引i永远存储0~i的最大和\n",
    "        nums[i] = max(nums[i], nums[i] + nums[i - 1])\n",
    "    # 返回每个索引最大和的最大值\n",
    "    return max(nums)\n",
    "\n",
    "print(maxSubArray([-2,1,-3,4,-1,2,1,-5,4]))"
   ]
  },
  {
   "cell_type": "code",
   "execution_count": 8,
   "metadata": {},
   "outputs": [
    {
     "name": "stdout",
     "output_type": "stream",
     "text": [
      "[1, 2, 4]\n",
      "[4, 3, 2, 2]\n",
      "[1, 0, 0, 0]\n"
     ]
    }
   ],
   "source": [
    "\"\"\"\n",
    "66. 加一\n",
    "https://leetcode-cn.com/problems/plus-one/\n",
    "\"\"\"\n",
    "def plusOne(digits):\n",
    "    # 将digits进行倒序, 最后在倒序, 便于理解\n",
    "    # 将k初始化为1, 就相当于加1\n",
    "    digits, k = digits[::-1], 1\n",
    "    for i, d in enumerate(digits):\n",
    "        # 如果当前值不大于10, 说明无需继续下去, 并设置k=0\n",
    "        if d + k < 10:\n",
    "            digits[i] = d + k\n",
    "            k = 0\n",
    "            break\n",
    "        else:\n",
    "            # 将k设置为1, 并且当前索引设置为0(因为加1, 所以肯定为0)\n",
    "            k, digits[i] = 1, 0\n",
    "    # 说明最后还存在进位\n",
    "    if k == 1:\n",
    "        digits.append(1)\n",
    "        \n",
    "    return digits[::-1]\n",
    "\n",
    "print(plusOne([1,2,3]))\n",
    "print(plusOne([4,3,2,1]))\n",
    "print(plusOne([9,9,9]))"
   ]
  },
  {
   "cell_type": "code",
   "execution_count": 9,
   "metadata": {},
   "outputs": [
    {
     "name": "stdout",
     "output_type": "stream",
     "text": [
      "[1, 2, 2, 3, 5, 6]\n"
     ]
    }
   ],
   "source": [
    "\"\"\"\n",
    "88. 合并两个有序数组\n",
    "https://leetcode-cn.com/problems/merge-sorted-array/\n",
    "\"\"\"\n",
    "def merge(nums1, m, nums2, n):\n",
    "    mn = m + n\n",
    "    m -= 1\n",
    "    n -= 1\n",
    "    # 从后往前一一赋值, 将较大的值赋给num1[m + n]即可\n",
    "    # 由于是写入num1, 所以只要判断n >= 0即可\n",
    "    while n >= 0:\n",
    "        mn -= 1\n",
    "        if m >= 0 and nums1[m] > nums2[n]:\n",
    "            nums1[mn] = nums1[m]\n",
    "            m -= 1\n",
    "        else:\n",
    "            nums1[mn] = nums2[n]\n",
    "            n -= 1\n",
    "\n",
    "nums1, nums2 = [1,2,3,0,0,0], [2,5,6]\n",
    "merge(nums1, 3, nums2, 3)\n",
    "print(nums1)"
   ]
  },
  {
   "cell_type": "code",
   "execution_count": 11,
   "metadata": {},
   "outputs": [
    {
     "name": "stdout",
     "output_type": "stream",
     "text": [
      "[[1], [1, 1], [1, 2, 1], [1, 3, 3, 1], [1, 4, 6, 4, 1]]\n"
     ]
    }
   ],
   "source": [
    "\"\"\"\n",
    "118. 杨辉三角\n",
    "https://leetcode-cn.com/problems/pascals-triangle/\n",
    "\"\"\"\n",
    "def generate(numRows):\n",
    "    # 处理0, 1的特殊情况\n",
    "    if numRows == 0:\n",
    "        return []\n",
    "    if numRows == 1:\n",
    "        return [[1]]\n",
    "    # 从第二行开始, 数组两边都是1\n",
    "    r = [[1]] + [[1, 1] for _ in range(numRows - 1)]\n",
    "    # 第i行\n",
    "    for i in range(2, numRows):\n",
    "        # 第i行的第j个元素, 等于上一行的j, j + 1的元素之和\n",
    "        for j in range(len(r[i - 1]) - 1):\n",
    "            r[i].insert(j + 1, r[i - 1][j] + r[i - 1][j + 1])\n",
    "    return r\n",
    "\n",
    "print(generate(5))"
   ]
  },
  {
   "cell_type": "code",
   "execution_count": 12,
   "metadata": {},
   "outputs": [
    {
     "name": "stdout",
     "output_type": "stream",
     "text": [
      "[1, 5, 10, 10, 5, 1]\n"
     ]
    }
   ],
   "source": [
    "\"\"\"\n",
    "119. 杨辉三角II\n",
    "https://leetcode-cn.com/problems/pascals-triangle-ii/\n",
    "\"\"\"\n",
    "def getRow(rowIndex):\n",
    "    # j行的数据, 应该由j - 1行的数据计算出来.\n",
    "    # 假设j - 1行为[1,3,3,1], 那么我们前面插入一个0(j行的数据会比j-1行多一个),\n",
    "    # 然后执行相加[0+1,1+3,3+3,3+1,1] = [1,4,6,4,1], 最后一个1保留即可.\n",
    "    r = [1]\n",
    "    for i in range(1, rowIndex + 1):\n",
    "        r.insert(0, 0)\n",
    "        # 因为i行的数据长度为i+1, 所以j+1不会越界, 并且最后一个1不会被修改.\n",
    "        for j in range(i):\n",
    "            r[j] = r[j] + r[j + 1]\n",
    "    return r\n",
    "\n",
    "print(getRow(5))"
   ]
  },
  {
   "cell_type": "code",
   "execution_count": 13,
   "metadata": {},
   "outputs": [
    {
     "name": "stdout",
     "output_type": "stream",
     "text": [
      "5\n",
      "0\n"
     ]
    }
   ],
   "source": [
    "\"\"\"\n",
    "121. 买卖股票的最佳时机\n",
    "https://leetcode-cn.com/problems/best-time-to-buy-and-sell-stock/\n",
    "\"\"\"\n",
    "def maxProfit(prices):\n",
    "    # 倒序遍历数组, 获取其最大值\n",
    "    # 将最大值 - 每个值 = 当前的最大利润\n",
    "    if not prices:\n",
    "        return 0\n",
    "    r, max_price = 0, prices[-1]\n",
    "    for i in range(len(prices) - 1, -1, -1):\n",
    "        # 当前更大的值\n",
    "        if prices[i] > max_price:\n",
    "            max_price = prices[i]\n",
    "        else:\n",
    "            # 最大利润\n",
    "            r = max(max_price - prices[i], r)\n",
    "    return r\n",
    "\n",
    "print(maxProfit([7,1,5,3,6,4]))\n",
    "print(maxProfit([7,6,4,3,1]))"
   ]
  },
  {
   "cell_type": "code",
   "execution_count": 14,
   "metadata": {},
   "outputs": [
    {
     "name": "stdout",
     "output_type": "stream",
     "text": [
      "7\n",
      "4\n"
     ]
    }
   ],
   "source": [
    "\"\"\"\n",
    "122. 买卖股票的最佳时机II\n",
    "https://leetcode-cn.com/problems/best-time-to-buy-and-sell-stock-ii/\n",
    "\"\"\"\n",
    "def maxProfit(prices):\n",
    "    # 考虑[1,2,3], 最大利润 = 3 - 1,\n",
    "    # 实际上等价于(2 - 1) + (3 - 2)(违背卖出2再买入2的规则), 但这不影响最终的结果\n",
    "    # 所以, 最大利润 = 每次升序的差值\n",
    "    r = 0\n",
    "    for i in range(1, len(prices)):\n",
    "        v = prices[i] - prices[i - 1]\n",
    "        r += v if v > 0 else 0\n",
    "    return r\n",
    "\n",
    "print(maxProfit([7,1,5,3,6,4]))\n",
    "print(maxProfit([1,2,3,4,5]))"
   ]
  },
  {
   "cell_type": "code",
   "execution_count": 15,
   "metadata": {},
   "outputs": [
    {
     "name": "stdout",
     "output_type": "stream",
     "text": [
      "[1, 2]\n"
     ]
    }
   ],
   "source": [
    "\"\"\"\n",
    "167. 两数之和 II - 输入有序数组\n",
    "https://leetcode-cn.com/problems/two-sum-ii-input-array-is-sorted/\n",
    "\"\"\"\n",
    "def twoSum(numbers, target):\n",
    "    # i, j指向数组的首尾, 相加. 如果小于target, 则i自增, 大于则j自减;\n",
    "    # 等于, 则返回索引\n",
    "    i, j = 0, len(numbers) - 1\n",
    "    while numbers[i] + numbers[j] != target:\n",
    "        if numbers[i] + numbers[j] < target:\n",
    "            i += 1\n",
    "        else:\n",
    "            j -= 1\n",
    "    return [i + 1, j + 1]\n",
    "\n",
    "print(twoSum([2, 7, 11, 15], 9))"
   ]
  },
  {
   "cell_type": "code",
   "execution_count": null,
   "metadata": {},
   "outputs": [],
   "source": [
    "\"\"\"\n",
    "169. 求众数\n",
    "https://leetcode-cn.com/problems/majority-element/submissions/\n",
    "\"\"\"\n",
    "def majorityElement(nums):\n",
    "    nums.sort()\n",
    "    return nums[len(nums) // 2]"
   ]
  }
 ],
 "metadata": {
  "kernelspec": {
   "display_name": "Python 3",
   "language": "python",
   "name": "python3"
  },
  "language_info": {
   "codemirror_mode": {
    "name": "ipython",
    "version": 3
   },
   "file_extension": ".py",
   "mimetype": "text/x-python",
   "name": "python",
   "nbconvert_exporter": "python",
   "pygments_lexer": "ipython3",
   "version": "3.7.3"
  }
 },
 "nbformat": 4,
 "nbformat_minor": 2
}
