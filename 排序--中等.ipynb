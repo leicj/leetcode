{
 "cells": [
  {
   "cell_type": "code",
   "execution_count": 6,
   "metadata": {},
   "outputs": [
    {
     "name": "stdout",
     "output_type": "stream",
     "text": [
      "[[1, 6], [8, 10], [15, 18]]\n",
      "[[1, 10]]\n"
     ]
    }
   ],
   "source": [
    "\"\"\"\n",
    "56. 合并区间\n",
    "https://leetcode-cn.com/problems/merge-intervals/\n",
    "\"\"\"\n",
    "def merge(nums):\n",
    "    \"\"\"\n",
    "        1. 判断区间是否有交集的方法是: [a, b], [c, d], 只要a <= d and b >= c即可.\n",
    "        2. 两次遍历数组, 将第i个元素和 i + 1 ~ N的元素进行合并, 然后继续执行i+1的遍历.\n",
    "        3. 要将被合并的元素删除.\n",
    "    \"\"\"\n",
    "    i, N = 0, len(nums)\n",
    "    while i < N:\n",
    "        del_indexs = []\n",
    "        for j in range(i+1, len(nums)):\n",
    "            # 找到合并的区间, 进行合并\n",
    "            if nums[i][0] <= nums[j][1] and nums[i][1] >= nums[j][0]:\n",
    "                nums[i] = [min(nums[i][0], nums[j][0]), max(nums[i][1], nums[j][1])]\n",
    "                del_indexs.append(j)\n",
    "        # 将被合并的区间删除\n",
    "        if del_indexs:\n",
    "            # 如果存在被合并的区间, 那么合并的元素要重新进行合并判断\n",
    "            i -= 1\n",
    "            nums = [n for i, n in enumerate(nums) if i not in del_indexs]\n",
    "        i += 1\n",
    "    \n",
    "    return nums\n",
    "\n",
    "print(merge([[1,3],[2,6],[8,10],[15,18]]))\n",
    "print(merge([[2,3],[4,5],[6,7],[8,9],[1,10]]))"
   ]
  },
  {
   "cell_type": "code",
   "execution_count": 17,
   "metadata": {},
   "outputs": [
    {
     "name": "stdout",
     "output_type": "stream",
     "text": [
      "[0, 0, 1, 1, 2, 2]\n",
      "[0, 0, 0, 0, 1, 1, 1, 2, 2, 2, 2, 2]\n"
     ]
    }
   ],
   "source": [
    "\"\"\"\n",
    "75. 颜色分类\n",
    "https://leetcode-cn.com/problems/sort-colors/\n",
    "\"\"\"\n",
    "def sortColors(nums):\n",
    "    \"\"\"\n",
    "        1. 第一次遍历, 将所有的0放在开头.\n",
    "        2. 第二次遍历, 将所有的1放在开头.\n",
    "    \"\"\"\n",
    "    i, j = 0, len(nums) - 1\n",
    "    while i < j:\n",
    "        while i < j and nums[i] == 0:\n",
    "            i += 1\n",
    "        while j > i and nums[j] != 0:\n",
    "            j -= 1\n",
    "        nums[i], nums[j] = nums[j], nums[i]\n",
    "        i += 1\n",
    "        j -= 1\n",
    "    \n",
    "    i, j = 0, len(nums) - 1\n",
    "    while i < j:\n",
    "        if nums[i] == 0:\n",
    "            i += 1\n",
    "            continue\n",
    "        while i < j and nums[i] == 1:\n",
    "            i += 1\n",
    "        while j > i and nums[j] == 2:\n",
    "            j -= 1\n",
    "        nums[i], nums[j] = nums[j], nums[i]\n",
    "        i += 1\n",
    "        j -= 1\n",
    "    \n",
    "    return nums\n",
    "    \n",
    "print(sortColors([2,0,2,1,1,0]))\n",
    "print(sortColors([2,1,2,0,0,1,2,0,2,1,0,2]))\n",
    "        "
   ]
  },
  {
   "cell_type": "code",
   "execution_count": 31,
   "metadata": {},
   "outputs": [
    {
     "name": "stdout",
     "output_type": "stream",
     "text": [
      "210\n",
      "9534330\n",
      "9534330\n",
      "0\n"
     ]
    }
   ],
   "source": [
    "\"\"\"\n",
    "179. 最大数\n",
    "https://leetcode-cn.com/problems/largest-number/\n",
    "\"\"\"\n",
    "import functools\n",
    "def largestNumber(nums):\n",
    "    # 倒序比较\n",
    "    def cmp(a, b):\n",
    "        if int(f'{b}{a}') > int(f'{a}{b}'):\n",
    "            return 1\n",
    "        elif int(f'{b}{a}') == int(f'{a}{b}'):\n",
    "            return 0\n",
    "        else:\n",
    "            return -1\n",
    "    # 将nums进行比较\n",
    "    r = ''.join(sorted(map(str, nums), key=functools.cmp_to_key(cmp)))\n",
    "    # 去掉前面的0\n",
    "    i = 0\n",
    "    while i < len(r) and r[i] == '0':\n",
    "        i += 1\n",
    "    return r[i:] if r[i:] else '0'\n",
    "    \n",
    "print(largestNumber([10,2]))\n",
    "print(largestNumber([3,30,34,5,9]))\n",
    "print(largestNumber([3,30,34,5,9]))\n",
    "print(largestNumber([0,0]))"
   ]
  },
  {
   "cell_type": "code",
   "execution_count": 109,
   "metadata": {},
   "outputs": [
    {
     "name": "stdout",
     "output_type": "stream",
     "text": [
      "True\n",
      "True\n",
      "False\n",
      "True\n",
      "False\n",
      "True\n",
      "True\n",
      "True\n",
      "False\n",
      "True\n",
      "False\n",
      "True\n",
      "True\n",
      "False\n"
     ]
    }
   ],
   "source": [
    "\"\"\"\n",
    "220. 存在重复元素III\n",
    "https://leetcode-cn.com/problems/contains-duplicate-iii/\n",
    "\"\"\"\n",
    "\n",
    "# 超时\n",
    "def containsNearbyAlmostDuplicate(nums, k, t):\n",
    "    def help(nums):\n",
    "        nonlocal t\n",
    "        _nums = []\n",
    "        for i in range(len(nums) - 1):\n",
    "            _nums.append(nums[i + 1] - nums[i])\n",
    "        return any([True if n <= t else False for n in _nums])\n",
    "    \n",
    "    for i in range(len(nums)):\n",
    "        if help(sorted(nums[i:i+k+1])):\n",
    "            return True\n",
    "    return False\n",
    "\n",
    "# 来自官网的答案(桶排序)\n",
    "def containsNearbyAlmostDuplicate1(nums, k, t):\n",
    "    def getID(x, w):\n",
    "        return (x + 1) // w - 1 if x < 0 else x // w\n",
    "    \n",
    "    if t < 0: return False\n",
    "    d, w = {}, t + 1\n",
    "    for i in range(len(nums)):\n",
    "        m = getID(nums[i], w)\n",
    "        if m in d: return True\n",
    "        if m - 1 in d and abs(nums[i] - d[m-1]) < w: return True\n",
    "        if m + 1 in d and abs(nums[i] - d[m+1]) < w: return True\n",
    "        d[m] = nums[i]\n",
    "        if i >= k:\n",
    "            del d[getID(nums[i-k], w)]\n",
    "    return False\n",
    "\n",
    "print(containsNearbyAlmostDuplicate([1,2,3,1], 3, 0))\n",
    "print(containsNearbyAlmostDuplicate([1,0,1,1], 1, 2))\n",
    "print(containsNearbyAlmostDuplicate([1,5,9,1,5,9], 2, 3))\n",
    "print(containsNearbyAlmostDuplicate([2,2], 3, 0))\n",
    "print(containsNearbyAlmostDuplicate([1], 1, 1))\n",
    "print(containsNearbyAlmostDuplicate([7,1,3], 2, 3))\n",
    "\n",
    "print(containsNearbyAlmostDuplicate1([1,2,3,1], 3, 0))\n",
    "print(containsNearbyAlmostDuplicate1([1,0,1,1], 1, 2))\n",
    "print(containsNearbyAlmostDuplicate1([1,5,9,1,5,9], 2, 3))\n",
    "print(containsNearbyAlmostDuplicate1([2,2], 3, 0))\n",
    "print(containsNearbyAlmostDuplicate1([1], 1, 1))\n",
    "print(containsNearbyAlmostDuplicate1([7,1,3], 2, 3))\n",
    "print(containsNearbyAlmostDuplicate1([2,1],1,1))\n",
    "print(containsNearbyAlmostDuplicate1([-3,3],2,4))"
   ]
  },
  {
   "cell_type": "code",
   "execution_count": 43,
   "metadata": {},
   "outputs": [
    {
     "name": "stdout",
     "output_type": "stream",
     "text": [
      "3\n"
     ]
    }
   ],
   "source": [
    "\"\"\"\n",
    "274. H指数\n",
    "https://leetcode-cn.com/problems/h-index/\n",
    "\"\"\"\n",
    "def hIndex(citations):\n",
    "    citations.sort()\n",
    "    n = len(citations)\n",
    "    for i in range(len(citations)):\n",
    "        if citations[i] >= n:\n",
    "            return n\n",
    "        n -= 1\n",
    "    return 0\n",
    "    \n",
    "print(hIndex([3,0,6,1,5]))"
   ]
  },
  {
   "cell_type": "code",
   "execution_count": 99,
   "metadata": {},
   "outputs": [
    {
     "name": "stdout",
     "output_type": "stream",
     "text": [
      "[1, 2, 1, 2, 1, 2, 1, 2, 1, 2, 1, 2]\n",
      "[2, 3, 1, 3, 1, 2]\n",
      "[1, 2, 1, 2, 1, 2, 1]\n",
      "[1, 2, 1, 2, 1, 2, 1, 2, 1]\n",
      "[5, 6, 4, 5]\n"
     ]
    }
   ],
   "source": [
    "\"\"\"\n",
    "324. 摆动排序 II\n",
    "https://leetcode-cn.com/problems/wiggle-sort-ii/\n",
    "\"\"\"\n",
    "import math\n",
    "def wiggleSort(nums):\n",
    "    nums.sort()\n",
    "    # 获取前半部分的长度\n",
    "    half = len(nums[::2])\n",
    "    # 进行间隔赋值\n",
    "    nums[::2], nums[1::2] = nums[:half][::-1], nums[half:][::-1]\n",
    "    return nums\n",
    "\n",
    "print(wiggleSort([1,2,2,1,2,1,1,1,1,2,2,2]))\n",
    "print(wiggleSort([1,3,2,2,3,1]))\n",
    "print(wiggleSort([1,1,1,2,2,2,1]))\n",
    "print(wiggleSort([1,2,1,2,1,1,2,2,1]))\n",
    "print(wiggleSort([4,5,5,6]))"
   ]
  },
  {
   "cell_type": "code",
   "execution_count": 123,
   "metadata": {},
   "outputs": [
    {
     "name": "stdout",
     "output_type": "stream",
     "text": [
      "apple\n",
      "a\n",
      "ab\n"
     ]
    }
   ],
   "source": [
    "\"\"\"\n",
    "524. 通过删除字母匹配到字典里最长单词\n",
    "https://leetcode-cn.com/problems/longest-word-in-dictionary-through-deleting/\n",
    "\"\"\"\n",
    "import collections\n",
    "def findLongestWord(s, d):\n",
    "    r = []\n",
    "    d.sort(key=lambda a: -len(a))\n",
    "    # 找到所有能匹配的字符串\n",
    "    for i in range(len(d)):\n",
    "        index = -1\n",
    "        for j in range(len(d[i])):\n",
    "            if d[i][j] not in s[index+1:]:\n",
    "                break\n",
    "            index = s.index(d[i][j], index + 1)\n",
    "        else:\n",
    "            if not r or len(d[i]) == len(r[-1]):\n",
    "                r.append(d[i])\n",
    "\n",
    "    if not r: return \"\"\n",
    "    r.sort()\n",
    "    return r[0]\n",
    "            \n",
    "    \n",
    "\n",
    "print(findLongestWord(\"abpcplea\", [\"ale\",\"apple\",\"monkey\",\"plea\"]))\n",
    "print(findLongestWord(\"abpcplea\", [\"a\", \"b\", \"c\"]))\n",
    "print(findLongestWord(\"bab\", [\"ba\", \"ab\", \"a\", \"b\"]))"
   ]
  },
  {
   "cell_type": "code",
   "execution_count": 126,
   "metadata": {},
   "outputs": [
    {
     "name": "stdout",
     "output_type": "stream",
     "text": [
      "[12.0, 3.0, 7.0, 1.0, 1.0]\n",
      "1.0 1.0\n",
      "1.0 7.0\n",
      "7.0 3.0\n",
      "7.0 12.0\n",
      "3\n"
     ]
    }
   ],
   "source": [
    "\"\"\"\n",
    "853. 车队\n",
    "https://leetcode-cn.com/problems/car-fleet/\n",
    "\"\"\"\n",
    "def carFleet(target, position, speed):\n",
    "    cars = sorted(zip(position, speed))\n",
    "    times = [(target - p) / s for p, s in cars]\n",
    "    print(times)\n",
    "    ans = 0\n",
    "    while len(times) > 1:\n",
    "        lead = times.pop()\n",
    "        print(lead, times[-1])\n",
    "        if lead < times[-1]: ans += 1\n",
    "        else: times[-1] = lead\n",
    "    \n",
    "    return ans + bool(times)\n",
    "\n",
    "print(carFleet(12, [10,8,0,5,3], [2,4,1,1,3]))"
   ]
  },
  {
   "cell_type": "code",
   "execution_count": 127,
   "metadata": {},
   "outputs": [
    {
     "name": "stdout",
     "output_type": "stream",
     "text": [
      "[3, 4, 2, 3, 1, 2]\n"
     ]
    }
   ],
   "source": [
    "\"\"\"\n",
    "969. 煎饼排序\n",
    "https://leetcode-cn.com/problems/pancake-sorting/\n",
    "\"\"\"\n",
    "def pancakeSort(A):\n",
    "    # 来自LeetCode上的答案\n",
    "    res = []\n",
    "    for x in range(len(A), 1, -1):\n",
    "        i = A.index(x)\n",
    "        res.extend([i+1, x])\n",
    "        A = A[:i:-1] + A[:i]\n",
    "    \n",
    "    return res\n",
    "\n",
    "print(pancakeSort([3,2,4,1]))"
   ]
  },
  {
   "cell_type": "code",
   "execution_count": null,
   "metadata": {},
   "outputs": [],
   "source": []
  }
 ],
 "metadata": {
  "kernelspec": {
   "display_name": "Python 3",
   "language": "python",
   "name": "python3"
  },
  "language_info": {
   "codemirror_mode": {
    "name": "ipython",
    "version": 3
   },
   "file_extension": ".py",
   "mimetype": "text/x-python",
   "name": "python",
   "nbconvert_exporter": "python",
   "pygments_lexer": "ipython3",
   "version": "3.7.3"
  }
 },
 "nbformat": 4,
 "nbformat_minor": 2
}
