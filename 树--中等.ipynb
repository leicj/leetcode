{
 "cells": [
  {
   "cell_type": "code",
   "execution_count": 13,
   "metadata": {},
   "outputs": [],
   "source": [
    "# 将规范的数组, 转化为树型结构\n",
    "class TreeNode:\n",
    "    def __init__(self, x):\n",
    "        self.val = x\n",
    "        self.left = None\n",
    "        self.right = None\n",
    "\n",
    "class Node:\n",
    "    def __init__(self, val, children=[]):\n",
    "        self.val = val\n",
    "        self.children = children\n",
    "        \n",
    "def array2tree(arr):\n",
    "    n = arr.pop(0)\n",
    "    root = None if n is None else TreeNode(n)\n",
    "    queue = [root]\n",
    "    while arr and queue:\n",
    "        node = queue.pop(0)\n",
    "        if node is None:\n",
    "            continue\n",
    "        \n",
    "        n1 = arr.pop(0)\n",
    "        node.left = None if n1 is None else TreeNode(n1)\n",
    "        queue.append(node.left)\n",
    "        if arr:\n",
    "            n2 = arr.pop(0)\n",
    "            node.right = None if n2 is None else TreeNode(n2)\n",
    "            queue.append(node.right)\n",
    "    return root"
   ]
  },
  {
   "cell_type": "code",
   "execution_count": 2,
   "metadata": {},
   "outputs": [
    {
     "name": "stdout",
     "output_type": "stream",
     "text": [
      "[1, 3, 2]\n",
      "[1, 3, 2]\n"
     ]
    }
   ],
   "source": [
    "# 94. 二叉树的中序遍历\n",
    "# https://leetcode-cn.com/submissions/detail/23952312/\n",
    "# 解题思路\n",
    "# 1. 递归\n",
    "# 2. 迭代\n",
    "\n",
    "def inorderTraversal(root: TreeNode):\n",
    "    r = []\n",
    "    def help(node):\n",
    "        nonlocal r\n",
    "        if not node:\n",
    "            return\n",
    "        help(node.left)\n",
    "        r.append(node.val)\n",
    "        help(node.right)\n",
    "    \n",
    "    help(root)\n",
    "    return r\n",
    "\n",
    "def inorderTraversal1(root: TreeNode):\n",
    "    r, s, cur = [], [], root\n",
    "    while cur or s:\n",
    "        # 将左子树压入堆栈中\n",
    "        while cur:\n",
    "            s.append(cur)\n",
    "            cur = cur.left\n",
    "        cur = s.pop()\n",
    "        r.append(cur.val)\n",
    "        # 将左子树对应的右子树进行遍历\n",
    "        cur = cur.right\n",
    "    \n",
    "    return r\n",
    "\n",
    "# 简单测试\n",
    "t = array2tree([1, None, 2, 3])\n",
    "print(inorderTraversal(t))\n",
    "print(inorderTraversal1(t))"
   ]
  },
  {
   "cell_type": "code",
   "execution_count": 3,
   "metadata": {},
   "outputs": [
    {
     "name": "stdout",
     "output_type": "stream",
     "text": [
      "[<__main__.TreeNode object at 0x7efc204fcf50>, <__main__.TreeNode object at 0x7efc205170d0>, <__main__.TreeNode object at 0x7efc20517150>, <__main__.TreeNode object at 0x7efc20517210>, <__main__.TreeNode object at 0x7efc20517250>]\n"
     ]
    }
   ],
   "source": [
    "# 95. 不同的二叉搜索树II\n",
    "# https://leetcode-cn.com/problems/unique-binary-search-trees-ii/\n",
    "# 解题思路\n",
    "# 来自leetcode上的优质答案\n",
    "\n",
    "def generateTrees(n: int):\n",
    "    d = {}\n",
    "    if not n:\n",
    "        return []\n",
    "    def help(i, j):\n",
    "        nonlocal d\n",
    "        if (i, j) in d:\n",
    "            return d[(i, j)]\n",
    "        ans = []\n",
    "        for v in range(i, j + 1):\n",
    "            for left in help(i, v - 1):\n",
    "                for right in help(v + 1, j):\n",
    "                    root = TreeNode(v)\n",
    "                    root.left, root.right = left, right\n",
    "                    ans += [root]\n",
    "        d[(i, j)] = ans or [None]\n",
    "        return d[(i, j)]\n",
    "    return help(1, n)\n",
    "\n",
    "# 简单测试\n",
    "t = generateTrees(3)\n",
    "print(t)"
   ]
  },
  {
   "cell_type": "code",
   "execution_count": 1,
   "metadata": {},
   "outputs": [
    {
     "name": "stdout",
     "output_type": "stream",
     "text": [
      "5\n"
     ]
    }
   ],
   "source": [
    "# 96. 不同的二叉搜索树\n",
    "# https://leetcode-cn.com/problems/unique-binary-search-trees/\n",
    "# 解题思路\n",
    "# 经典的dp: dp[i] = dp[j] * dp[i - j - 1]\n",
    "\n",
    "def numTrees(n: int) -> int:\n",
    "    dp = [0 for i in range(n + 1)]\n",
    "    dp[0], dp[1] = 1, 1\n",
    "    i = 2\n",
    "    while i <= n:\n",
    "        for j in range(i):\n",
    "            dp[i] += dp[j] * dp[i - j - 1]\n",
    "        i += 1\n",
    "    \n",
    "    return dp[-1]\n",
    "\n",
    "# 简单测试\n",
    "print(numTrees(3))"
   ]
  },
  {
   "cell_type": "code",
   "execution_count": 6,
   "metadata": {},
   "outputs": [
    {
     "name": "stdout",
     "output_type": "stream",
     "text": [
      "True\n",
      "False\n",
      "True\n",
      "False\n"
     ]
    }
   ],
   "source": [
    "# 98. 验证二叉搜索树\n",
    "# https://leetcode-cn.com/problems/validate-binary-search-tree/\n",
    "# 解题思路\n",
    "# 1. 将树转为数组, 然后判断\n",
    "# 2. 直接判断树\n",
    "\n",
    "def isValidBST(root: TreeNode) -> bool:\n",
    "    def help(node, _min=None, _max=None):\n",
    "        if not node:\n",
    "            return True\n",
    "        if _min is not None and node.val <= _min:\n",
    "            return False\n",
    "        if _max is not None and node.val >= _max:\n",
    "            return False\n",
    "        return help(node.left, _min, node.val) and help(node.right, node.val, _max)\n",
    "    \n",
    "    return help(root)\n",
    "\n",
    "def isValidBST1(root: TreeNode) -> bool:\n",
    "    def help(node):\n",
    "        if not node:\n",
    "            return []\n",
    "        return help(node.left) + [node.val] + help(node.right)\n",
    "    nodes = help(root)\n",
    "    for i in range(1, len(nodes)):\n",
    "        if nodes[i] <= nodes[i - 1]:\n",
    "            return False\n",
    "    \n",
    "    return True\n",
    "\n",
    "# 简单测试\n",
    "t1, t2 = array2tree([2,1,3]), array2tree([5,1,4,None,None,3,6])\n",
    "print(isValidBST(t1))\n",
    "print(isValidBST(t2))\n",
    "print(isValidBST1(t1))\n",
    "print(isValidBST1(t2))"
   ]
  },
  {
   "cell_type": "code",
   "execution_count": 3,
   "metadata": {},
   "outputs": [
    {
     "name": "stdout",
     "output_type": "stream",
     "text": [
      "[[3], [9, 20], [15, 7]]\n",
      "[[3], [9, 20], [15, 7]]\n"
     ]
    }
   ],
   "source": [
    "# 102. 二叉树的层次遍历\n",
    "# https://leetcode-cn.com/problems/binary-tree-level-order-traversal/submissions/\n",
    "# 解题思路\n",
    "# 1. 递归\n",
    "# 2. 迭代\n",
    "\n",
    "def levelOrder(root: TreeNode):\n",
    "    if not root:\n",
    "        return []\n",
    "    r = []\n",
    "    def help(node, level=0):\n",
    "        nonlocal r\n",
    "        if not node:\n",
    "            return\n",
    "        if len(r) <= level:\n",
    "            r.append([])\n",
    "        r[level].append(node.val)\n",
    "        help(node.left, level + 1)\n",
    "        help(node.right, level + 1)\n",
    "    help(root)\n",
    "    \n",
    "    return r\n",
    "\n",
    "def levelOrder1(root: TreeNode):\n",
    "    if not root:\n",
    "        return []\n",
    "    r, queue = [], [root]\n",
    "    while queue:\n",
    "        temp, length = [], len(queue)\n",
    "        for i in range(length):\n",
    "            node = queue.pop(0)\n",
    "            if node:\n",
    "                temp.append(node.val)\n",
    "                if node.left:\n",
    "                    queue.append(node.left)\n",
    "                if node.right:\n",
    "                    queue.append(node.right)\n",
    "        r.append(temp)\n",
    "    return r\n",
    "        \n",
    "\n",
    "# 简单测试\n",
    "t = array2tree([3,9,20,None,None,15,7])\n",
    "print(levelOrder(t))\n",
    "print(levelOrder1(t))"
   ]
  },
  {
   "cell_type": "code",
   "execution_count": 10,
   "metadata": {},
   "outputs": [
    {
     "name": "stdout",
     "output_type": "stream",
     "text": [
      "[[3], [20, 9], [15, 7]]\n"
     ]
    }
   ],
   "source": [
    "# 103. 二叉树的锯齿形层次遍历\n",
    "# https://leetcode-cn.com/problems/binary-tree-zigzag-level-order-traversal/\n",
    "\n",
    "def zigzagLevelOrder(root: TreeNode):\n",
    "    r, queue, flag = [], [root], True\n",
    "    while queue:\n",
    "        temp, length = [], len(queue)\n",
    "        for i in range(length):\n",
    "            node = queue.pop(0)\n",
    "            if node:\n",
    "                temp.append(node.val)\n",
    "                if node.left:\n",
    "                    queue.append(node.left)\n",
    "                if node.right:\n",
    "                    queue.append(node.right)\n",
    "        temp = temp if flag else list(reversed(temp))\n",
    "        flag = not flag\n",
    "        r.append(temp)\n",
    "    return r\n",
    "\n",
    "# 简单测试\n",
    "t = array2tree([3,9,20,None,None,15,7])\n",
    "print(zigzagLevelOrder(t))"
   ]
  },
  {
   "cell_type": "code",
   "execution_count": 11,
   "metadata": {},
   "outputs": [
    {
     "name": "stdout",
     "output_type": "stream",
     "text": [
      "<__main__.TreeNode object at 0x7ffbd8114550>\n"
     ]
    }
   ],
   "source": [
    "# 105. 从前序与中序遍历序列构造二叉树\n",
    "# https://leetcode-cn.com/problems/construct-binary-tree-from-preorder-and-inorder-traversal/submissions/\n",
    "\n",
    "def buildTree(preorder, inorder):\n",
    "    def help(_pre, _in):\n",
    "        if not _pre:\n",
    "            return None\n",
    "        node = TreeNode(_pre[0])\n",
    "        index = _in.index(_pre[0])\n",
    "        node.left = help(_pre[1:index + 1], _in[0:index])\n",
    "        node.right = help(_pre[index + 1:], _in[index + 1:])\n",
    "        return node\n",
    "    \n",
    "    return help(preorder, inorder)\n",
    "\n",
    "# 简单测试\n",
    "t1, t2 = [3,9,20,15,7], [9,3,15,20,7]\n",
    "print(buildTree(t1, t2))"
   ]
  },
  {
   "cell_type": "code",
   "execution_count": 13,
   "metadata": {},
   "outputs": [
    {
     "name": "stdout",
     "output_type": "stream",
     "text": [
      "<__main__.TreeNode object at 0x7ffbd813a090>\n"
     ]
    }
   ],
   "source": [
    "# 106. 从中序与后序遍历序列构造二叉树\n",
    "# https://leetcode-cn.com/problems/construct-binary-tree-from-inorder-and-postorder-traversal/submissions/\n",
    "\n",
    "def buildTree(inorder, postorder):\n",
    "    def help(_in, _post):\n",
    "        if not _in:\n",
    "            return None\n",
    "        node = TreeNode(_post[-1])\n",
    "        index = _in.index(_post[-1])\n",
    "        node.left = help(_in[0:index], _post[0:index])\n",
    "        node.right = help(_in[index + 1:], _post[index:-1])\n",
    "        return node\n",
    "    return help(inorder, postorder)\n",
    "\n",
    "# 简单测试\n",
    "t1, t2 = [9,3,15,20,7], [9,15,7,20,3]\n",
    "print(buildTree(t1, t2))"
   ]
  },
  {
   "cell_type": "code",
   "execution_count": 6,
   "metadata": {},
   "outputs": [
    {
     "name": "stdout",
     "output_type": "stream",
     "text": [
      "[[5, 4, 11, 2], [5, 8, 4, 5]]\n"
     ]
    }
   ],
   "source": [
    "# 113. 路径总和II\n",
    "# https://leetcode-cn.com/problems/path-sum-ii/\n",
    "\n",
    "def pathSum(root: TreeNode, sum: int):\n",
    "    r = []\n",
    "    def help(node, _sum, arr=[]):\n",
    "        if not node:\n",
    "            return\n",
    "        arr.append(node.val)\n",
    "        if not node.left and not node.right and _sum == node.val:\n",
    "            r.append(arr)\n",
    "        else:\n",
    "            help(node.left, _sum - node.val, arr[:])\n",
    "            help(node.right, _sum - node.val, arr[:])\n",
    "    help(root, sum)\n",
    "    return r\n",
    "\n",
    "# 简单测试\n",
    "t = array2tree([5,4,8,11,None,13,4,7,2,None,None,5,1])\n",
    "print(pathSum(t, 22))"
   ]
  },
  {
   "cell_type": "code",
   "execution_count": 10,
   "metadata": {},
   "outputs": [
    {
     "name": "stdout",
     "output_type": "stream",
     "text": [
      "<__main__.TreeNode object at 0x10b8939e8>\n"
     ]
    }
   ],
   "source": [
    "# 114. 二叉树展开为链表\n",
    "# https://leetcode-cn.com/problems/flatten-binary-tree-to-linked-list/\n",
    "\n",
    "def flatten(root: TreeNode):\n",
    "    def help(node):\n",
    "        if not node:\n",
    "            return\n",
    "        left, right = node.left, node.right\n",
    "        if left and right:\n",
    "            node.right = help(left)\n",
    "            node.left = None\n",
    "            rightNode = node\n",
    "            while rightNode.right:\n",
    "                rightNode = rightNode.right\n",
    "            rightNode.right = help(right)\n",
    "        elif left:\n",
    "            node.right = help(left)\n",
    "            node.left = None\n",
    "        else:\n",
    "            help(right)\n",
    "        return node\n",
    "    \n",
    "    help(root)\n",
    "    \n",
    "# 简单测试\n",
    "t = array2tree([1,2,5,3,4,None,6])\n",
    "flatten(t)\n",
    "print(t)"
   ]
  },
  {
   "cell_type": "code",
   "execution_count": 14,
   "metadata": {},
   "outputs": [],
   "source": [
    "# 116. 填充每个节点的下一个右侧节点指针\n",
    "# https://leetcode-cn.com/problems/populating-next-right-pointers-in-each-node/\n",
    "\n",
    "class Node_1:\n",
    "    def __init__(self, val, left, right, next):\n",
    "        self.val = val\n",
    "        self.left = left\n",
    "        self.right = right\n",
    "        self.next = next\n",
    "        \n",
    "def connect(root: Node_1):\n",
    "    if not root:\n",
    "        return root\n",
    "    queue = [root]\n",
    "    while queue:\n",
    "        preNode = None\n",
    "        for _ in range(len(queue)):\n",
    "            node = queue.pop(0)\n",
    "            if preNode:\n",
    "                preNode.next = node\n",
    "            preNode = node\n",
    "            if preNode.left or preNode.right:\n",
    "                queue.append(preNode.left)\n",
    "                queue.append(preNode.right)\n",
    "    return root\n",
    "    \n",
    "def connect1(root: Node_1):\n",
    "    r = []\n",
    "    def help(node, level=0):\n",
    "        if not node:\n",
    "            return\n",
    "        if level >= len(r):\n",
    "            r.append([])\n",
    "        help(node.left, level + 1)\n",
    "        r[level].append(node)\n",
    "        help(node.right, level + 1)\n",
    "    \n",
    "    help(root)\n",
    "    for i in range(len(r)):\n",
    "        for j in range(len(r[i]) - 1):\n",
    "            r[i][j].next = r[i][j + 1]\n",
    "        r[i][len(r[i]) - 1].next = None"
   ]
  },
  {
   "cell_type": "code",
   "execution_count": 15,
   "metadata": {},
   "outputs": [],
   "source": [
    "# 117. 填充每个节点的下一个右侧节点指针II\n",
    "# https://leetcode-cn.com/problems/populating-next-right-pointers-in-each-node-ii/\n",
    "\n",
    "def connect(root: Node_1):\n",
    "    if not root:\n",
    "        return root\n",
    "    queue = [root]\n",
    "    while queue:\n",
    "        preNode = None\n",
    "        for _ in range(len(queue)):\n",
    "            node = queue.pop(0)\n",
    "            if preNode:\n",
    "                preNode.next = node\n",
    "            preNode = node\n",
    "            if preNode.left:\n",
    "                queue.append(preNode.left)\n",
    "            if preNode.right:\n",
    "                queue.append(preNode.right)\n",
    "    return root"
   ]
  },
  {
   "cell_type": "code",
   "execution_count": 2,
   "metadata": {},
   "outputs": [
    {
     "name": "stdout",
     "output_type": "stream",
     "text": [
      "25\n",
      "1026\n"
     ]
    }
   ],
   "source": [
    "# 129. 求根到叶子节点数字之和\n",
    "# https://leetcode-cn.com/problems/sum-root-to-leaf-numbers/\n",
    "\n",
    "def sumNumbers(root: TreeNode) -> int:\n",
    "    r = []\n",
    "    def help(node, p=''):\n",
    "        if not node:\n",
    "            return\n",
    "        p = f'{p}{node.val}' if p else f'{node.val}'\n",
    "        if node.left and node.right:\n",
    "            help(node.left, p)\n",
    "            help(node.right, p)\n",
    "        elif node.left:\n",
    "            help(node.left, p)\n",
    "        elif node.right:\n",
    "            help(node.right, p)\n",
    "        else:\n",
    "            r.append(int(p))\n",
    "    \n",
    "    help(root)\n",
    "    return sum(r)\n",
    "\n",
    "# 简单测试\n",
    "t1, t2 = array2tree([1,2,3]), array2tree([4,9,0,5,1])\n",
    "print(sumNumbers(t1))\n",
    "print(sumNumbers(t2))"
   ]
  },
  {
   "cell_type": "code",
   "execution_count": 3,
   "metadata": {},
   "outputs": [
    {
     "name": "stdout",
     "output_type": "stream",
     "text": [
      "[1, 2, 3]\n",
      "[1, 2, 3]\n"
     ]
    }
   ],
   "source": [
    "# 144. 二叉树的前序遍历\n",
    "# https://leetcode-cn.com/problems/binary-tree-preorder-traversal/\n",
    "# 解题思路\n",
    "# 1. 递归\n",
    "# 2. 迭代\n",
    "\n",
    "def preorderTraversal(root: TreeNode):\n",
    "    if not root:\n",
    "        return []\n",
    "    queue, r = [root], []\n",
    "    while queue:\n",
    "        node = queue.pop()\n",
    "        r.append(node.val)\n",
    "        if node.right:\n",
    "            queue.append(node.right)\n",
    "        if node.left:\n",
    "            queue.append(node.left)\n",
    "    \n",
    "    return r\n",
    "\n",
    "def preorderTraversal1(root: TreeNode):\n",
    "    r = []\n",
    "    def help(node):\n",
    "        nonlocal r\n",
    "        if not node:\n",
    "            return\n",
    "        r.append(node.val)\n",
    "        help(node.left)\n",
    "        help(node.right)\n",
    "        \n",
    "    help(root)\n",
    "    return r\n",
    "\n",
    "# 简单测试\n",
    "t = array2tree([1,None,2,3])\n",
    "print(preorderTraversal(t))\n",
    "print(preorderTraversal1(t))"
   ]
  },
  {
   "cell_type": "code",
   "execution_count": 4,
   "metadata": {},
   "outputs": [
    {
     "name": "stdout",
     "output_type": "stream",
     "text": [
      "3\n",
      "7\n",
      "True\n",
      "9\n",
      "True\n",
      "15\n",
      "True\n",
      "20\n",
      "False\n"
     ]
    }
   ],
   "source": [
    "# 173. 二叉搜索树迭代器\n",
    "# https://leetcode-cn.com/problems/binary-search-tree-iterator/\n",
    "\n",
    "class BSTIterator:\n",
    "\n",
    "    def __init__(self, root: TreeNode):\n",
    "        self.node = root\n",
    "\n",
    "    def next(self) -> int:\n",
    "        node, prev = self.node, self.node\n",
    "        while node and node.left:\n",
    "            prev = node\n",
    "            node = node.left\n",
    "        if prev == node:\n",
    "            self.node = node.right\n",
    "        else:\n",
    "            prev.left = node.right\n",
    "        return node.val\n",
    "        \n",
    "\n",
    "    def hasNext(self) -> bool:\n",
    "        return bool(self.node)\n",
    "    \n",
    "# 简单测试\n",
    "t = array2tree([7,3,15,None,None,9,20])\n",
    "iterator = BSTIterator(t)\n",
    "print(iterator.next())\n",
    "print(iterator.next())\n",
    "print(iterator.hasNext())\n",
    "print(iterator.next())\n",
    "print(iterator.hasNext())\n",
    "print(iterator.next())\n",
    "print(iterator.hasNext())\n",
    "print(iterator.next())\n",
    "print(iterator.hasNext())"
   ]
  },
  {
   "cell_type": "code",
   "execution_count": 12,
   "metadata": {},
   "outputs": [
    {
     "name": "stdout",
     "output_type": "stream",
     "text": [
      "[1, 3, 4]\n"
     ]
    }
   ],
   "source": [
    "# 199. 二叉树的右视图\n",
    "# https://leetcode-cn.com/problems/binary-tree-right-side-view/\n",
    "\n",
    "def rightSideView(root: TreeNode):\n",
    "    r = []\n",
    "    def help(node,level=0):\n",
    "        if not node:\n",
    "            return\n",
    "\n",
    "        if level < len(r):\n",
    "            r[level] = node.val\n",
    "        else:\n",
    "            r.append(node.val)\n",
    "\n",
    "        help(node.left, level + 1)\n",
    "        help(node.right, level + 1)\n",
    "\n",
    "    help(root)\n",
    "    return r\n",
    "\n",
    "# 简单测试\n",
    "t = array2tree([1,2,3,None,5,None,4])\n",
    "print(rightSideView(t))"
   ]
  },
  {
   "cell_type": "code",
   "execution_count": 11,
   "metadata": {},
   "outputs": [
    {
     "name": "stdout",
     "output_type": "stream",
     "text": [
      "6\n",
      "6\n"
     ]
    }
   ],
   "source": [
    "# 222. 完全二叉树的节点个数\n",
    "# https://leetcode-cn.com/problems/count-complete-tree-nodes/\n",
    "# 解题思路\n",
    "# 1. 暴力破解法\n",
    "# 2. LeetCode上的优质解答\n",
    "\n",
    "def countNodes(root: TreeNode) -> int:\n",
    "    count = 0\n",
    "    def help(node):\n",
    "        nonlocal count\n",
    "        if not node:\n",
    "            return\n",
    "        count += 1\n",
    "        help(node.left)\n",
    "        help(node.right)\n",
    "    \n",
    "    help(root)\n",
    "    return count\n",
    "\n",
    "def countNodes1(root: TreeNode) -> int:\n",
    "    def findLeft(node):\n",
    "        if not node:\n",
    "            return 0\n",
    "        h = findLeft(node.left) + 1\n",
    "        return h\n",
    "    if not root:\n",
    "        return 0\n",
    "    hLeft = findLeft(root.left)\n",
    "    hRight = findLeft(root.right)\n",
    "    if hLeft == hRight:\n",
    "        return pow(2, hLeft) + countNodes1(root.right)\n",
    "    else:\n",
    "        return pow(2, hRight) + countNodes1(root.left)\n",
    "\n",
    "# 简单测试\n",
    "t = array2tree([1,2,3,4,5,6])\n",
    "print(countNodes(t))\n",
    "print(countNodes1(t))"
   ]
  },
  {
   "cell_type": "code",
   "execution_count": 8,
   "metadata": {},
   "outputs": [
    {
     "name": "stdout",
     "output_type": "stream",
     "text": [
      "1\n",
      "3\n"
     ]
    }
   ],
   "source": [
    "# 230. 二叉搜索树中第K小的元素\n",
    "# https://leetcode-cn.com/problems/kth-smallest-element-in-a-bst/\n",
    "\n",
    "def kthSmallest(root: TreeNode, k: int) -> int:\n",
    "    r = []\n",
    "    def help(node):\n",
    "        if not node or len(r) >= k:\n",
    "            return\n",
    "        help(node.left)\n",
    "        r.append(node.val)\n",
    "        help(node.right)\n",
    "    \n",
    "    help(root)\n",
    "    return r[k - 1]\n",
    "\n",
    "# 简单测试\n",
    "t1, t2 = array2tree([3,1,4,None,2]), array2tree([5,3,6,2,4,None,None,1])\n",
    "print(kthSmallest(t1, 1))\n",
    "print(kthSmallest(t2, 3))"
   ]
  },
  {
   "cell_type": "code",
   "execution_count": 9,
   "metadata": {},
   "outputs": [],
   "source": [
    "# 236. 二叉树的最近公共祖先\n",
    "# https://leetcode-cn.com/problems/lowest-common-ancestor-of-a-binary-tree/submissions/\n",
    "\n",
    "def lowestCommonAncestor(root: TreeNode, p: TreeNode, q: TreeNode) -> TreeNode:\n",
    "    if not root or root == p or root == q:\n",
    "        return root\n",
    "    left = lowestCommonAncestor(root.left, p, q)\n",
    "    right = lowestCommonAncestor(root.right, p, q)\n",
    "    return right if not left else left if not right else root"
   ]
  },
  {
   "cell_type": "code",
   "execution_count": 17,
   "metadata": {},
   "outputs": [
    {
     "name": "stdout",
     "output_type": "stream",
     "text": [
      "4,2,1,3,6,5,7\n",
      "<__main__.TreeNode object at 0x10682c908>\n"
     ]
    }
   ],
   "source": [
    "# 449. 序列化和反序列化二叉搜索树\n",
    "# https://leetcode-cn.com/problems/serialize-and-deserialize-bst/submissions/\n",
    "# 解题思路\n",
    "# 1. 前序遍历存储二叉搜索树.\n",
    "\n",
    "def serialize(root: TreeNode):\n",
    "    res, stack = [], [root]\n",
    "    if not root:\n",
    "        return ''\n",
    "    while stack:\n",
    "        node = stack.pop()\n",
    "        res.append(str(node.val))\n",
    "        if node.right:\n",
    "            stack.append(node.right)\n",
    "        if node.left:\n",
    "            stack.append(node.left)\n",
    "    return ','.join(res)\n",
    "\n",
    "def deserialize(data):\n",
    "    if not data:\n",
    "        return None\n",
    "    data = [int(d) for d in data.split(',')]\n",
    "    def help(data, start, end):\n",
    "        if start > end:\n",
    "            return None\n",
    "        node = TreeNode(data[start])\n",
    "        index = start\n",
    "        while index + 1 < len(data) and data[index + 1] < data[start]:\n",
    "            index += 1\n",
    "        node.left = help(data, start + 1, index)\n",
    "        node.right = help(data, index + 1, end)\n",
    "        return node\n",
    "    return help(data, 0, len(data) - 1)\n",
    "\n",
    "t = array2tree([4,2,6,1,3,5,7])\n",
    "print(serialize(t))\n",
    "print(deserialize(serialize(t)))"
   ]
  },
  {
   "cell_type": "code",
   "execution_count": 18,
   "metadata": {},
   "outputs": [],
   "source": [
    "# 450. 删除二叉搜索树中的节点\n",
    "# https://leetcode-cn.com/problems/delete-node-in-a-bst/\n",
    "# 来自LeetCode上的优质答案\n",
    "\n",
    "def deleteNode(node: TreeNode, key: int):\n",
    "    if not node:\n",
    "        return None\n",
    "    if key < node.val:\n",
    "        node.left = deleteNode(node.left, key)\n",
    "    elif key > node.val:\n",
    "        node.right = deleteNode(node.right, key)\n",
    "    else:\n",
    "        if not node.left or not node.right:\n",
    "            return node.left or node.right\n",
    "        leftMaxNode = getMaxNode(node.left)\n",
    "        node.val = leftMaxNode.val\n",
    "        node.left = deleteNode(node.left, leftMaxNode.val)\n",
    "        return node\n",
    "    \n",
    "def getMaxNode(root):\n",
    "    while root.right:\n",
    "        root = root.right\n",
    "    return root\n"
   ]
  },
  {
   "cell_type": "code",
   "execution_count": 21,
   "metadata": {},
   "outputs": [
    {
     "name": "stdout",
     "output_type": "stream",
     "text": [
      "[2]\n"
     ]
    }
   ],
   "source": [
    "# 508. 出现次数最多的子树元素和\n",
    "# https://leetcode-cn.com/problems/most-frequent-subtree-sum/\n",
    "\n",
    "def findFrequentTreeSum(root: TreeNode):\n",
    "    d, maxCount, r = {}, 0, []\n",
    "    def help(node):\n",
    "        nonlocal maxCount, r\n",
    "        if not node:\n",
    "            return 0\n",
    "        res = node.val + help(node.left) + help(node.right)\n",
    "        if res not in d:\n",
    "            d[res] = 1\n",
    "        else:\n",
    "            d[res] += 1\n",
    "        \n",
    "        if d[res] >= maxCount:\n",
    "            if d[res] > maxCount:\n",
    "                maxCount = d[res]\n",
    "                r = []\n",
    "            r.append(res)\n",
    "        return res\n",
    "    help(root)\n",
    "    return r\n",
    "\n",
    "# 简单测试\n",
    "t = array2tree([5,2,-5])\n",
    "print(findFrequentTreeSum(t))"
   ]
  },
  {
   "cell_type": "code",
   "execution_count": 23,
   "metadata": {},
   "outputs": [
    {
     "name": "stdout",
     "output_type": "stream",
     "text": [
      "7\n"
     ]
    }
   ],
   "source": [
    "# 513. 找树左下角的值\n",
    "# https://leetcode-cn.com/problems/find-bottom-left-tree-value/submissions/\n",
    "\n",
    "def findBottomLeftValue(root: TreeNode):\n",
    "    maxLevel, val = -1, None\n",
    "    def help(node, level=0):\n",
    "        nonlocal maxLevel, val\n",
    "        if not node:\n",
    "            return\n",
    "        if level > maxLevel:\n",
    "            maxLevel = level\n",
    "            val = node.val\n",
    "        help(node.left, level + 1)\n",
    "        help(node.right, level + 1)\n",
    "    help(root)\n",
    "    return val\n",
    "\n",
    "# 简单测试\n",
    "t = array2tree([1,2,3,4,None,5,6,None,None,7])\n",
    "print(findBottomLeftValue(t))"
   ]
  },
  {
   "cell_type": "code",
   "execution_count": 24,
   "metadata": {},
   "outputs": [
    {
     "name": "stdout",
     "output_type": "stream",
     "text": [
      "[1, 3, 9]\n"
     ]
    }
   ],
   "source": [
    "# 515. 在每个树行中找最大值\n",
    "# https://leetcode-cn.com/problems/find-largest-value-in-each-tree-row/submissions/\n",
    "\n",
    "def largestValues(root: TreeNode):\n",
    "    r = []\n",
    "    def help(node, level=0):\n",
    "        nonlocal r\n",
    "        if not node:\n",
    "            return\n",
    "        if level < len(r):\n",
    "            r[level].append(node.val)\n",
    "        else:\n",
    "            r.append([node.val])\n",
    "        help(node.left, level + 1)\n",
    "        help(node.right, level + 1)\n",
    "    help(root)\n",
    "    return [max(_r) for _r in r]\n",
    "\n",
    "# 简单测试\n",
    "t = array2tree([1,3,2,5,3,None,9])\n",
    "print(largestValues(t))"
   ]
  },
  {
   "cell_type": "code",
   "execution_count": 26,
   "metadata": {},
   "outputs": [
    {
     "name": "stdout",
     "output_type": "stream",
     "text": [
      "[<__main__.TreeNode object at 0x106845208>, <__main__.TreeNode object at 0x106845240>]\n"
     ]
    }
   ],
   "source": [
    "# 652. 寻找重复的子树\n",
    "# https://leetcode-cn.com/problems/find-duplicate-subtrees/submissions/\n",
    "\n",
    "def findDuplicateSubtrees(root: TreeNode):\n",
    "    d, r = {}, []\n",
    "    def help(node):\n",
    "        nonlocal d, r\n",
    "        if not node:\n",
    "            return '#'\n",
    "        serial = f'{node.val},{help(node.left)},{help(node.right)}'\n",
    "        if serial in d:\n",
    "            d[serial] += 1\n",
    "        else:\n",
    "            d[serial] = 1\n",
    "        if d[serial] == 2:\n",
    "            r.append(node)\n",
    "        return serial\n",
    "    help(root)\n",
    "    return r\n",
    "\n",
    "# 简单测试\n",
    "t = array2tree([1,2,3,4,None,2,4,None,None,4])\n",
    "print(findDuplicateSubtrees(t))"
   ]
  },
  {
   "cell_type": "code",
   "execution_count": 27,
   "metadata": {},
   "outputs": [
    {
     "name": "stdout",
     "output_type": "stream",
     "text": [
      "<__main__.TreeNode object at 0x106845e10>\n"
     ]
    }
   ],
   "source": [
    "# 654. 最大二叉树\n",
    "# https://leetcode-cn.com/problems/maximum-binary-tree/\n",
    "\n",
    "def constructMaximumBinaryTree(nums):\n",
    "    def help(p, leftList, rightList):\n",
    "        if leftList:\n",
    "            maxLeft = max(leftList)\n",
    "            indexLeft = leftList.index(maxLeft)\n",
    "            p.left = TreeNode(maxLeft)\n",
    "            help(p.left, leftList[0:indexLeft], leftList[indexLeft + 1:])\n",
    "        if rightList:\n",
    "            maxRight = max(rightList)\n",
    "            indexRight = rightList.index(maxRight)\n",
    "            p.right = TreeNode(maxRight)\n",
    "            help(p.right, rightList[0:indexRight], rightList[indexRight + 1:])\n",
    "    \n",
    "    _max = max(nums)\n",
    "    indexMax = nums.index(_max)\n",
    "    node = TreeNode(_max)\n",
    "    help(node, nums[0:indexMax], nums[indexMax + 1:])\n",
    "    return node\n",
    "\n",
    "# 简单测试\n",
    "nums = [3,2,1,6,0,5]\n",
    "print(constructMaximumBinaryTree(nums))"
   ]
  },
  {
   "cell_type": "code",
   "execution_count": 30,
   "metadata": {},
   "outputs": [
    {
     "name": "stdout",
     "output_type": "stream",
     "text": [
      "[['', '', '', '1', '', '', ''], ['', '2', '', '', '', '3', ''], ['', '', '4', '', '', '', '']]\n"
     ]
    }
   ],
   "source": [
    "# 655. 输出二叉树\n",
    "# https://leetcode-cn.com/problems/print-binary-tree/\n",
    "\n",
    "def printTree(root: TreeNode):\n",
    "    r, maxLevel = [], -1\n",
    "    # 获取树的高度\n",
    "    def levelTree(node, level=0):\n",
    "        nonlocal maxLevel\n",
    "        if not node:\n",
    "            return\n",
    "        maxLevel = max(maxLevel, level)\n",
    "        levelTree(node.left, level + 1)\n",
    "        levelTree(node.right, level + 1)\n",
    "    \n",
    "    def levelOrder(node, level=0):\n",
    "        nonlocal r\n",
    "        if level >= len(r):\n",
    "            r.append([])\n",
    "        if node:\n",
    "            levelOrder(node.left, level + 1)\n",
    "            r[level].append(f'{node.val}')\n",
    "            levelOrder(node.right, level + 1)\n",
    "        else:\n",
    "            if level < maxLevel:\n",
    "                levelOrder(None, level + 1)\n",
    "                r[level].append('')\n",
    "                levelOrder(None, level + 1)\n",
    "            else:\n",
    "                r[level].append('')\n",
    "    \n",
    "    levelTree(root)\n",
    "    levelOrder(root)\n",
    "    r = r[0:-1]\n",
    "    \n",
    "    for i in range(len(r) - 1, -1, -1):\n",
    "        spaces = 2 ** (len(r) - i - 1) - 1\n",
    "        spacesArr = ['' for i in range(spaces)]\n",
    "        _arr = []\n",
    "        for j in range(len(r[i])):\n",
    "            _arr = _arr + spacesArr + [r[i][j]] + spacesArr\n",
    "        newArr = []\n",
    "        for j in range(0, len(_arr), spaces * 2 + 1):\n",
    "            newArr = newArr + _arr[j:j + spaces * 2 + 1] + ['']\n",
    "        newArr = newArr[0:-1]\n",
    "        r[i] = newArr\n",
    "    \n",
    "    return r\n",
    "\n",
    "# 简单测试\n",
    "t = array2tree([1,2,3,None,4])\n",
    "print(printTree(t))"
   ]
  },
  {
   "cell_type": "code",
   "execution_count": 32,
   "metadata": {},
   "outputs": [
    {
     "name": "stdout",
     "output_type": "stream",
     "text": [
      "2\n"
     ]
    }
   ],
   "source": [
    "# 662. 二叉树最大宽度\n",
    "# https://leetcode-cn.com/problems/maximum-width-of-binary-tree/\n",
    "\n",
    "def widthOfBinaryTree(root: TreeNode):\n",
    "    ans, left = 0, {}\n",
    "    def dfs(node, depth=0, pos=0):\n",
    "        nonlocal ans, left\n",
    "        if not node:\n",
    "            return\n",
    "        left.setdefault(depth, pos)\n",
    "        ans = max(ans, pos - left[depth] + 1)\n",
    "        dfs(node.left, depth + 1, pos * 2)\n",
    "        dfs(node.right, depth + 1, pos * 2 + 1)\n",
    "    \n",
    "    dfs(root)\n",
    "    return ans\n",
    "\n",
    "# 简单测试\n",
    "t = array2tree([1,3,2,5])\n",
    "print(widthOfBinaryTree(t))"
   ]
  },
  {
   "cell_type": "code",
   "execution_count": 33,
   "metadata": {},
   "outputs": [
    {
     "name": "stdout",
     "output_type": "stream",
     "text": [
      "<__main__.TreeNode object at 0x106845b00>\n"
     ]
    }
   ],
   "source": [
    "# 701. 二叉搜索树中的插入操作\n",
    "# https://leetcode-cn.com/problems/insert-into-a-binary-search-tree/submissions/\n",
    "\n",
    "def insertIntoBST(root: TreeNode, val: int) -> TreeNode:\n",
    "    head, x = root, None\n",
    "    if not head:\n",
    "        return TreeNode(val)\n",
    "    while root:\n",
    "        x = root\n",
    "        if val < root.val:\n",
    "            root = root.left\n",
    "        else:\n",
    "            root = root.right\n",
    "    if val < x.val:\n",
    "        x.left = TreeNode(val)\n",
    "    else:\n",
    "        x.right = TreeNode(val)\n",
    "    \n",
    "    return head\n",
    "\n",
    "# 简单测试\n",
    "t = array2tree([4,2,7,1,3])\n",
    "print(insertIntoBST(t, 5))"
   ]
  },
  {
   "cell_type": "code",
   "execution_count": 34,
   "metadata": {},
   "outputs": [],
   "source": [
    "# 814. 二叉树剪枝\n",
    "# https://leetcode-cn.com/problems/binary-tree-pruning/\n",
    "\n",
    "def pruneTree(root: TreeNode) -> TreeNode:\n",
    "    def isZero(node, r):\n",
    "        if not node:\n",
    "            return\n",
    "        r.append(node.val)\n",
    "        isZero(node.left, r)\n",
    "        isZero(node.right, r)\n",
    "    \n",
    "    def help(node):\n",
    "        r = []\n",
    "        isZero(node, r)\n",
    "        if sum(r) == 0:\n",
    "            return None\n",
    "        else:\n",
    "            node.left = help(node.left)\n",
    "            node.right = help(node.right)\n",
    "            return node\n",
    "    \n",
    "    return help(root)"
   ]
  },
  {
   "cell_type": "code",
   "execution_count": 40,
   "metadata": {},
   "outputs": [],
   "source": [
    "# 863. 二叉树中所有距离为K的结点\n",
    "# https://leetcode-cn.com/problems/all-nodes-distance-k-in-binary-tree/\n",
    "\n",
    "def distanceK(root, target, K):\n",
    "    pass"
   ]
  },
  {
   "cell_type": "code",
   "execution_count": 38,
   "metadata": {},
   "outputs": [],
   "source": [
    "# 894. 所有可能的满二叉树\n",
    "# https://leetcode-cn.com/problems/all-possible-full-binary-trees/\n",
    "\n",
    "def allPossibleFBT(N: int):\n",
    "    res = []\n",
    "    if N == 1:\n",
    "        return [TreeNode(0)]\n",
    "    N -= 1\n",
    "    for i in range(1, N, 2):\n",
    "        left, right = allPossibleFBT(i), allPossibleFBT(N - i)\n",
    "        for _left in left:\n",
    "            for _right in right:\n",
    "                cur = TreeNode(0)\n",
    "                cur.left, cur.right = _left, _right\n",
    "                res.append(cur)\n",
    "    \n",
    "    return res"
   ]
  },
  {
   "cell_type": "code",
   "execution_count": 39,
   "metadata": {},
   "outputs": [],
   "source": [
    "# 979. 在二叉树中分配硬币\n",
    "# https://leetcode-cn.com/problems/distribute-coins-in-binary-tree/\n",
    "\n",
    "def distributeCoins(root: TreeNode):\n",
    "    r = 0\n",
    "    def help(node):\n",
    "        nonlocal r\n",
    "        if not node:\n",
    "            return 0\n",
    "        left, right = help(node.left), help(node.right)\n",
    "        r += abs(left) + abs(right)\n",
    "        return 1 + left + right - node.val\n",
    "    help(root)\n",
    "    return r"
   ]
  },
  {
   "cell_type": "code",
   "execution_count": null,
   "metadata": {},
   "outputs": [],
   "source": []
  }
 ],
 "metadata": {
  "kernelspec": {
   "display_name": "Python 3",
   "language": "python",
   "name": "python3"
  },
  "language_info": {
   "codemirror_mode": {
    "name": "ipython",
    "version": 3
   },
   "file_extension": ".py",
   "mimetype": "text/x-python",
   "name": "python",
   "nbconvert_exporter": "python",
   "pygments_lexer": "ipython3",
   "version": "3.7.3"
  }
 },
 "nbformat": 4,
 "nbformat_minor": 2
}
