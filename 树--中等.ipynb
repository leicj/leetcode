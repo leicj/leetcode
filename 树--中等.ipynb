{
 "cells": [
  {
   "cell_type": "code",
   "execution_count": 2,
   "metadata": {},
   "outputs": [],
   "source": [
    "# 将规范的数组, 转化为树型结构\n",
    "class TreeNode:\n",
    "    def __init__(self, x):\n",
    "        self.val = x\n",
    "        self.left = None\n",
    "        self.right = None\n",
    "\n",
    "class Node:\n",
    "    def __init__(self, val, children=[]):\n",
    "        self.val = val\n",
    "        self.children = children\n",
    "        \n",
    "def array2tree(arr):\n",
    "    n = arr.pop(0)\n",
    "    root = None if n is None else TreeNode(n)\n",
    "    queue = [root]\n",
    "    while arr and queue:\n",
    "        node = queue.pop(0)\n",
    "        if node is None:\n",
    "            continue\n",
    "        \n",
    "        n1 = arr.pop(0)\n",
    "        node.left = None if n1 is None else TreeNode(n1)\n",
    "        queue.append(node.left)\n",
    "        if arr:\n",
    "            n2 = arr.pop(0)\n",
    "            node.right = None if n2 is None else TreeNode(n2)\n",
    "            queue.append(node.right)\n",
    "    return root"
   ]
  },
  {
   "cell_type": "code",
   "execution_count": 2,
   "metadata": {},
   "outputs": [
    {
     "name": "stdout",
     "output_type": "stream",
     "text": [
      "[1, 3, 2]\n",
      "[1, 3, 2]\n"
     ]
    }
   ],
   "source": [
    "# 94. 二叉树的中序遍历\n",
    "# https://leetcode-cn.com/submissions/detail/23952312/\n",
    "# 解题思路\n",
    "# 1. 递归\n",
    "# 2. 迭代\n",
    "\n",
    "def inorderTraversal(root: TreeNode):\n",
    "    r = []\n",
    "    def help(node):\n",
    "        nonlocal r\n",
    "        if not node:\n",
    "            return\n",
    "        help(node.left)\n",
    "        r.append(node.val)\n",
    "        help(node.right)\n",
    "    \n",
    "    help(root)\n",
    "    return r\n",
    "\n",
    "def inorderTraversal1(root: TreeNode):\n",
    "    r, s, cur = [], [], root\n",
    "    while cur or s:\n",
    "        # 将左子树压入堆栈中\n",
    "        while cur:\n",
    "            s.append(cur)\n",
    "            cur = cur.left\n",
    "        cur = s.pop()\n",
    "        r.append(cur.val)\n",
    "        # 将左子树对应的右子树进行遍历\n",
    "        cur = cur.right\n",
    "    \n",
    "    return r\n",
    "\n",
    "# 简单测试\n",
    "t = array2tree([1, None, 2, 3])\n",
    "print(inorderTraversal(t))\n",
    "print(inorderTraversal1(t))"
   ]
  },
  {
   "cell_type": "code",
   "execution_count": 3,
   "metadata": {},
   "outputs": [
    {
     "name": "stdout",
     "output_type": "stream",
     "text": [
      "[<__main__.TreeNode object at 0x7efc204fcf50>, <__main__.TreeNode object at 0x7efc205170d0>, <__main__.TreeNode object at 0x7efc20517150>, <__main__.TreeNode object at 0x7efc20517210>, <__main__.TreeNode object at 0x7efc20517250>]\n"
     ]
    }
   ],
   "source": [
    "# 95. 不同的二叉搜索树II\n",
    "# https://leetcode-cn.com/problems/unique-binary-search-trees-ii/\n",
    "# 解题思路\n",
    "# 来自leetcode上的优质答案\n",
    "\n",
    "def generateTrees(n: int):\n",
    "    d = {}\n",
    "    if not n:\n",
    "        return []\n",
    "    def help(i, j):\n",
    "        nonlocal d\n",
    "        if (i, j) in d:\n",
    "            return d[(i, j)]\n",
    "        ans = []\n",
    "        for v in range(i, j + 1):\n",
    "            for left in help(i, v - 1):\n",
    "                for right in help(v + 1, j):\n",
    "                    root = TreeNode(v)\n",
    "                    root.left, root.right = left, right\n",
    "                    ans += [root]\n",
    "        d[(i, j)] = ans or [None]\n",
    "        return d[(i, j)]\n",
    "    return help(1, n)\n",
    "\n",
    "# 简单测试\n",
    "t = generateTrees(3)\n",
    "print(t)"
   ]
  },
  {
   "cell_type": "code",
   "execution_count": 1,
   "metadata": {},
   "outputs": [
    {
     "name": "stdout",
     "output_type": "stream",
     "text": [
      "5\n"
     ]
    }
   ],
   "source": [
    "# 96. 不同的二叉搜索树\n",
    "# https://leetcode-cn.com/problems/unique-binary-search-trees/\n",
    "# 解题思路\n",
    "# 经典的dp: dp[i] = dp[j] * dp[i - j - 1]\n",
    "\n",
    "def numTrees(n: int) -> int:\n",
    "    dp = [0 for i in range(n + 1)]\n",
    "    dp[0], dp[1] = 1, 1\n",
    "    i = 2\n",
    "    while i <= n:\n",
    "        for j in range(i):\n",
    "            dp[i] += dp[j] * dp[i - j - 1]\n",
    "        i += 1\n",
    "    \n",
    "    return dp[-1]\n",
    "\n",
    "# 简单测试\n",
    "print(numTrees(3))"
   ]
  },
  {
   "cell_type": "code",
   "execution_count": 6,
   "metadata": {},
   "outputs": [
    {
     "name": "stdout",
     "output_type": "stream",
     "text": [
      "True\n",
      "False\n",
      "True\n",
      "False\n"
     ]
    }
   ],
   "source": [
    "# 98. 验证二叉搜索树\n",
    "# https://leetcode-cn.com/problems/validate-binary-search-tree/\n",
    "# 解题思路\n",
    "# 1. 将树转为数组, 然后判断\n",
    "# 2. 直接判断树\n",
    "\n",
    "def isValidBST(root: TreeNode) -> bool:\n",
    "    def help(node, _min=None, _max=None):\n",
    "        if not node:\n",
    "            return True\n",
    "        if _min is not None and node.val <= _min:\n",
    "            return False\n",
    "        if _max is not None and node.val >= _max:\n",
    "            return False\n",
    "        return help(node.left, _min, node.val) and help(node.right, node.val, _max)\n",
    "    \n",
    "    return help(root)\n",
    "\n",
    "def isValidBST1(root: TreeNode) -> bool:\n",
    "    def help(node):\n",
    "        if not node:\n",
    "            return []\n",
    "        return help(node.left) + [node.val] + help(node.right)\n",
    "    nodes = help(root)\n",
    "    for i in range(1, len(nodes)):\n",
    "        if nodes[i] <= nodes[i - 1]:\n",
    "            return False\n",
    "    \n",
    "    return True\n",
    "\n",
    "# 简单测试\n",
    "t1, t2 = array2tree([2,1,3]), array2tree([5,1,4,None,None,3,6])\n",
    "print(isValidBST(t1))\n",
    "print(isValidBST(t2))\n",
    "print(isValidBST1(t1))\n",
    "print(isValidBST1(t2))"
   ]
  },
  {
   "cell_type": "code",
   "execution_count": 3,
   "metadata": {},
   "outputs": [
    {
     "name": "stdout",
     "output_type": "stream",
     "text": [
      "[[3], [9, 20], [15, 7]]\n",
      "[[3], [9, 20], [15, 7]]\n"
     ]
    }
   ],
   "source": [
    "# 102. 二叉树的层次遍历\n",
    "# https://leetcode-cn.com/problems/binary-tree-level-order-traversal/submissions/\n",
    "# 解题思路\n",
    "# 1. 递归\n",
    "# 2. 迭代\n",
    "\n",
    "def levelOrder(root: TreeNode):\n",
    "    if not root:\n",
    "        return []\n",
    "    r = []\n",
    "    def help(node, level=0):\n",
    "        nonlocal r\n",
    "        if not node:\n",
    "            return\n",
    "        if len(r) <= level:\n",
    "            r.append([])\n",
    "        r[level].append(node.val)\n",
    "        help(node.left, level + 1)\n",
    "        help(node.right, level + 1)\n",
    "    help(root)\n",
    "    \n",
    "    return r\n",
    "\n",
    "def levelOrder1(root: TreeNode):\n",
    "    if not root:\n",
    "        return []\n",
    "    r, queue = [], [root]\n",
    "    while queue:\n",
    "        temp, length = [], len(queue)\n",
    "        for i in range(length):\n",
    "            node = queue.pop(0)\n",
    "            if node:\n",
    "                temp.append(node.val)\n",
    "                if node.left:\n",
    "                    queue.append(node.left)\n",
    "                if node.right:\n",
    "                    queue.append(node.right)\n",
    "        r.append(temp)\n",
    "    return r\n",
    "        \n",
    "\n",
    "# 简单测试\n",
    "t = array2tree([3,9,20,None,None,15,7])\n",
    "print(levelOrder(t))\n",
    "print(levelOrder1(t))"
   ]
  },
  {
   "cell_type": "code",
   "execution_count": 10,
   "metadata": {},
   "outputs": [
    {
     "name": "stdout",
     "output_type": "stream",
     "text": [
      "[[3], [20, 9], [15, 7]]\n"
     ]
    }
   ],
   "source": [
    "# 103. 二叉树的锯齿形层次遍历\n",
    "# https://leetcode-cn.com/problems/binary-tree-zigzag-level-order-traversal/\n",
    "\n",
    "def zigzagLevelOrder(root: TreeNode):\n",
    "    r, queue, flag = [], [root], True\n",
    "    while queue:\n",
    "        temp, length = [], len(queue)\n",
    "        for i in range(length):\n",
    "            node = queue.pop(0)\n",
    "            if node:\n",
    "                temp.append(node.val)\n",
    "                if node.left:\n",
    "                    queue.append(node.left)\n",
    "                if node.right:\n",
    "                    queue.append(node.right)\n",
    "        temp = temp if flag else list(reversed(temp))\n",
    "        flag = not flag\n",
    "        r.append(temp)\n",
    "    return r\n",
    "\n",
    "# 简单测试\n",
    "t = array2tree([3,9,20,None,None,15,7])\n",
    "print(zigzagLevelOrder(t))"
   ]
  },
  {
   "cell_type": "code",
   "execution_count": 11,
   "metadata": {},
   "outputs": [
    {
     "name": "stdout",
     "output_type": "stream",
     "text": [
      "<__main__.TreeNode object at 0x7ffbd8114550>\n"
     ]
    }
   ],
   "source": [
    "# 105. 从前序与中序遍历序列构造二叉树\n",
    "# https://leetcode-cn.com/problems/construct-binary-tree-from-preorder-and-inorder-traversal/submissions/\n",
    "\n",
    "def buildTree(preorder, inorder):\n",
    "    def help(_pre, _in):\n",
    "        if not _pre:\n",
    "            return None\n",
    "        node = TreeNode(_pre[0])\n",
    "        index = _in.index(_pre[0])\n",
    "        node.left = help(_pre[1:index + 1], _in[0:index])\n",
    "        node.right = help(_pre[index + 1:], _in[index + 1:])\n",
    "        return node\n",
    "    \n",
    "    return help(preorder, inorder)\n",
    "\n",
    "# 简单测试\n",
    "t1, t2 = [3,9,20,15,7], [9,3,15,20,7]\n",
    "print(buildTree(t1, t2))"
   ]
  },
  {
   "cell_type": "code",
   "execution_count": 13,
   "metadata": {},
   "outputs": [
    {
     "name": "stdout",
     "output_type": "stream",
     "text": [
      "<__main__.TreeNode object at 0x7ffbd813a090>\n"
     ]
    }
   ],
   "source": [
    "# 106. 从中序与后序遍历序列构造二叉树\n",
    "# https://leetcode-cn.com/problems/construct-binary-tree-from-inorder-and-postorder-traversal/submissions/\n",
    "\n",
    "def buildTree(inorder, postorder):\n",
    "    def help(_in, _post):\n",
    "        if not _in:\n",
    "            return None\n",
    "        node = TreeNode(_post[-1])\n",
    "        index = _in.index(_post[-1])\n",
    "        node.left = help(_in[0:index], _post[0:index])\n",
    "        node.right = help(_in[index + 1:], _post[index:-1])\n",
    "        return node\n",
    "    return help(inorder, postorder)\n",
    "\n",
    "# 简单测试\n",
    "t1, t2 = [9,3,15,20,7], [9,15,7,20,3]\n",
    "print(buildTree(t1, t2))"
   ]
  },
  {
   "cell_type": "code",
   "execution_count": 6,
   "metadata": {},
   "outputs": [
    {
     "name": "stdout",
     "output_type": "stream",
     "text": [
      "[[5, 4, 11, 2], [5, 8, 4, 5]]\n"
     ]
    }
   ],
   "source": [
    "# 113. 路径总和II\n",
    "# https://leetcode-cn.com/problems/path-sum-ii/\n",
    "\n",
    "def pathSum(root: TreeNode, sum: int):\n",
    "    r = []\n",
    "    def help(node, _sum, arr=[]):\n",
    "        if not node:\n",
    "            return\n",
    "        arr.append(node.val)\n",
    "        if not node.left and not node.right and _sum == node.val:\n",
    "            r.append(arr)\n",
    "        else:\n",
    "            help(node.left, _sum - node.val, arr[:])\n",
    "            help(node.right, _sum - node.val, arr[:])\n",
    "    help(root, sum)\n",
    "    return r\n",
    "\n",
    "# 简单测试\n",
    "t = array2tree([5,4,8,11,None,13,4,7,2,None,None,5,1])\n",
    "print(pathSum(t, 22))"
   ]
  },
  {
   "cell_type": "code",
   "execution_count": 10,
   "metadata": {},
   "outputs": [
    {
     "name": "stdout",
     "output_type": "stream",
     "text": [
      "<__main__.TreeNode object at 0x10b8939e8>\n"
     ]
    }
   ],
   "source": [
    "# 114. 二叉树展开为链表\n",
    "# https://leetcode-cn.com/problems/flatten-binary-tree-to-linked-list/\n",
    "\n",
    "def flatten(root: TreeNode):\n",
    "    def help(node):\n",
    "        if not node:\n",
    "            return\n",
    "        left, right = node.left, node.right\n",
    "        if left and right:\n",
    "            node.right = help(left)\n",
    "            node.left = None\n",
    "            rightNode = node\n",
    "            while rightNode.right:\n",
    "                rightNode = rightNode.right\n",
    "            rightNode.right = help(right)\n",
    "        elif left:\n",
    "            node.right = help(left)\n",
    "            node.left = None\n",
    "        else:\n",
    "            help(right)\n",
    "        return node\n",
    "    \n",
    "    help(root)\n",
    "    \n",
    "# 简单测试\n",
    "t = array2tree([1,2,5,3,4,None,6])\n",
    "flatten(t)\n",
    "print(t)"
   ]
  },
  {
   "cell_type": "code",
   "execution_count": 14,
   "metadata": {},
   "outputs": [],
   "source": [
    "# 116. 填充每个节点的下一个右侧节点指针\n",
    "# https://leetcode-cn.com/problems/populating-next-right-pointers-in-each-node/\n",
    "\n",
    "class Node_1:\n",
    "    def __init__(self, val, left, right, next):\n",
    "        self.val = val\n",
    "        self.left = left\n",
    "        self.right = right\n",
    "        self.next = next\n",
    "        \n",
    "def connect(root: Node_1):\n",
    "    if not root:\n",
    "        return root\n",
    "    queue = [root]\n",
    "    while queue:\n",
    "        preNode = None\n",
    "        for _ in range(len(queue)):\n",
    "            node = queue.pop(0)\n",
    "            if preNode:\n",
    "                preNode.next = node\n",
    "            preNode = node\n",
    "            if preNode.left or preNode.right:\n",
    "                queue.append(preNode.left)\n",
    "                queue.append(preNode.right)\n",
    "    return root\n",
    "    \n",
    "def connect1(root: Node_1):\n",
    "    r = []\n",
    "    def help(node, level=0):\n",
    "        if not node:\n",
    "            return\n",
    "        if level >= len(r):\n",
    "            r.append([])\n",
    "        help(node.left, level + 1)\n",
    "        r[level].append(node)\n",
    "        help(node.right, level + 1)\n",
    "    \n",
    "    help(root)\n",
    "    for i in range(len(r)):\n",
    "        for j in range(len(r[i]) - 1):\n",
    "            r[i][j].next = r[i][j + 1]\n",
    "        r[i][len(r[i]) - 1].next = None"
   ]
  },
  {
   "cell_type": "code",
   "execution_count": 15,
   "metadata": {},
   "outputs": [],
   "source": [
    "# 117. 填充每个节点的下一个右侧节点指针II\n",
    "# https://leetcode-cn.com/problems/populating-next-right-pointers-in-each-node-ii/\n",
    "\n",
    "def connect(root: Node_1):\n",
    "    if not root:\n",
    "        return root\n",
    "    queue = [root]\n",
    "    while queue:\n",
    "        preNode = None\n",
    "        for _ in range(len(queue)):\n",
    "            node = queue.pop(0)\n",
    "            if preNode:\n",
    "                preNode.next = node\n",
    "            preNode = node\n",
    "            if preNode.left:\n",
    "                queue.append(preNode.left)\n",
    "            if preNode.right:\n",
    "                queue.append(preNode.right)\n",
    "    return root"
   ]
  },
  {
   "cell_type": "code",
   "execution_count": null,
   "metadata": {},
   "outputs": [],
   "source": [
    "# 129. 求根到叶子节点数字之和\n",
    "# https://leetcode-cn.com/problems/sum-root-to-leaf-numbers/\n"
   ]
  }
 ],
 "metadata": {
  "kernelspec": {
   "display_name": "Python 3",
   "language": "python",
   "name": "python3"
  },
  "language_info": {
   "codemirror_mode": {
    "name": "ipython",
    "version": 3
   },
   "file_extension": ".py",
   "mimetype": "text/x-python",
   "name": "python",
   "nbconvert_exporter": "python",
   "pygments_lexer": "ipython3",
   "version": "3.7.3"
  }
 },
 "nbformat": 4,
 "nbformat_minor": 2
}
