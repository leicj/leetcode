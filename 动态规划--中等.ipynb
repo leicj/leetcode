{
 "cells": [
  {
   "cell_type": "code",
   "execution_count": 3,
   "metadata": {},
   "outputs": [
    {
     "name": "stdout",
     "output_type": "stream",
     "text": [
      "aba\n",
      "bb\n"
     ]
    }
   ],
   "source": [
    "\"\"\"\n",
    "5. 最长回文子串\n",
    "https://leetcode-cn.com/problems/longest-palindromic-substring/\n",
    "\"\"\"\n",
    "def longestPalindrome(s):\n",
    "    def help(s, left, right):\n",
    "        \"\"\"\n",
    "            1. 针对s, 从left向左扩散, right向右扩散, 得到当前最大的回文子串\n",
    "            2. 返回其子串的长度\n",
    "        \"\"\"\n",
    "        N = len(s)\n",
    "        while left >= 0 and right < N and s[left] == s[right]:\n",
    "            left -= 1\n",
    "            right += 1\n",
    "        return right - left - 1\n",
    "    \n",
    "    if not s:\n",
    "        return \"\"\n",
    "    start, end = 0, 0\n",
    "    for i in range(len(s)):\n",
    "        # 回文子串存在两种情况: aba, aa\n",
    "        len1, len2 = help(s, i, i), help(s, i, i + 1)\n",
    "        len0 = max(len1, len2)\n",
    "        if len0 > end - start:\n",
    "            # 定位到当前子串的start, end索引\n",
    "            start = i - (len0 - 1) // 2\n",
    "            end = i + len0 // 2\n",
    "    return s[start:end + 1]\n",
    "\n",
    "print(longestPalindrome(\"babad\"))\n",
    "print(longestPalindrome(\"cbbd\"))"
   ]
  },
  {
   "cell_type": "code",
   "execution_count": 4,
   "metadata": {},
   "outputs": [
    {
     "name": "stdout",
     "output_type": "stream",
     "text": [
      "28\n"
     ]
    }
   ],
   "source": [
    "\"\"\"\n",
    "62. 不同路径\n",
    "https://leetcode-cn.com/problems/unique-paths/\n",
    "\"\"\"\n",
    "def uniquePaths(m, n):\n",
    "    \"\"\"\n",
    "        1. dp问题, dp[i][j] = dp[i - 1][j] + dp[i][j - 1]\n",
    "        2. 第一行, 第一列均为1\n",
    "    \"\"\"\n",
    "    dp = [[0 for _ in range(n)] for _ in range(m)]\n",
    "    for i in range(n):\n",
    "        dp[0][i] = 1\n",
    "    for i in range(m):\n",
    "        dp[i][0] = 1\n",
    "    for i in range(1, m):\n",
    "        for j in range(1, n):\n",
    "            dp[i][j] = dp[i - 1][j] + dp[i][j - 1]\n",
    "            \n",
    "    return dp[m - 1][n - 1]\n",
    "\n",
    "print(uniquePaths(7, 3))"
   ]
  },
  {
   "cell_type": "code",
   "execution_count": 16,
   "metadata": {},
   "outputs": [
    {
     "name": "stdout",
     "output_type": "stream",
     "text": [
      "1\n",
      "2\n",
      "17\n"
     ]
    }
   ],
   "source": [
    "\"\"\"\n",
    "63. 不同路径 II\n",
    "https://leetcode-cn.com/problems/unique-paths-ii/\n",
    "\"\"\"\n",
    "def uniquePathsWithObstacles(dp):\n",
    "    \"\"\"\n",
    "        1. dp问题: dp[i][j] = dp[i - 1][j] + dp[i][j - 1]\n",
    "        2. dp[i][j]当有障碍物时候, 应该归零\n",
    "    \"\"\"\n",
    "    # 处理特殊情况\n",
    "    if dp[0][0] == 1 or dp[-1][-1] == 1:\n",
    "        return 0\n",
    "    \n",
    "    m, n = len(dp), len(dp[0])\n",
    "    dp[0][0] = 1\n",
    "    for i in range(m):\n",
    "        for j in range(n):\n",
    "            # [0,0]要特殊处理\n",
    "            if i == 0 and j == 0:\n",
    "                continue\n",
    "            # 遇到障碍物\n",
    "            if dp[i][j] != 0:\n",
    "                dp[i][j] = 0\n",
    "                continue\n",
    "            if i - 1 >= 0:\n",
    "                dp[i][j] += dp[i - 1][j]\n",
    "            if j - 1 >= 0:\n",
    "                dp[i][j] += dp[i][j - 1]\n",
    "            \n",
    "    return dp[m - 1][n - 1]\n",
    "\n",
    "print(uniquePathsWithObstacles([[0,0],[1,0]]))\n",
    "print(uniquePathsWithObstacles([[0,0,0],[0,1,0],[0,0,0]]))\n",
    "print(uniquePathsWithObstacles([[0,0,0,0,0],[0,0,0,0,0],[0,0,1,0,0],[0,0,0,0,0]]))"
   ]
  },
  {
   "cell_type": "code",
   "execution_count": 19,
   "metadata": {},
   "outputs": [
    {
     "name": "stdout",
     "output_type": "stream",
     "text": [
      "7\n"
     ]
    }
   ],
   "source": [
    "\"\"\"\n",
    "64. 最小路径和\n",
    "https://leetcode-cn.com/problems/minimum-path-sum/\n",
    "\"\"\"\n",
    "def minPathSum(dp):\n",
    "    \"\"\"\n",
    "        1. dp问题: dp[i][j] += min(dp[i-1][j], dp[i][j-1])\n",
    "    \"\"\"\n",
    "    m, n = len(dp), len(dp[0])\n",
    "    for i in range(m):\n",
    "        for j in range(n):\n",
    "            if i - 1 >= 0 and j - 1 >= 0:\n",
    "                dp[i][j] += min(dp[i-1][j], dp[i][j-1])\n",
    "            elif i - 1 >= 0:\n",
    "                dp[i][j] += dp[i-1][j]\n",
    "            elif j - 1 >= 0:\n",
    "                dp[i][j] += dp[i][j-1]\n",
    "                \n",
    "    return dp[m-1][n-1]\n",
    "\n",
    "print(minPathSum([[1,3,1],[1,5,1],[4,2,1]]))"
   ]
  },
  {
   "cell_type": "code",
   "execution_count": 29,
   "metadata": {},
   "outputs": [
    {
     "name": "stdout",
     "output_type": "stream",
     "text": [
      "2\n",
      "3\n",
      "6\n"
     ]
    }
   ],
   "source": [
    "\"\"\"\n",
    "91. 解码方法\n",
    "https://leetcode-cn.com/problems/decode-ways/\n",
    "\"\"\"\n",
    "def numDecodings(s):\n",
    "    \"\"\"\n",
    "        1. dp问题: dp[i] = dp[i - 1] + dp[i-2]\n",
    "        2. 此题有点难, 答案来自:\n",
    "        https://leetcode.com/problems/decode-ways/discuss/240637/Python-solution\n",
    "    \"\"\"\n",
    "    def help(i):\n",
    "        if i in dic:\n",
    "            return dic[i]\n",
    "        if i >= len(s):\n",
    "            return 1\n",
    "        res = 0\n",
    "        # 第一位合法的情况(0不合法)\n",
    "        if 1 <= int(s[i]) <= 9:\n",
    "            res += help(i + 1)\n",
    "        # 前两位合法的情况\n",
    "        if 10 <= int(s[i:i+2]) <= 26:\n",
    "            res += help(i + 2)\n",
    "        # 之所以需要dic, 是因为i + 1, i + 2的两次递归调用, 会产生重复计算\n",
    "        dic[i] = res\n",
    "        return res\n",
    "    dic = {}\n",
    "    return help(0) if s else 0\n",
    "\n",
    "print(numDecodings(\"12\"))\n",
    "print(numDecodings(\"226\"))\n",
    "print(numDecodings(\"4123718931\"))"
   ]
  },
  {
   "cell_type": "code",
   "execution_count": 31,
   "metadata": {},
   "outputs": [
    {
     "name": "stdout",
     "output_type": "stream",
     "text": [
      "[<__main__.TreeNode object at 0x10ae6d898>, <__main__.TreeNode object at 0x10ae6d9b0>, <__main__.TreeNode object at 0x10ae6da20>, <__main__.TreeNode object at 0x10ae6dac8>, <__main__.TreeNode object at 0x10ae6db00>]\n"
     ]
    }
   ],
   "source": [
    "\"\"\"\n",
    "95. 不同的二叉搜索树 II\n",
    "https://leetcode-cn.com/problems/unique-binary-search-trees-ii/\n",
    "\"\"\"\n",
    "class TreeNode:\n",
    "    def __init__(self, x):\n",
    "        self.val = x\n",
    "        self.left, self.right = None, None\n",
    "        \n",
    "def generateTrees(n):\n",
    "    \"\"\"\n",
    "        1. dp问题: dp[i] = dp[i - 1]为左子树 * dp[i+1]为右子树\n",
    "    \"\"\"\n",
    "    d = {}\n",
    "    if not n:\n",
    "        return []\n",
    "    def help(i, j):\n",
    "        if (i, j) in d:\n",
    "            return d[(i, j)]\n",
    "        ans = []\n",
    "        for v in range(i, j + 1):\n",
    "            # 递归找到所有的左子树\n",
    "            for left in help(i, v - 1):\n",
    "                # 递归找到所有的右子树\n",
    "                for right in help(v + 1, j):\n",
    "                    root = TreeNode(v)\n",
    "                    root.left, root.right = left, right\n",
    "                    ans += [root]\n",
    "        # 将i,j对应的结果存储起来\n",
    "        d[(i, j)] = ans or [None]\n",
    "        return d[(i, j)]\n",
    "    return help(1, n)\n",
    "\n",
    "print(generateTrees(3))"
   ]
  },
  {
   "cell_type": "code",
   "execution_count": 32,
   "metadata": {},
   "outputs": [
    {
     "name": "stdout",
     "output_type": "stream",
     "text": [
      "1430\n"
     ]
    }
   ],
   "source": [
    "\"\"\"\n",
    "96. 不同的二叉搜索树\n",
    "https://leetcode-cn.com/problems/unique-binary-search-trees/\n",
    "\"\"\"\n",
    "def numTrees(n):\n",
    "    \"\"\"\n",
    "        1. dp问题: dp[i] = dp[i - 1]为左子树 * dp[i+1]为右子树\n",
    "    \"\"\"\n",
    "    dp = [0 for _ in range(n+1)]\n",
    "    dp[0], dp[1] = 1, 1\n",
    "    i = 2\n",
    "    while i <= n:\n",
    "        for j in range(i):\n",
    "            # dp[j]代表0~i中, j之前的左子树, i-j-1代表j~i的右子树\n",
    "            dp[i] += dp[j] * dp[i - j - 1]\n",
    "        i += 1\n",
    "    return dp[-1]\n",
    "\n",
    "print(numTrees(8))"
   ]
  },
  {
   "cell_type": "code",
   "execution_count": 33,
   "metadata": {},
   "outputs": [
    {
     "name": "stdout",
     "output_type": "stream",
     "text": [
      "11\n"
     ]
    }
   ],
   "source": [
    "\"\"\"\n",
    "120. 三角形最小路径和\n",
    "https://leetcode-cn.com/problems/triangle/\n",
    "\"\"\"\n",
    "def minimumTotal(triangle):\n",
    "    \"\"\"\n",
    "        1. dp问题: dp[i][j] = triangle[i][j] + min(dp[i+1][j], dp[i+1][j+1])\n",
    "    \"\"\"\n",
    "    mini, M = triangle[-1], len(triangle)\n",
    "    for i in range(M - 2, -1, -1):\n",
    "        for j in range(len(triangle[i])):\n",
    "            mini[j] = triangle[i][j] + min(mini[j], mini[j+1])\n",
    "    \n",
    "    return mini[0]\n",
    "\n",
    "print(minimumTotal([[2],[3,4],[6,5,7],[4,1,8,3]]))"
   ]
  },
  {
   "cell_type": "code",
   "execution_count": 41,
   "metadata": {},
   "outputs": [
    {
     "name": "stdout",
     "output_type": "stream",
     "text": [
      "True\n",
      "True\n",
      "False\n",
      "True\n",
      "True\n",
      "True\n",
      "False\n",
      "True\n"
     ]
    }
   ],
   "source": [
    "\"\"\"\n",
    "139. 单词拆分\n",
    "https://leetcode-cn.com/problems/word-break/\n",
    "\"\"\"\n",
    "def wordBreak(s, wordDict):\n",
    "    # 暴力解法(超时--问题在于重复计算)\n",
    "    r = False\n",
    "    def help(s, d):\n",
    "        nonlocal r\n",
    "        if r or not s:\n",
    "            r = True\n",
    "            return True\n",
    "        for w in d:\n",
    "            if w == s[0:len(w)]:\n",
    "                help(s[len(w):], d)\n",
    "\n",
    "    help(s, wordDict)\n",
    "    return r\n",
    "\n",
    "def wordBreak1(s, wordDict):\n",
    "    \"\"\"\n",
    "        1. 此题有点难度, 答案来自: \n",
    "        https://leetcode.com/problems/word-break/discuss/43788/4-lines-in-Python\n",
    "        2. dp问题: 针对s, dp[0~i] = dp[0~j] + dp[j~i], i = len(s)\n",
    "        3. 我们将dp[0~j]存储到ok数组中, 避免重复判断.\n",
    "    \"\"\"\n",
    "    ok = [True]\n",
    "    for i in range(1, len(s) + 1):\n",
    "        ok.append(any(ok[j] and s[j:i] in wordDict for j in range(i)))\n",
    "    return ok[-1]\n",
    "\n",
    "print(wordBreak(\"leetcode\", [\"leet\", \"code\"]))\n",
    "print(wordBreak(\"applepenapple\", [\"apple\", \"pen\"]))\n",
    "print(wordBreak(\"catsandog\", [\"cats\", \"dog\", \"sand\"]))\n",
    "print(wordBreak(\"cars\", [\"car\", \"ca\", \"rs\"]))\n",
    "print(wordBreak1(\"leetcode\", [\"leet\", \"code\"]))\n",
    "print(wordBreak1(\"applepenapple\", [\"apple\", \"pen\"]))\n",
    "print(wordBreak1(\"catsandog\", [\"cats\", \"dog\", \"sand\"]))\n",
    "print(wordBreak1(\"cars\", [\"car\", \"ca\", \"rs\"]))"
   ]
  },
  {
   "cell_type": "code",
   "execution_count": 42,
   "metadata": {},
   "outputs": [
    {
     "name": "stdout",
     "output_type": "stream",
     "text": [
      "6\n",
      "0\n"
     ]
    }
   ],
   "source": [
    "\"\"\"\n",
    "152. 乘积最大子序列\n",
    "https://leetcode-cn.com/problems/maximum-product-subarray/\n",
    "\"\"\"\n",
    "def maxProduct(nums):\n",
    "    \"\"\"\n",
    "        1. dp问题: 定义两个数组max_stack存储当前乘积最大值, min_stack存储当前乘积最小值.\n",
    "        2. 因为存在负数, 所以才需要max_stack, min_stack.\n",
    "        3. dp[i] = dp[i - 1] * nums[i]\n",
    "        4. dp[i - 1]需要根据max_stack, min_stack计算出来.\n",
    "    \"\"\"\n",
    "    if not nums:\n",
    "        return 0\n",
    "    max_stack, min_stack = [nums[0]], [nums[0]]\n",
    "    for i in range(1, len(nums)):\n",
    "        n1, n2, n3 = max_stack[-1] * nums[i], min_stack[-1] * nums[i], nums[i]\n",
    "        max_stack.append(max(n1, n2, n3))\n",
    "        min_stack.append(min(n1, n2, n3))\n",
    "    \n",
    "    return max(max_stack)\n",
    "\n",
    "print(maxProduct([2,3,-2,4]))\n",
    "print(maxProduct([-2,0,-1]))"
   ]
  },
  {
   "cell_type": "code",
   "execution_count": 43,
   "metadata": {},
   "outputs": [
    {
     "name": "stdout",
     "output_type": "stream",
     "text": [
      "3\n",
      "4\n"
     ]
    }
   ],
   "source": [
    "\"\"\"\n",
    "213. 打家劫舍 II\n",
    "https://leetcode-cn.com/problems/house-robber-ii/\n",
    "\"\"\"\n",
    "def rob(nums):\n",
    "    \"\"\"\n",
    "        1. dp问题: dp[i] += max(dp[i-2], dp[i - 3])\n",
    "        2. 可以转化为a, b = b, max(a + dp[i], b)\n",
    "        3. 因为首尾连接, 所以分两次判断\n",
    "    \"\"\"\n",
    "    if not nums:\n",
    "        return 0\n",
    "    if len(nums) < 4:\n",
    "        return max(nums)\n",
    "    a1, b1, a2, b2 = 0, 0, 0, 0\n",
    "    for i in range(len(nums) - 1):\n",
    "        a1, b1 = b1, max(a1 + nums[i], b1)\n",
    "    for i in range(1, len(nums)):\n",
    "        a2, b2 = b2, max(a2 + nums[i], b2)\n",
    "    \n",
    "    return max(b1, b2)\n",
    "\n",
    "print(rob([2,3,2]))\n",
    "print(rob([1,2,3,1]))"
   ]
  },
  {
   "cell_type": "code",
   "execution_count": 46,
   "metadata": {},
   "outputs": [
    {
     "name": "stdout",
     "output_type": "stream",
     "text": [
      "4\n"
     ]
    }
   ],
   "source": [
    "\"\"\"\n",
    "221. 最大正方形\n",
    "https://leetcode-cn.com/problems/maximal-square/\n",
    "\"\"\"\n",
    "def maximalSquare(matrix):\n",
    "    \"\"\"\n",
    "        1. dp问题, dp[i][j] = min(dp[i-1][j], dp[i][j-1], dp[i-1][j-1]) + 1\n",
    "            当matrix[i][j] == '1'的时候\n",
    "    \"\"\"\n",
    "    if not matrix:\n",
    "        return 0\n",
    "    m, n = len(matrix), len(matrix[0])\n",
    "    dp = [[0 for _ in range(n + 1)] for _ in range(m + 1)]\n",
    "    res = 0\n",
    "    for i in range(1, m + 1):\n",
    "        for j in range(1, n + 1):\n",
    "            if matrix[i-1][j-1] == '1':\n",
    "                dp[i][j] = min(dp[i][j-1], dp[i-1][j], dp[i-1][j-1]) + 1\n",
    "                res = max(res, dp[i][j])\n",
    "                \n",
    "    return res * res\n",
    "\n",
    "matrix = [[\"1\",\"0\",\"1\",\"0\",\"0\"],[\"1\",\"0\",\"1\",\"1\",\"1\"],[\"1\",\"1\",\"1\",\"1\",\"1\"],[\"1\",\"0\",\"0\",\"1\",\"0\"]]\n",
    "print(maximalSquare(matrix))"
   ]
  },
  {
   "cell_type": "code",
   "execution_count": 49,
   "metadata": {},
   "outputs": [
    {
     "name": "stdout",
     "output_type": "stream",
     "text": [
      "1536\n",
      "1536\n"
     ]
    }
   ],
   "source": [
    "\"\"\"\n",
    "264. 丑数 II\n",
    "https://leetcode-cn.com/problems/ugly-number-ii/\n",
    "\"\"\"\n",
    "\"\"\"\n",
    "1. dp问题, 答案来自:\n",
    "https://leetcode.com/problems/ugly-number-ii/discuss/69373/Short-and-O(n)-Python-and-C%2B%2B\n",
    "\"\"\"\n",
    "def nthUglyNumber(n):\n",
    "    ugly = sorted(2**a * 3 ** b * 5 ** c\n",
    "                 for a in range(32) for b in range(20) for c in range(14))\n",
    "    return ugly[n - 1]\n",
    "\n",
    "def nthUglyNumber1(n):\n",
    "    ugly = [1]\n",
    "    # 定位2, 3, 5的索引\n",
    "    i2 = i3 = i5 = 0\n",
    "    while len(ugly) < n:\n",
    "        # 找到需要*2, *3, *5的最小索引(i2, i3, i5不会越界)\n",
    "        while ugly[i2] * 2 <= ugly[-1]: i2 += 1\n",
    "        while ugly[i3] * 3 <= ugly[-1]: i3 += 1\n",
    "        while ugly[i5] * 5 <= ugly[-1]: i5 += 1\n",
    "        ugly.append(min(ugly[i2] * 2, ugly[i3] * 3, ugly[i5] * 5))\n",
    "    \n",
    "    return ugly[-1]\n",
    "\n",
    "print(nthUglyNumber(100))\n",
    "print(nthUglyNumber1(100))"
   ]
  },
  {
   "cell_type": "code",
   "execution_count": 52,
   "metadata": {},
   "outputs": [
    {
     "name": "stdout",
     "output_type": "stream",
     "text": [
      "2\n"
     ]
    }
   ],
   "source": [
    "\"\"\"\n",
    "279. 完全平方数\n",
    "https://leetcode-cn.com/problems/perfect-squares/\n",
    "\"\"\"\n",
    "def numSquares(n):\n",
    "    \"\"\"\n",
    "        1. dp问题: dp[i] = min(n - dp[j]) + 1, 其中j**2 < n\n",
    "    \"\"\"\n",
    "    dp = [0]\n",
    "    for i in range(1, n + 1):\n",
    "        dp.append(min(dp[-j*j] for j in range(1, 1 + int(i ** 0.5))) + 1)\n",
    "    return dp[-1]\n",
    "\n",
    "print(numSquares(13))"
   ]
  },
  {
   "cell_type": "code",
   "execution_count": 53,
   "metadata": {},
   "outputs": [
    {
     "name": "stdout",
     "output_type": "stream",
     "text": [
      "4\n"
     ]
    }
   ],
   "source": [
    "\"\"\"\n",
    "300. 最长上升子序列\n",
    "https://leetcode-cn.com/problems/longest-increasing-subsequence/\n",
    "\"\"\"\n",
    "def lengthOfLIS(nums):\n",
    "    \"\"\"\n",
    "        1. dp问题, dp[i] = max(dp[j]) + 1, 其中nums[j] < nums[i], 并且0<=j<i\n",
    "        2. dp[i]存储出现的次数, 以及对应的值\n",
    "    \"\"\"\n",
    "    if not nums:\n",
    "        return 0\n",
    "    # 之所以用元祖, 因为元祖可排序\n",
    "    stack = [(1, nums[0])]\n",
    "    for i in range(1, len(nums)):\n",
    "        # 找到所有满足上升的元素\n",
    "        _s = [s for s in stack if s[1] < nums[i]]\n",
    "        if not _s:\n",
    "            # 如果没有, 则次数为1\n",
    "            stack.append((1, nums[i]))\n",
    "        else:\n",
    "            # 按照出现的次数排序\n",
    "            _s.sort(key=lambda a: a[0])\n",
    "            # 最大的次数 + 1(代表当前的值)\n",
    "            stack.append((_s[-1][0] + 1, nums[i]))\n",
    "    \n",
    "    return max(stack)[0]\n",
    "            \n",
    "print(lengthOfLIS([10,9,2,5,3,7,101,18]))"
   ]
  },
  {
   "cell_type": "code",
   "execution_count": 56,
   "metadata": {},
   "outputs": [],
   "source": [
    "\"\"\"\n",
    "304. 二维区域和检索 - 矩阵不可变\n",
    "https://leetcode-cn.com/problems/range-sum-query-2d-immutable/submissions/\n",
    "\"\"\"\n",
    "class NumMatrix:\n",
    "\n",
    "    def __init__(self, matrix):\n",
    "        \"\"\"\n",
    "            1. dp问题, 先计算到i,j位置的和.\n",
    "                dp[i][j] = dp[i-1][j] + dp[i][j-1] - dp[i-1][j-1] + matrix[i][j]\n",
    "                [i-1, j-1]重复计算了, 所以需要减去.\n",
    "            2. 在计算range时候, 以[2,1,4,3]为例:\n",
    "            dp[4][3] - (dp[4][1-1](第一列) + dp[2-1][3](前两行到第四列为止) - dp[2-1][1-1](重复计算部分))\n",
    "        \"\"\"\n",
    "        # 处理空的情况\n",
    "        if not matrix:\n",
    "            self.dp = [[]]\n",
    "            return\n",
    "        m, n = len(matrix), len(matrix[0])\n",
    "        # 初始化dp\n",
    "        self.dp = [[0 for _ in range(n)] for _ in range(m)]\n",
    "        for i in range(m):\n",
    "            for j in range(n):\n",
    "                self.dp[i][j] = matrix[i][j]\n",
    "                # 计算[i][j]部分的和\n",
    "                if i - 1 >= 0 and j - 1 >= 0:\n",
    "                    self.dp[i][j] += self.dp[i-1][j] + self.dp[i][j-1] - self.dp[i-1][j-1]\n",
    "                elif i - 1 >= 0:\n",
    "                    self.dp[i][j] += self.dp[i-1][j]\n",
    "                elif j - 1 >= 0:\n",
    "                    self.dp[i][j] += self.dp[i][j-1]\n",
    "                \n",
    "\n",
    "    def sumRegion(self, row1: int, col1: int, row2: int, col2: int) -> int:\n",
    "        v = 0\n",
    "        if col1 - 1 >= 0: v += self.dp[row2][col1-1]\n",
    "        if row1 - 1 >= 0: v += self.dp[row1-1][col2]\n",
    "        if col1 - 1 >= 0 and row1 - 1 >= 0: v -= self.dp[row1-1][col1-1]\n",
    "        return self.dp[row2][col2] - v"
   ]
  },
  {
   "cell_type": "code",
   "execution_count": 83,
   "metadata": {},
   "outputs": [
    {
     "name": "stdout",
     "output_type": "stream",
     "text": [
      "3\n",
      "5\n"
     ]
    }
   ],
   "source": [
    "\"\"\"\n",
    "309. 最佳买卖股票时机含冷冻期\n",
    "https://leetcode-cn.com/problems/best-time-to-buy-and-sell-stock-with-cooldown/\n",
    "\"\"\"\n",
    "def maxProfit(prices):\n",
    "    \"\"\"\n",
    "        1. dp问题(无限次买入卖出): dp[i][j]代表第i天, j为0, 1. 0代表没有股票, 1代表有股票.\n",
    "            dp[i][0](没有股票的情况, 今天卖掉股票才有此情况) = max(\n",
    "                dp[i-1][0](不买也不卖),\n",
    "                dp[i-1][1] + prices[i](前一天有股票, 今天卖掉股票)\n",
    "            )\n",
    "            dp[i][1](有股票的情况, 今天买入股票才有此情况) = max(\n",
    "                dp[i-1][1](不买也不卖),\n",
    "                dp[i-1][0] - prices[i](前一天没有股票, 今天买入股票)\n",
    "            )\n",
    "        2. dp问题(有限制k次的买入卖出): dp[i][k][j], k代表交易的次数.\n",
    "            dp[i][k][0] = max(\n",
    "                dp[i-1][k][0](不买也不卖),\n",
    "                dp[i-1][k-1][1] + prices[i](前一天交易k-1次有股票, 今天卖掉股票)\n",
    "            )\n",
    "            dp[i][k][1] = max(\n",
    "                dp[i-1][k][1](不买也不卖),\n",
    "                dp[i-1][k-1][0] - prices[i](前一天交易k-1次没有股票, 今天买入股票)\n",
    "            )\n",
    "            res = dp[n-1][0~k][0], 最后一天, 且没有股票情况下, 交易0~k次的最大利润.\n",
    "        3. dp问题(冷冻期问题), 等同于第二个问题, k设置为0,1即可.\n",
    "            0代表解冻期可交易, 1代表冷冻期不可交易.\n",
    "            res = dp[n-1][0~k][0], 最后一天, 且没有股票情况下, 冷冻期和解冻期的最大利润.\n",
    "        4. dp问题(可以拥有多个股票), 则j不仅仅为0,1. 而是一个设定的值, 代表拥有的股票.\n",
    "            dp[i][k][j] = max(\n",
    "                dp[i][k][j](不买也不卖),\n",
    "                dp[i-1][k-1][j+1] + prices[i](卖出股票),\n",
    "                dp[i-1][k-1][j-1] - prices[i](买入股票)\n",
    "            )\n",
    "            但此解法, 存在很多边界问题.\n",
    "    \"\"\"\n",
    "    # 这里有误, 但是不知道问题出在那里!!!!!\n",
    "    K, n = 2, len(prices)\n",
    "    if n <= 1:\n",
    "        return 0\n",
    "    dp = [[[0, 0] for _ in range(K)] for _ in range(n)]\n",
    "    # 初始化(没有股票为0, 有股票代表买入, 则为-prices[0])\n",
    "    for k in range(K):\n",
    "        dp[0][k][0], dp[0][k][1] = 0, -prices[0]\n",
    "    \n",
    "    for i in range(1, n):\n",
    "        for k in range(1, K):\n",
    "            dp[i][k][0] = max(dp[i-1][k][0], dp[i-1][k-1][1] + prices[i])\n",
    "            dp[i][k][1] = max(dp[i-1][k][1], dp[i-1][k-1][0] - prices[i])\n",
    "    \n",
    "    r = 0\n",
    "    for k in range(K):\n",
    "        r = max(r, dp[n-1][k][0])\n",
    "        \n",
    "    return r\n",
    "\n",
    "print(maxProfit([1,2,3,0,2]))\n",
    "print(maxProfit([1,2,4,5]))"
   ]
  },
  {
   "cell_type": "code",
   "execution_count": 84,
   "metadata": {},
   "outputs": [
    {
     "name": "stdout",
     "output_type": "stream",
     "text": [
      "3\n"
     ]
    }
   ],
   "source": [
    "\"\"\"\n",
    "322. 零钱兑换\n",
    "https://leetcode-cn.com/problems/coin-change/\n",
    "\"\"\"\n",
    "def coinChange(coins, amount):\n",
    "    \"\"\"\n",
    "        1. dp问题: dp[i] = min(dp[i], dp[i-coins[j]] + 1)\n",
    "            0 < i < amount + 1, dp[i]代表最小的次数.\n",
    "            dp[i-coins[j]] + 1中, 1代表coins[j]满足为一次, dp[i-coins[j]]为剩余的次数\n",
    "        2. dp[i]均初始化为amount + 1, 为了判断.\n",
    "    \"\"\"\n",
    "    dp = [amount + 1 for _ in range(amount + 1)]\n",
    "    dp[0] = 0\n",
    "    # 到amount总金额(金额当索引)\n",
    "    for i in range(1, amount + 1):\n",
    "        for j in range(len(coins)):\n",
    "            # 只有硬币小于当前金额, 才能进行递推\n",
    "            if coins[j] <= i:\n",
    "                # dp[i]要么等于自身(已经被计算过),\n",
    "                # 要么等于coins[j](一次) + (i - coins[j])的次数\n",
    "                dp[i] = min(dp[i], dp[i-coins[j]] + 1)\n",
    "    return -1 if dp[amount] > amount else dp[amount]\n",
    "\n",
    "print(coinChange([1,2,5], 11))"
   ]
  },
  {
   "cell_type": "code",
   "execution_count": 89,
   "metadata": {},
   "outputs": [
    {
     "name": "stdout",
     "output_type": "stream",
     "text": [
      "[0, 1, 1, 2, 1, 2]\n"
     ]
    }
   ],
   "source": [
    "\"\"\"\n",
    "338. 比特位计数\n",
    "https://leetcode-cn.com/problems/counting-bits/\n",
    "\"\"\"\n",
    "def countBits(num):\n",
    "    \"\"\"\n",
    "        1. dp问题: dp[i] = dp[i>>1] + (i&1).\n",
    "            i>>1代表前一个二进制位的次数,\n",
    "            i&1代表i的末尾是否为1\n",
    "    \"\"\"\n",
    "    dp = [0]\n",
    "    for i in range(1, num + 1):\n",
    "        dp.append(dp[i>>1] + (i&1))\n",
    "    \n",
    "    return dp\n",
    "\n",
    "print(countBits(5))"
   ]
  },
  {
   "cell_type": "code",
   "execution_count": 90,
   "metadata": {},
   "outputs": [
    {
     "name": "stdout",
     "output_type": "stream",
     "text": [
      "36\n"
     ]
    }
   ],
   "source": [
    "\"\"\"\n",
    "343. 整数拆分\n",
    "https://leetcode-cn.com/problems/integer-break/\n",
    "\"\"\"\n",
    "def integerBreak(n):\n",
    "    \"\"\"\n",
    "        1. dp问题: dp[i] = max(dp[i], max(dp[i-j], i-j)*j)\n",
    "            0<i<n+1, 0<j<i\n",
    "        dp[i]代表数值i的乘积最大值, 它要么等于自身, 要么进行分解,\n",
    "            分解为dp[i-j], i-j中的最大值 * j\n",
    "    \"\"\"\n",
    "    if n == 1:\n",
    "        return 1\n",
    "    dp = [0 for _ in range(n + 1)]\n",
    "    for i in range(2, n+1):\n",
    "        for j in range(1, i):\n",
    "            dp[i] = max(dp[i], max(dp[i-j], i-j) * j)\n",
    "    return dp[-1]\n",
    "\n",
    "print(integerBreak(10))"
   ]
  },
  {
   "cell_type": "code",
   "execution_count": 91,
   "metadata": {},
   "outputs": [
    {
     "name": "stdout",
     "output_type": "stream",
     "text": [
      "5611771\n"
     ]
    }
   ],
   "source": [
    "\"\"\"\n",
    "357. 计算各个位数不同的数字个数\n",
    "https://leetcode-cn.com/problems/count-numbers-with-unique-digits/\n",
    "\"\"\"\n",
    "def countNumbersWithUniqueDigits(n):\n",
    "    counts = [9,9,8,7,6,5,4,3,2,1]\n",
    "    res, product = 1, 1\n",
    "    \n",
    "    # 超过10位的, 均会重复\n",
    "    n = n if n <= 10 else 10\n",
    "    for i in range(n):\n",
    "        product *= counts[i]\n",
    "        res += product\n",
    "    \n",
    "    return res\n",
    "\n",
    "print(countNumbersWithUniqueDigits(9))"
   ]
  },
  {
   "cell_type": "code",
   "execution_count": 119,
   "metadata": {},
   "outputs": [
    {
     "name": "stdout",
     "output_type": "stream",
     "text": [
      "44\n"
     ]
    }
   ],
   "source": [
    "\"\"\"\n",
    "650. 只有两个键的键盘\n",
    "https://leetcode-cn.com/problems/2-keys-keyboard/\n",
    "\"\"\"\n",
    "def minSteps(n):\n",
    "    \"\"\"\n",
    "        1. dp[i] = dp[i//j] + j, 0 < j <= n, 并且n % j == 0.\n",
    "        2. 因为只有: 全选, 复制的操作, 所以肯定是倍数的关系. 假设n=11, 不会有到10后, 加1的操作.\n",
    "        3. 所以, 开始要么就是加1, 直到加到可以翻倍位置, 然后不断的翻倍.\n",
    "    \"\"\"\n",
    "    if n == 1:\n",
    "        return 0\n",
    "    for i in range(2, n + 1):\n",
    "        if n % i == 0:\n",
    "            return minSteps(n // i) + i\n",
    "        \n",
    "print(minSteps(123))"
   ]
  },
  {
   "cell_type": "code",
   "execution_count": 142,
   "metadata": {},
   "outputs": [
    {
     "name": "stdout",
     "output_type": "stream",
     "text": [
      "2\n",
      "5\n",
      "3\n"
     ]
    }
   ],
   "source": [
    "\"\"\"\n",
    "673. 最长递增子序列的个数\n",
    "https://leetcode-cn.com/problems/number-of-longest-increasing-subsequence/\n",
    "\"\"\"\n",
    "def findNumberOfLIS(nums):\n",
    "    # 答案来自LeetCode的官网\n",
    "    N = len(nums)\n",
    "    if N <= 1:\n",
    "        return N\n",
    "    lengths, counts = [0] * N, [1] * N\n",
    "    \n",
    "    for j, num in enumerate(nums):\n",
    "        for i in range(j):\n",
    "            if nums[i] < nums[j]:\n",
    "                if lengths[i] >= lengths[j]:\n",
    "                    lengths[j] = 1 + lengths[i]\n",
    "                    counts[j] = counts[i]\n",
    "                elif lengths[i] + 1 == lengths[j]:\n",
    "                    counts[j] += counts[i]\n",
    "    \n",
    "    longest = max(lengths)\n",
    "    return sum(c for i, c in enumerate(counts) if lengths[i] == longest)\n",
    "    \n",
    "print(findNumberOfLIS([1,3,5,4,7]))\n",
    "print(findNumberOfLIS([2,2,2,2,2]))\n",
    "print(findNumberOfLIS([1,2,4,3,5,4,7,2]))"
   ]
  },
  {
   "cell_type": "code",
   "execution_count": 157,
   "metadata": {},
   "outputs": [
    {
     "name": "stdout",
     "output_type": "stream",
     "text": [
      "0.0625\n",
      "0.125\n"
     ]
    }
   ],
   "source": [
    "\"\"\"\n",
    "688. “马”在棋盘上的概率\n",
    "https://leetcode-cn.com/problems/knight-probability-in-chessboard/\n",
    "\"\"\"\n",
    "def knightProbability(N, K, r, c):\n",
    "    # 错误的代码, 但是不知道错的那里???\n",
    "    def help(N, K, r, c):\n",
    "        r_c = [(2,1), (2,-1), (-2,1), (-2,-1), (1,2), (1,-2), (-1,2), (-1,-2)]\n",
    "        r_c = [(v[0] + r, v[1] + c) for v in r_c\n",
    "               if 0 <= v[0] + r < N and 0 <= v[1] + c < N]\n",
    "        if K == 1:\n",
    "            return (len(r_c), 1)\n",
    "        r = [1, 0]\n",
    "        for rc in r_c:\n",
    "            _r = help(N, K - 1, rc[0], rc[1])\n",
    "            r[0] *= _r[0]\n",
    "            r[1] += _r[1]\n",
    "        return r\n",
    "    \n",
    "    if K == 0:\n",
    "        return 1\n",
    "    r = help(N, K, r, c)\n",
    "    return r[0] / (8 ** r[1])\n",
    "\n",
    "def knightProbability1(N, K, r, c):\n",
    "    # 来自官网的代码\n",
    "    dp = [[0] * N for _ in range(N)]\n",
    "    dp[r][c] = 1\n",
    "    for _ in range(K):\n",
    "        dp2 = [[0] * N for _ in range(N)]\n",
    "        for r, row in enumerate(dp):\n",
    "            for c, val in enumerate(row):\n",
    "                for dr, dc in ((2,1),(2,-1),(-2,1),(-2,-1),\n",
    "                               (1,2),(1,-2),(-1,2),(-1,-2)):\n",
    "                    if 0 <= r + dr < N and 0 <= c + dc < N:\n",
    "                        dp2[r+dr][c+dc] += val / 8.0\n",
    "        dp = dp2\n",
    "    \n",
    "    return sum(map(sum, dp))\n",
    "\n",
    "print(knightProbability1(3,2,0,0))\n",
    "print(knightProbability1(8,3,0,0))"
   ]
  },
  {
   "cell_type": "code",
   "execution_count": 158,
   "metadata": {},
   "outputs": [
    {
     "name": "stdout",
     "output_type": "stream",
     "text": [
      "True\n"
     ]
    }
   ],
   "source": [
    "\"\"\"\n",
    "698. 划分为k个相等的子集\n",
    "https://leetcode-cn.com/problems/partition-to-k-equal-sum-subsets/submissions/\n",
    "\"\"\"\n",
    "def canPartitionKSubsets(nums, k):\n",
    "    # 来自官网\n",
    "    target, rem = divmod(sum(nums), k)\n",
    "    if rem or max(nums) > target:\n",
    "        return False\n",
    "\n",
    "    memo = [None] * (1 << len(nums))\n",
    "    memo[-1] = True\n",
    "\n",
    "    def search(used, todo):\n",
    "        if memo[used] is None:\n",
    "            targ = (todo - 1) % target + 1\n",
    "            memo[used] = any(search(used | (1 << i), todo - num) for i, num in enumerate(nums) if (used >> i) & 1 == 0 and num <= targ)\n",
    "        return memo[used]\n",
    "\n",
    "    return search(0, target * k)\n",
    "\n",
    "print(canPartitionKSubsets([4,3,2,3,5,2,1], 4))"
   ]
  },
  {
   "cell_type": "code",
   "execution_count": 159,
   "metadata": {},
   "outputs": [
    {
     "name": "stdout",
     "output_type": "stream",
     "text": [
      "231\n"
     ]
    }
   ],
   "source": [
    "\"\"\"\n",
    "712. 两个字符串的最小ASCII删除和\n",
    "https://leetcode-cn.com/problems/minimum-ascii-delete-sum-for-two-strings/\n",
    "\"\"\"\n",
    "def minimumDeleteSum(s1, s2):\n",
    "    # 来自官网\n",
    "    dp = [[0] * (len(s2) + 1) for _ in range(len(s1) + 1)]\n",
    "    \n",
    "    for i in range(len(s1) - 1, -1, -1):\n",
    "        dp[i][len(s2)] = dp[i+1][len(s2)] + ord(s1[i])\n",
    "    for j in range(len(s2) - 1, -1, -1):\n",
    "        dp[len(s1)][j] = dp[len(s1)][j+1] + ord(s2[j])\n",
    "        \n",
    "    for i in range(len(s1) - 1, -1, -1):\n",
    "        for j in range(len(s2) - 1, -1, -1):\n",
    "            if s1[i] == s2[j]:\n",
    "                dp[i][j] = dp[i+1][j+1]\n",
    "            else:\n",
    "                dp[i][j] = min(dp[i+1][j] + ord(s1[i]),\n",
    "                              dp[i][j+1] + ord(s2[j]))\n",
    "                \n",
    "    return dp[0][0]\n",
    "\n",
    "print(minimumDeleteSum(\"sea\", \"eat\"))"
   ]
  },
  {
   "cell_type": "code",
   "execution_count": 94,
   "metadata": {},
   "outputs": [
    {
     "name": "stdout",
     "output_type": "stream",
     "text": [
      "12\n"
     ]
    }
   ],
   "source": [
    "\"\"\"\n",
    "931. 下降路径最小和\n",
    "https://leetcode-cn.com/problems/minimum-falling-path-sum/\n",
    "\"\"\"\n",
    "def minFallingPathSum(A):\n",
    "    \"\"\"\n",
    "        1. dp问题: dp[i][j] += min(dp[i-1][j-1], dp[i-1][j], dp[i-1][j+1])\n",
    "    \"\"\"\n",
    "    if not A:\n",
    "        return 0\n",
    "    m, n = len(A), len(A[0])\n",
    "    for i in range(1, m):\n",
    "        for j in range(n):\n",
    "            _min = A[i-1][j]\n",
    "            if j - 1 >= 0:\n",
    "                _min = min(_min, A[i-1][j-1])\n",
    "            if j + 1 < n:\n",
    "                _min = min(_min, A[i-1][j+1])\n",
    "            A[i][j] += _min\n",
    "    \n",
    "    return min(A[-1])\n",
    "\n",
    "print(minFallingPathSum([[1,2,3],[4,5,6],[7,8,9]]))"
   ]
  },
  {
   "cell_type": "code",
   "execution_count": 95,
   "metadata": {},
   "outputs": [
    {
     "name": "stdout",
     "output_type": "stream",
     "text": [
      "944000\n"
     ]
    }
   ],
   "source": [
    "\"\"\"\n",
    "935. 骑士拨号器\n",
    "https://leetcode-cn.com/problems/knight-dialer/\n",
    "\"\"\"\n",
    "def knightDialer(N):\n",
    "    # 本身问题没看懂, 所以直接看LeetCode的官方答案\n",
    "    MOD = 10 ** 9 + 7\n",
    "    moves = [[4,6],[6,8],[7,9],[4,8],[3,9,0],[],[1,7,0],[2,6],[1,3],[2,4]]\n",
    "    \n",
    "    dp = [1] * 10\n",
    "    for hops in range(N-1):\n",
    "        dp2 = [0] * 10\n",
    "        for node, count in enumerate(dp):\n",
    "            for nei in moves[node]:\n",
    "                dp2[nei] += count\n",
    "                dp2[nei] %= MOD\n",
    "        dp = dp2\n",
    "    return sum(dp) % MOD\n",
    "\n",
    "print(knightDialer(15))"
   ]
  },
  {
   "cell_type": "code",
   "execution_count": 112,
   "metadata": {},
   "outputs": [
    {
     "name": "stdout",
     "output_type": "stream",
     "text": [
      "[929, 707, 292, 818, 181]\n",
      "[929, 707, 292, 818, 181]\n"
     ]
    }
   ],
   "source": [
    "\"\"\"\n",
    "967. 连续差相同的数字\n",
    "https://leetcode-cn.com/problems/numbers-with-same-consecutive-differences/\n",
    "\"\"\"\n",
    "def numsSameConsecDiff(N, K):\n",
    "    # 如果是1, 则进行特殊处理\n",
    "    if N == 1:\n",
    "        return list(range(10))\n",
    "    # 获取个位数时候的取值\n",
    "    s = set(list(range(10-K)) + list(range(K,10)))\n",
    "    _len = N\n",
    "    N -= 1\n",
    "    while N > 0:\n",
    "        s1 = set()\n",
    "        # 对集合中的每个个位数, 进行K的相加, 相减, 保证差值为K\n",
    "        for _s in s:\n",
    "            # 个位数\n",
    "            v = _s % 10\n",
    "            v1, v2 = v - K, v + K\n",
    "            if v1 >= 0:\n",
    "                s1.add(_s * 10 + v1)\n",
    "            if v2 <= 9:\n",
    "                s1.add(_s * 10 + v2)\n",
    "        s = s1\n",
    "        N -= 1\n",
    "    \n",
    "    res = []\n",
    "    for _s in s:\n",
    "        # 判断长度是否等于N, 过滤0的特殊情况\n",
    "        if len(str(_s)) == _len:\n",
    "            res.append(_s)\n",
    "   \n",
    "    return res\n",
    "\n",
    "def numsSameConsecDiff1(N, K):\n",
    "    \"\"\"\n",
    "        1. dp问题: dp[i] = dp[i-1] * 10 + dp[i-1][-1] +/- K.\n",
    "        其中dp[i-1][-1]代表dp[i-1]的个位数, +/- K代表对K的加减.\n",
    "    \"\"\"\n",
    "    dp = range(10)\n",
    "    for _ in range(N-1):\n",
    "        _dp = set()\n",
    "        for x in dp:\n",
    "            for y in [x % 10 + K, x % 10 - K]:\n",
    "                if x and 0 <= y <= 9:\n",
    "                    _dp.add(x * 10 + y)\n",
    "        dp = _dp\n",
    "        \n",
    "    return list(dp)\n",
    "\n",
    "print(numsSameConsecDiff(3,7))\n",
    "print(numsSameConsecDiff1(3,7))"
   ]
  },
  {
   "cell_type": "code",
   "execution_count": 115,
   "metadata": {},
   "outputs": [
    {
     "name": "stdout",
     "output_type": "stream",
     "text": [
      "[-1, -1, 1, -1, 1, 0, -1, 1]\n",
      "5\n"
     ]
    }
   ],
   "source": [
    "\"\"\"\n",
    "978. 最长湍流子数组\n",
    "https://leetcode-cn.com/problems/longest-turbulent-subarray/\n",
    "\"\"\"\n",
    "def maxTurbulenceSize(A):\n",
    "    \"\"\"\n",
    "        1. dp问题: 这里我们不应该关注数值本身, 而是应该关注变化的趋势.\n",
    "            所以, 对于A = [9,4,2,10,7,8,8,1,9], 变更为: [-1, -1, 1, -1, 1, 0, -1, 1]\n",
    "            A[i+1]>A[i], 则为1, A[i+1]=A[i], 则为0, 否则为-1\n",
    "        2. dp[i] = dp[i-1] + 1, 如果nums[i], nums[i-1]为1, -1.(代表上升下降, 或者下降上升)\n",
    "            dp[i] = 1, 如果nums[i] == nums[i-1](代表上升上升, 或者下降下降)\n",
    "            dp[i] = 0, 如果nums[i] = 0(代表之前的两数相等)\n",
    "    \"\"\"\n",
    "    if len(A) == 1:\n",
    "        return 1\n",
    "    nums = []\n",
    "    for i in range(1, len(A)):\n",
    "        v = A[i] - A[i-1]\n",
    "        nums.append(1 if v > 0 else 0 if v == 0 else -1)\n",
    "    print(nums)\n",
    "    dp = [0 for _ in range(len(nums))]\n",
    "    dp[0] = 0 if nums[0] == 0 else 1\n",
    "    for i in range(1, len(nums)):\n",
    "        if nums[i] == 0:\n",
    "            dp[i] = 0\n",
    "        elif nums[i] + nums[i-1] == 0:\n",
    "            dp[i] = dp[i-1] + 1\n",
    "        else:\n",
    "            dp[i] = 1\n",
    "            \n",
    "    return max(dp) + 1\n",
    "\n",
    "print(maxTurbulenceSize([9,4,2,10,7,8,8,1,9]))"
   ]
  },
  {
   "cell_type": "code",
   "execution_count": 118,
   "metadata": {},
   "outputs": [
    {
     "name": "stdout",
     "output_type": "stream",
     "text": [
      "11\n"
     ]
    }
   ],
   "source": [
    "\"\"\"\n",
    "983. 最低票价\n",
    "https://leetcode-cn.com/problems/minimum-cost-for-tickets/\n",
    "\"\"\"\n",
    "from functools import lru_cache\n",
    "def mincostTickets(days, costs):\n",
    "    \"\"\"\n",
    "        1. dp问题: dp(i) = min(\n",
    "                dp(i+1) + costs[0],\n",
    "                dp(i+7) + costs[1],\n",
    "                dp(i+30) + costs[2])\n",
    "        2. 用到了lru_cache缓存技术\n",
    "    \"\"\"\n",
    "    dur = [1, 7, 30]\n",
    "    @lru_cache(None)\n",
    "    def dp(i):\n",
    "        if i > 365:\n",
    "            return 0\n",
    "        if i in days:\n",
    "            return min(dp(i+d) + c for d, c in zip(dur, costs))\n",
    "        else:\n",
    "            return dp(i + 1)\n",
    "    \n",
    "    return dp(1)\n",
    "\n",
    "print(mincostTickets([1,4,6,7,8,20], [2,7,15]))"
   ]
  },
  {
   "cell_type": "code",
   "execution_count": null,
   "metadata": {},
   "outputs": [],
   "source": []
  }
 ],
 "metadata": {
  "kernelspec": {
   "display_name": "Python 3",
   "language": "python",
   "name": "python3"
  },
  "language_info": {
   "codemirror_mode": {
    "name": "ipython",
    "version": 3
   },
   "file_extension": ".py",
   "mimetype": "text/x-python",
   "name": "python",
   "nbconvert_exporter": "python",
   "pygments_lexer": "ipython3",
   "version": "3.7.3"
  }
 },
 "nbformat": 4,
 "nbformat_minor": 2
}
