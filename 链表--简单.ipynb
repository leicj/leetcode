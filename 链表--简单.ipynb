{
 "cells": [
  {
   "cell_type": "code",
   "execution_count": 1,
   "metadata": {},
   "outputs": [],
   "source": [
    "class Node:\n",
    "    def __init__(self, value):\n",
    "        self.value = value\n",
    "        self.next = None\n",
    "        self.rand = None\n",
    "        \n",
    "class DoubleNode:\n",
    "    def __init__(self, value):\n",
    "        self.value = value\n",
    "        self.last = self.next = None\n",
    "        \n",
    "class TreeNode:\n",
    "    def __init__(self, value):\n",
    "        self.value = value\n",
    "        self.left = self.right = None\n",
    "        \n",
    "def array2node(arr, isCircle=False):\n",
    "    if not arr:\n",
    "        return None\n",
    "    node = Node(arr[0])\n",
    "    head = node\n",
    "    for i in range(1, len(arr)):\n",
    "        node.next = Node(arr[i])\n",
    "        node = node.next\n",
    "    # 尾部指针指向头部指针\n",
    "    if isCircle:\n",
    "        node.next = head\n",
    "    return head\n",
    "\n",
    "def node2array(head):\n",
    "    if not head:\n",
    "        return []\n",
    "    r, root = [], head\n",
    "    while root:\n",
    "        r.append(root.value)\n",
    "        root = root.next\n",
    "    return r\n",
    "\n",
    "def array2tree(arr):\n",
    "    n = arr.pop(0)\n",
    "    root = None if n is None else TreeNode(n)\n",
    "    queue = [root]\n",
    "    while arr and queue:\n",
    "        node = queue.pop(0)\n",
    "        if node is None:\n",
    "            continue\n",
    "        \n",
    "        n1 = arr.pop(0)\n",
    "        node.left = None if n1 is None else TreeNode(n1)\n",
    "        queue.append(node.left)\n",
    "        if arr:\n",
    "            n2 = arr.pop(0)\n",
    "            node.right = None if n2 is None else TreeNode(n2)\n",
    "            queue.append(node.right)\n",
    "    return root"
   ]
  },
  {
   "cell_type": "code",
   "execution_count": 4,
   "metadata": {},
   "outputs": [
    {
     "name": "stdout",
     "output_type": "stream",
     "text": [
      "[1, 2, 3, 4, 5, 6]\n"
     ]
    }
   ],
   "source": [
    "\"\"\"\n",
    "21. 合并两个有序链表\n",
    "\"\"\"\n",
    "def mergeTwoLists(l1, l2):\n",
    "    if not l1 or not l2:\n",
    "        return l1 or l2\n",
    "    root = head = Node(None)\n",
    "    while l1 and l2:\n",
    "        head.next = Node(None)\n",
    "        if l1.value < l2.value:\n",
    "            head.next.value = l1.value\n",
    "            l1 = l1.next\n",
    "        else:\n",
    "            head.next.value = l2.value\n",
    "            l2 = l2.next\n",
    "        head = head.next\n",
    "    if l1 or l2:\n",
    "        head.next = l1 or l2\n",
    "    return root.next\n",
    "\n",
    "l1, l2 = array2node([1,3,5]), array2node([2,4,6])\n",
    "print(node2array(mergeTwoLists(l1, l2)))"
   ]
  },
  {
   "cell_type": "code",
   "execution_count": 5,
   "metadata": {},
   "outputs": [
    {
     "name": "stdout",
     "output_type": "stream",
     "text": [
      "[1, 2, 3, 4, 5]\n"
     ]
    }
   ],
   "source": [
    "\"\"\"\n",
    "83. 删除排序链表中的重复元素\n",
    "解题思路:\n",
    "1. 如果为空链表, 则直接返回.\n",
    "2. 定义prev和head, 不断遍历head, 如果prev和head不同, 则prev.next = head.\n",
    "3. 要注意链表尾部重复的情况, 所以需要执行prev.next = None\n",
    "\"\"\"\n",
    "def deleteDuplicates(head):\n",
    "    if not head:\n",
    "        return head\n",
    "    root, prev = head, head\n",
    "    head = head.next\n",
    "    while head:\n",
    "        if prev.value != head.value:\n",
    "            prev.next = head\n",
    "            prev = head\n",
    "        head = head.next\n",
    "    \n",
    "    prev.next = None\n",
    "    return root\n",
    "\n",
    "head = array2node([1,2,2,3,3,4,4,5,5])\n",
    "print(node2array(deleteDuplicates(head)))"
   ]
  },
  {
   "cell_type": "code",
   "execution_count": 6,
   "metadata": {},
   "outputs": [],
   "source": [
    "\"\"\"\n",
    "141. 环形链表\n",
    "解题思路:\n",
    "1. 元祖存储已经访问的元素\n",
    "2. 快慢指针法\n",
    "\"\"\"\n",
    "def hasCycle(head):\n",
    "    s = set()\n",
    "    while head:\n",
    "        if head in s:\n",
    "            return True\n",
    "        s.add(head)\n",
    "        head = head.next\n",
    "    return False\n",
    "\n",
    "def hasCycle(head):\n",
    "    if not head or not head.next:\n",
    "        return False\n",
    "    slow, fast = head, head.next\n",
    "    while fast and fast.next and slow != fast:\n",
    "        fast = fast.next.next\n",
    "        slow = slow.next\n",
    "    return slow == fast"
   ]
  },
  {
   "cell_type": "code",
   "execution_count": 7,
   "metadata": {},
   "outputs": [],
   "source": [
    "\"\"\"\n",
    "160. 相交链表\n",
    "\"\"\"\n",
    "def getIntersectionNode(headA, headB):\n",
    "    cur1, cur2 = headA, headB\n",
    "    lenA, lenB = 0, 0\n",
    "    while cur1 and cur1.next:\n",
    "        lenA += 1\n",
    "        cur1 = cur1.next\n",
    "    while cur2 and cur2.next:\n",
    "        lenB += 1\n",
    "        cur2 = cur2.next\n",
    "    # 不相交\n",
    "    if cur1 != cur2:\n",
    "        return None\n",
    "    cur1 = headA if lenA > lenB else headB\n",
    "    cur2 = headB if lenA > lenB else headA\n",
    "    lenA, lenB = max(lenA, lenB), min(lenA, lenB)\n",
    "    while lenA > lenB:\n",
    "        cur1 = cur1.next\n",
    "        lenA -= 1\n",
    "    while cur1 != cur2:\n",
    "        cur1 = cur1.next\n",
    "        cur2 = cur2.next\n",
    "\n",
    "    return cur1"
   ]
  },
  {
   "cell_type": "code",
   "execution_count": 8,
   "metadata": {},
   "outputs": [],
   "source": [
    "\"\"\"\n",
    "203. 移除链表元素\n",
    "\"\"\"\n",
    "def removeElements(head, val):\n",
    "    root = r = Node(None)\n",
    "    root.next = head\n",
    "    while root.next:\n",
    "        if root.next.val == val:\n",
    "            root.next = root.next.next\n",
    "        else:\n",
    "            root = root.next\n",
    "    \n",
    "    return r.next"
   ]
  },
  {
   "cell_type": "code",
   "execution_count": 9,
   "metadata": {},
   "outputs": [
    {
     "name": "stdout",
     "output_type": "stream",
     "text": [
      "[5, 4, 3, 2, 1]\n"
     ]
    }
   ],
   "source": [
    "\"\"\"\n",
    "206. 反转链表\n",
    "\"\"\"\n",
    "def reverseList(head):\n",
    "    pre, nex = None, None\n",
    "    while head:\n",
    "        nex = head.next\n",
    "        head.next = pre\n",
    "        pre = head\n",
    "        head = nex\n",
    "    \n",
    "    return pre\n",
    "\n",
    "head = array2node([1,2,3,4,5])\n",
    "print(node2array(reverseList(head)))"
   ]
  },
  {
   "cell_type": "code",
   "execution_count": 10,
   "metadata": {},
   "outputs": [],
   "source": [
    "\"\"\"\n",
    "234. 回文链表\n",
    "\"\"\"\n",
    "def isPalindrome(head):\n",
    "    arr = []\n",
    "    while head:\n",
    "        arr.append(head.val)\n",
    "        head = head.next\n",
    "    \n",
    "    return list(reversed(arr)) == arr"
   ]
  },
  {
   "cell_type": "code",
   "execution_count": 12,
   "metadata": {},
   "outputs": [],
   "source": [
    "\"\"\"\n",
    "237. 删除链表中的节点\n",
    "\"\"\"\n",
    "def deleteNode(node):\n",
    "    if node and node.next:\n",
    "        node.value = node.next.value\n",
    "        node.next = node.next.next"
   ]
  },
  {
   "cell_type": "code",
   "execution_count": 13,
   "metadata": {},
   "outputs": [],
   "source": [
    "\"\"\"\n",
    "707. 设计链表\n",
    "\"\"\"\n",
    "class MyLinkedList:\n",
    "\n",
    "    def __init__(self):\n",
    "        self.list = []\n",
    "        \n",
    "\n",
    "    def get(self, index: int) -> int:\n",
    "        if index < 0 or index >= len(self.list):\n",
    "            return -1\n",
    "        return self.list[index]\n",
    "        \n",
    "\n",
    "    def addAtHead(self, val: int) -> None:\n",
    "        self.list.insert(0, val)\n",
    "        \n",
    "\n",
    "    def addAtTail(self, val: int) -> None:\n",
    "        self.list.append(val)\n",
    "        \n",
    "\n",
    "    def addAtIndex(self, index: int, val: int) -> None:\n",
    "        if index > len(self.list):\n",
    "            return\n",
    "        index = 0 if index < 0 else index\n",
    "        self.list.insert(index, val)\n",
    "        \n",
    "\n",
    "    def deleteAtIndex(self, index: int) -> None:\n",
    "        if index >= len(self.list) or index < 0:\n",
    "            return\n",
    "        del self.list[index]"
   ]
  },
  {
   "cell_type": "code",
   "execution_count": null,
   "metadata": {},
   "outputs": [],
   "source": [
    "\"\"\"\n",
    "876. 链表的中间节点\n",
    "\"\"\"\n",
    "def middleNode(head):\n",
    "    fast, slow = head, head\n",
    "    while fast and fast.next and fast.next.next:\n",
    "        slow = slow.next\n",
    "        fast = fast.next.next\n",
    "    return slow.next if fast.next else slow"
   ]
  }
 ],
 "metadata": {
  "kernelspec": {
   "display_name": "Python 3",
   "language": "python",
   "name": "python3"
  },
  "language_info": {
   "codemirror_mode": {
    "name": "ipython",
    "version": 3
   },
   "file_extension": ".py",
   "mimetype": "text/x-python",
   "name": "python",
   "nbconvert_exporter": "python",
   "pygments_lexer": "ipython3",
   "version": "3.7.3"
  }
 },
 "nbformat": 4,
 "nbformat_minor": 2
}
