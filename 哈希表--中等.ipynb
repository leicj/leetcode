{
 "cells": [
  {
   "cell_type": "code",
   "execution_count": 8,
   "metadata": {},
   "outputs": [
    {
     "name": "stdout",
     "output_type": "stream",
     "text": [
      "3\n",
      "1\n",
      "3\n",
      "3\n"
     ]
    }
   ],
   "source": [
    "\"\"\"\n",
    "3. 无重复字符的最长子串\n",
    "https://leetcode-cn.com/problems/longest-substring-without-repeating-characters/\n",
    "\"\"\"\n",
    "def lengthOfLongestSubstring(s):\n",
    "    \"\"\"\n",
    "        1. 定义left, right指针, 用于存储最长子串的索引. windows用于存储子串的内容.\n",
    "        2. 递增right, 将遍历的数据写入windows中, 直到遇到重复的数据.\n",
    "        3. 递增left, 找到重复的数据, 从windows中删除.\n",
    "    \"\"\"\n",
    "    windows, left, right, max_len = set(), 0, 0, 0\n",
    "    while right < len(s):\n",
    "        if s[right] not in windows:\n",
    "            windows.add(s[right])\n",
    "        else:\n",
    "            max_len = max(max_len, len(windows))\n",
    "            while left < right:\n",
    "                if s[left] == s[right]:\n",
    "                    left += 1\n",
    "                    break\n",
    "                windows.remove(s[left])\n",
    "                left += 1\n",
    "        right += 1\n",
    "    \n",
    "    return max(max_len, len(windows))\n",
    "\n",
    "for _s in [\"abcabcbb\", \"bbbbb\", \"pwwkew\", \"abcabcbb\"]:\n",
    "    print(lengthOfLongestSubstring(_s))"
   ]
  },
  {
   "cell_type": "code",
   "execution_count": 35,
   "metadata": {},
   "outputs": [
    {
     "name": "stdout",
     "output_type": "stream",
     "text": [
      "[[-2, -1, 1, 2], [-2, 0, 0, 2], [-1, 0, 0, 1]]\n",
      "[[-3, -2, 2, 3], [-3, -1, 1, 3], [-3, 0, 0, 3], [-3, 0, 1, 2], [-2, -1, 0, 3], [-2, -1, 1, 2], [-2, 0, 0, 2], [-1, 0, 0, 1]]\n"
     ]
    }
   ],
   "source": [
    "\"\"\"\n",
    "18. 四数之和\n",
    "https://leetcode-cn.com/problems/4sum/\n",
    "\"\"\"\n",
    "import collections\n",
    "def fourSum(nums, target):\n",
    "    r = []\n",
    "    nums.sort()\n",
    "    for i in range(len(nums) - 3):\n",
    "        for j in range(i + 1, len(nums) - 2):\n",
    "            left, right = j + 1, len(nums) - 1\n",
    "            while left < right:\n",
    "                _sum = nums[i] + nums[j] + nums[left] + nums[right]\n",
    "                if _sum < target: left += 1\n",
    "                elif _sum > target: right -= 1\n",
    "                else:\n",
    "                    _arr = [nums[i], nums[j], nums[left], nums[right]]\n",
    "                    if _arr not in r:\n",
    "                        r.append(_arr)\n",
    "                    while left < right and nums[left] == nums[left + 1]:\n",
    "                        left += 1\n",
    "                    while left < right and nums[right] == nums[right - 1]:\n",
    "                        right -= 1\n",
    "                    left += 1\n",
    "                    right -= 1\n",
    "    return r\n",
    "        \n",
    "print(fourSum([1,0,-1,0,-2,2], 0))\n",
    "print(fourSum([-3,-2,-1,0,0,1,2,3], 0))"
   ]
  },
  {
   "cell_type": "code",
   "execution_count": 31,
   "metadata": {},
   "outputs": [
    {
     "name": "stdout",
     "output_type": "stream",
     "text": [
      "1 2\n",
      "3 4\n"
     ]
    }
   ],
   "source": [
    "\"\"\"\n",
    "36. 有效的数独\n",
    "https://leetcode-cn.com/problems/valid-sudoku/\n",
    "\"\"\"\n",
    "def isValidSudoku(board):\n",
    "    def isNot9(row):\n",
    "        row = [r for r in row if r != '.']\n",
    "        return len(row) == len(set(row))\n",
    "    # 每行是否符合规格\n",
    "    for i in range(len(board)):\n",
    "        if not isNot9(board[i]):\n",
    "            return False\n",
    "    # 每列是否符合规格\n",
    "    for i in range(len(board[0])):\n",
    "        column = []\n",
    "        for j in range(len(board)):\n",
    "            column.append(board[j][i])\n",
    "        if not isNot9(column):\n",
    "            return False\n",
    "    \n",
    "    for i in range(0, 9, 3):\n",
    "        arr = board[i:i+3]\n",
    "        for j in range(0, 9, 3):\n",
    "            r = []\n",
    "            for k in range(len(arr)):\n",
    "                r.extend(arr[k][j:j+3])\n",
    "            if not isNot9(r):\n",
    "                return False\n",
    "    \n",
    "    return True"
   ]
  },
  {
   "cell_type": "code",
   "execution_count": 38,
   "metadata": {},
   "outputs": [
    {
     "name": "stdout",
     "output_type": "stream",
     "text": [
      "dict_values([['eat', 'tea', 'ate'], ['tan', 'nat'], ['bat']])\n"
     ]
    }
   ],
   "source": [
    "\"\"\"\n",
    "49. 字母异位词分组\n",
    "https://leetcode-cn.com/problems/group-anagrams/\n",
    "\"\"\"\n",
    "import collections\n",
    "def groupAnagrams(strs):\n",
    "    dic = collections.defaultdict(list)\n",
    "    for s in strs:\n",
    "        _s = ''.join(sorted(s))\n",
    "        dic[_s].append(s)\n",
    "\n",
    "    return dic.values()\n",
    "\n",
    "print(groupAnagrams([\"eat\", \"tea\", \"tan\", \"ate\", \"nat\", \"bat\"]))"
   ]
  },
  {
   "cell_type": "code",
   "execution_count": 39,
   "metadata": {},
   "outputs": [],
   "source": [
    "\"\"\"\n",
    "166. 分数到小数\n",
    "https://leetcode-cn.com/problems/fraction-to-recurring-decimal/\n",
    "\"\"\"\n",
    "def fractionToDecimal(numerator, denominator):\n",
    "    # 来自LeetCode的答案\n",
    "    n, remainder = divmod(abs(numerator), abs(denominator))\n",
    "    sign = '-' if numerator*denominator < 0 else ''\n",
    "    fraction = [sign+str(n)]\n",
    "    if remainder == 0:\n",
    "        return ''.join(fraction)\n",
    "\n",
    "    fraction.append('.')\n",
    "    dic = {}\n",
    "    while remainder != 0:\n",
    "        if remainder in dic:\n",
    "            fraction.insert(dic[remainder], '(')\n",
    "            fraction.append(')')\n",
    "            break\n",
    "        dic[remainder] = len(fraction)\n",
    "        n, remainder = divmod(remainder*10, abs(denominator))\n",
    "        fraction.append(str(n))\n",
    "    return ''.join(fraction)"
   ]
  },
  {
   "cell_type": "code",
   "execution_count": 42,
   "metadata": {},
   "outputs": [
    {
     "name": "stdout",
     "output_type": "stream",
     "text": [
      "['CCCCCAAAAA', 'AAAAACCCCC']\n"
     ]
    }
   ],
   "source": [
    "\"\"\"\n",
    "187. 重复的DNA序列\n",
    "https://leetcode-cn.com/problems/repeated-dna-sequences/\n",
    "\"\"\"\n",
    "# 超时\n",
    "def findRepeatedDnaSequences(s):\n",
    "    r, record = set(), set()\n",
    "    for i in range(len(s) - 9):\n",
    "        sub = s[i:i+10]\n",
    "        [record, r][sub in record].add(sub)\n",
    "    return list(r)\n",
    "\n",
    "\n",
    "print(findRepeatedDnaSequences(\"AAAAACCCCCAAAAACCCCCCAAAAAGGGTTT\"))"
   ]
  },
  {
   "cell_type": "code",
   "execution_count": 43,
   "metadata": {},
   "outputs": [
    {
     "name": "stdout",
     "output_type": "stream",
     "text": [
      "1A3B\n",
      "1A1B\n"
     ]
    }
   ],
   "source": [
    "\"\"\"\n",
    "299. 猜数字游戏\n",
    "https://leetcode-cn.com/problems/bulls-and-cows/\n",
    "\"\"\"\n",
    "def getHint(secret, guess):\n",
    "    \"\"\"\n",
    "        1. 先计算相等的字符a的个数.\n",
    "        2. 把不相等的字符进行数量的统计, 然后计算b的个数\n",
    "    \"\"\"\n",
    "    a, b, s1, s2 = 0, 0, [], []\n",
    "    for i in range(len(secret)):\n",
    "        if secret[i] == guess[i]:\n",
    "            a += 1\n",
    "        else:\n",
    "            s1.append(secret[i])\n",
    "            s2.append(guess[i])\n",
    "    counter1,counter2 = collections.Counter(s1), collections.Counter(s2)\n",
    "    for k in counter1.keys():\n",
    "        if k in counter2:\n",
    "            b += min(counter1[k], counter2[k])\n",
    "    \n",
    "    return f'{a}A{b}B'\n",
    "\n",
    "print(getHint(\"1807\", \"7810\"))\n",
    "print(getHint(\"1123\", \"0111\"))"
   ]
  },
  {
   "cell_type": "code",
   "execution_count": 44,
   "metadata": {},
   "outputs": [],
   "source": [
    "\"\"\"\n",
    "380. 常数时间插入、删除和获取随机元素\n",
    "https://leetcode-cn.com/problems/insert-delete-getrandom-o1/\n",
    "\"\"\"\n",
    "class RandomizedSet:\n",
    "\n",
    "    def __init__(self):\n",
    "        \"\"\"\n",
    "        Initialize your data structure here.\n",
    "        \"\"\"\n",
    "        self.dic = {}\n",
    "\n",
    "    def insert(self, val: int) -> bool:\n",
    "        \"\"\"\n",
    "        Inserts a value to the set. Returns true if the set did not already contain the specified element.\n",
    "        \"\"\"\n",
    "        if val in self.dic:\n",
    "            return False\n",
    "        self.dic[val] = val\n",
    "        return True\n",
    "\n",
    "    def remove(self, val: int) -> bool:\n",
    "        \"\"\"\n",
    "        Removes a value from the set. Returns true if the set contained the specified element.\n",
    "        \"\"\"\n",
    "        if val not in self.dic:\n",
    "            return False\n",
    "        del self.dic[val]\n",
    "        return True\n",
    "\n",
    "    def getRandom(self) -> int:\n",
    "        \"\"\"\n",
    "        Get a random element from the set.\n",
    "        \"\"\"\n",
    "        vals = list(self.dic.values())\n",
    "        return vals[math.floor(random.random() * len(vals))]"
   ]
  },
  {
   "cell_type": "code",
   "execution_count": 49,
   "metadata": {},
   "outputs": [
    {
     "name": "stdout",
     "output_type": "stream",
     "text": [
      "2\n"
     ]
    }
   ],
   "source": [
    "\"\"\"\n",
    "454. 四数相加 II\n",
    "https://leetcode-cn.com/problems/4sum-ii/\n",
    "\"\"\"\n",
    "import collections\n",
    "def fourSum(A, B, C, D):\n",
    "    if not A:\n",
    "        return 0\n",
    "    dic, count, n = collections.defaultdict(int), 0, len(A)\n",
    "    for i in range(n):\n",
    "        for j in range(n):\n",
    "            dic[A[i] + B[j]] += 1\n",
    "    \n",
    "    for i in range(n):\n",
    "        for j in range(n):\n",
    "            count += dic[-(C[i] + D[j])]\n",
    "    \n",
    "    return count\n",
    "\n",
    "print(fourSum([1,2], [-2,-1], [-1,2], [0,2]))"
   ]
  },
  {
   "cell_type": "code",
   "execution_count": 50,
   "metadata": {},
   "outputs": [
    {
     "name": "stdout",
     "output_type": "stream",
     "text": [
      "2\n"
     ]
    }
   ],
   "source": [
    "\"\"\"\n",
    "525. 连续数组\n",
    "https://leetcode-cn.com/problems/contiguous-array/\n",
    "\"\"\"\n",
    "def findMaxLength(nums):\n",
    "    dic = {0: -1}\n",
    "    max_len, count = 0, 0\n",
    "    for i in range(len(nums)):\n",
    "        count += 1 if nums[i] == 1 else -1\n",
    "        if count in dic:\n",
    "            max_len = max(max_len, i - dic[count])\n",
    "        else:\n",
    "            dic[count] = i\n",
    "    \n",
    "    return max_len\n",
    "\n",
    "print(findMaxLength([0,1,0]))"
   ]
  },
  {
   "cell_type": "code",
   "execution_count": 54,
   "metadata": {},
   "outputs": [
    {
     "name": "stdout",
     "output_type": "stream",
     "text": [
      "True\n"
     ]
    }
   ],
   "source": [
    "\"\"\"\n",
    "535. TinyURL 的加密与解密\n",
    "https://leetcode-cn.com/problems/encode-and-decode-tinyurl/\n",
    "\"\"\"\n",
    "class Codec:\n",
    "\n",
    "    def encode(self, longUrl):\n",
    "        \"\"\"Encodes a URL to a shortened URL.\n",
    "        \n",
    "        :type longUrl: str\n",
    "        :rtype: str\n",
    "        \"\"\"\n",
    "        head, s = longUrl.split('://')\n",
    "        return f'{head}://' + ''.join([chr(ord(_s) + i) for i, _s in enumerate(s)])\n",
    "\n",
    "    def decode(self, shortUrl):\n",
    "        \"\"\"Decodes a shortened URL to its original URL.\n",
    "        \n",
    "        :type shortUrl: str\n",
    "        :rtype: str\n",
    "        \"\"\"\n",
    "        head, s = shortUrl.split('://')\n",
    "        return f'{head}://' + ''.join([chr(ord(_s) - i) for i, _s in enumerate(s)])\n",
    "    \n",
    "codec = Codec()\n",
    "longUrl = \"https://leetcode.com/problems/design-tinyurl\"\n",
    "print(codec.decode(codec.encode(longUrl)) == longUrl)"
   ]
  },
  {
   "cell_type": "code",
   "execution_count": 74,
   "metadata": {},
   "outputs": [
    {
     "name": "stdout",
     "output_type": "stream",
     "text": [
      "2\n"
     ]
    }
   ],
   "source": [
    "\"\"\"\n",
    "554. 砖墙\n",
    "https://leetcode-cn.com/problems/brick-wall/\n",
    "\"\"\"\n",
    "def leastBricks(wall):\n",
    "    dic = collections.defaultdict(int)\n",
    "    for i in range(len(wall)):\n",
    "        for j in range(0, len(wall[i]) - 1):\n",
    "            _sum = sum(wall[i][0:j+1])\n",
    "            dic[_sum] += 1\n",
    "            \n",
    "    v = dic.values()\n",
    "    if not v:\n",
    "        return len(wall)\n",
    "    return len(wall) - max(v)\n",
    "    \n",
    "wall = [[1,2,2,1],[3,1,2],[1,3,2],[2,4],[3,1,2],[1,3,1,1]]\n",
    "print(leastBricks(wall))"
   ]
  },
  {
   "cell_type": "code",
   "execution_count": 77,
   "metadata": {},
   "outputs": [
    {
     "name": "stdout",
     "output_type": "stream",
     "text": [
      "2\n"
     ]
    }
   ],
   "source": [
    "\"\"\"\n",
    "560. 和为K的子数组\n",
    "https://leetcode-cn.com/problems/subarray-sum-equals-k/\n",
    "\"\"\"\n",
    "import collections\n",
    "def subarraySum(nums, k):\n",
    "    count, _sum, dic = 0, 0, collections.defaultdict(int)\n",
    "    dic[0] = 1\n",
    "    for i in range(len(nums)):\n",
    "        _sum += nums[i]\n",
    "        if _sum - k in dic:\n",
    "            count += dic[_sum - k]\n",
    "        dic[_sum] += 1\n",
    "    return count\n",
    "\n",
    "print(subarraySum([1,1,1], 2))\n",
    "    "
   ]
  },
  {
   "cell_type": "code",
   "execution_count": 78,
   "metadata": {},
   "outputs": [
    {
     "name": "stdout",
     "output_type": "stream",
     "text": [
      "[['root/a/1.txt', 'root/c/3.txt'], ['root/a/2.txt', 'root/c/d/4.txt', 'root/4.txt']]\n"
     ]
    }
   ],
   "source": [
    "\"\"\"\n",
    "609. 在系统中查找重复文件\n",
    "https://leetcode-cn.com/problems/find-duplicate-file-in-system/\n",
    "\"\"\"\n",
    "def findDuplicate(paths):\n",
    "    dic = collections.defaultdict(list)\n",
    "    for p in paths:\n",
    "        head, v = p.split(' ')[0], p.split(' ')[1:]\n",
    "        for _v in v:\n",
    "            filename, key = _v.split('(')\n",
    "            dic[key].append(f'{head}/{filename}')\n",
    "    \n",
    "    return [d for d in dic.values() if len(d) > 1]\n",
    "\n",
    "paths = [\"root/a 1.txt(abcd) 2.txt(efgh)\",\"root/c 3.txt(abcd)\",\"root/c/d 4.txt(efgh)\",\"root 4.txt(efgh)\"]\n",
    "print(findDuplicate(paths))"
   ]
  },
  {
   "cell_type": "code",
   "execution_count": 79,
   "metadata": {},
   "outputs": [
    {
     "name": "stdout",
     "output_type": "stream",
     "text": [
      "the cat was rat by the bat\n"
     ]
    }
   ],
   "source": [
    "\"\"\"\n",
    "648. 单词替换\n",
    "https://leetcode-cn.com/problems/replace-words/\n",
    "\"\"\"\n",
    "def replaceWords(dict, sentence):\n",
    "    sentence = sentence.split(' ')\n",
    "    dict.sort(key=lambda a: len(a))\n",
    "    for i in range(len(dict)):\n",
    "        for j in range(len(sentence)):\n",
    "            if sentence[j][0:len(dict[i])] == dict[i]:\n",
    "                sentence[j] = dict[i]\n",
    "                \n",
    "    return ' '.join(sentence)\n",
    "    \n",
    "dict = [\"cat\", \"bat\", \"rat\"]\n",
    "sentence = \"the cattle was rattled by the battery\"\n",
    "print(replaceWords(dict, sentence))"
   ]
  },
  {
   "cell_type": "code",
   "execution_count": 81,
   "metadata": {},
   "outputs": [],
   "source": [
    "\"\"\"\n",
    "676. 实现一个魔法字典\n",
    "https://leetcode-cn.com/problems/implement-magic-dictionary/submissions/\n",
    "\"\"\"\n",
    "class MagicDictionary:\n",
    "\n",
    "    def __init__(self):\n",
    "        \"\"\"\n",
    "        Initialize your data structure here.\n",
    "        \"\"\"\n",
    "        self.dict = []\n",
    "\n",
    "    def buildDict(self, dict) -> None:\n",
    "        \"\"\"\n",
    "        Build a dictionary through a list of words\n",
    "        \"\"\"\n",
    "        self.dict = dict\n",
    "        \n",
    "\n",
    "    def search(self, word) -> bool:\n",
    "        \"\"\"\n",
    "        Returns if there is any word in the trie that equals to the given word after modifying exactly one character\n",
    "        \"\"\"\n",
    "        for d in self.dict:\n",
    "            if len(d) == len(word):\n",
    "                v = sum([1 if d[i] != word[i] else 0 for i in range(len(d))])\n",
    "                if v == 1:\n",
    "                    return True\n",
    "        return False"
   ]
  },
  {
   "cell_type": "code",
   "execution_count": 82,
   "metadata": {},
   "outputs": [
    {
     "name": "stdout",
     "output_type": "stream",
     "text": [
      "3\n"
     ]
    }
   ],
   "source": [
    "\"\"\"\n",
    "718. 最长重复子数组\n",
    "https://leetcode-cn.com/problems/maximum-length-of-repeated-subarray/\n",
    "\"\"\"\n",
    "def findLength(A, B):\n",
    "    memo = [[0] * (len(B) + 1) for _ in range(len(A) + 1)]\n",
    "    for i in range(len(A) - 1, -1, -1):\n",
    "        for j in range(len(B) - 1, -1, -1):\n",
    "            if A[i] == B[j]:\n",
    "                memo[i][j] = memo[i+1][j+1] + 1\n",
    "    return max(max(row) for row in memo)\n",
    "\n",
    "print(findLength([1,2,3,2,1], [3,2,1,4,7]))"
   ]
  },
  {
   "cell_type": "code",
   "execution_count": 84,
   "metadata": {},
   "outputs": [
    {
     "name": "stdout",
     "output_type": "stream",
     "text": [
      "6\n"
     ]
    }
   ],
   "source": [
    "\"\"\"\n",
    "781. 森林中的兔子\n",
    "https://leetcode-cn.com/problems/rabbits-in-forest/\n",
    "\"\"\"\n",
    "def numRabbits(answers):\n",
    "    c = collections.Counter()\n",
    "    res = 0\n",
    "    for i in answers:\n",
    "        if c[i] % (i+1) == 0:\n",
    "            res += i + 1\n",
    "        c[i] += 1\n",
    "    return res\n",
    "\n",
    "print(numRabbits([0,0,1,1,1]))"
   ]
  },
  {
   "cell_type": "code",
   "execution_count": 85,
   "metadata": {},
   "outputs": [
    {
     "name": "stdout",
     "output_type": "stream",
     "text": [
      "4\n"
     ]
    }
   ],
   "source": [
    "\"\"\"\n",
    "930. 和相同的二元子数组\n",
    "https://leetcode-cn.com/problems/binary-subarrays-with-sum/\n",
    "\"\"\"\n",
    "def numSubarraysWithSum(A, S):\n",
    "    P = [0]\n",
    "    for x in A:\n",
    "        P.append(P[-1] + x)\n",
    "    count = collections.Counter()\n",
    "    \n",
    "    ans = 0\n",
    "    for x in P:\n",
    "        ans += count[x]\n",
    "        count[x + S] += 1\n",
    "    return ans\n",
    "\n",
    "print(numSubarraysWithSum([1,0,1,0,1],2))"
   ]
  },
  {
   "cell_type": "code",
   "execution_count": 111,
   "metadata": {},
   "outputs": [],
   "source": [
    "\"\"\"\n",
    "939. 最小面积矩形\n",
    "https://leetcode-cn.com/problems/minimum-area-rectangle/\n",
    "\"\"\"\n",
    "def minAreaRect(points):\n",
    "    # 来自官网\n",
    "    columns = collections.defaultdict(list)\n",
    "    for x, y in points:\n",
    "        columns[x].append(y)\n",
    "    lastx = {}\n",
    "    ans = float('inf')\n",
    "\n",
    "    for x in sorted(columns):\n",
    "        column = columns[x]\n",
    "        column.sort()\n",
    "        for j, y2 in enumerate(column):\n",
    "            for i in range(j):\n",
    "                y1 = column[i]\n",
    "                if (y1, y2) in lastx:\n",
    "                    ans = min(ans, (x - lastx[y1,y2]) * (y2 - y1))\n",
    "                lastx[y1, y2] = x\n",
    "    return ans if ans < float('inf') else 0"
   ]
  },
  {
   "cell_type": "code",
   "execution_count": 87,
   "metadata": {},
   "outputs": [
    {
     "name": "stdout",
     "output_type": "stream",
     "text": [
      "False\n"
     ]
    }
   ],
   "source": [
    "\"\"\"\n",
    "954. 二倍数对数组\n",
    "https://leetcode-cn.com/problems/array-of-doubled-pairs/\n",
    "\"\"\"\n",
    "def canReorderDoubled(A):\n",
    "    count = collections.Counter(A)\n",
    "    for x in sorted(A, key=abs):\n",
    "        if count[x] == 0: continue\n",
    "        if count[2*x] == 0: return False\n",
    "        count[x] -= 1\n",
    "        count[2*x] -= 1\n",
    "    \n",
    "    return True\n",
    "\n",
    "print(canReorderDoubled([3,1,3,6]))"
   ]
  },
  {
   "cell_type": "code",
   "execution_count": 102,
   "metadata": {},
   "outputs": [
    {
     "name": "stdout",
     "output_type": "stream",
     "text": [
      "[0, 0, 1, 1, 0, 0, 0, 0]\n",
      "[0, 0, 1, 1, 1, 1, 1, 0]\n"
     ]
    }
   ],
   "source": [
    "\"\"\"\n",
    "957. N 天后的牢房\n",
    "https://leetcode-cn.com/problems/prison-cells-after-n-days/\n",
    "\"\"\"\n",
    "def prisonAfterNDays(cells, N):\n",
    "    def nextday(cells):\n",
    "        return [int(i > 0 and i < 7 and cells[i-1] == cells[i+1]) for i in range(8)]\n",
    "    \n",
    "    seen = {}\n",
    "    while N > 0:\n",
    "        c = tuple(cells)\n",
    "        if c in seen:\n",
    "            N %= seen[c] - N\n",
    "        seen[c] = N\n",
    "        \n",
    "        if N >= 1:\n",
    "            N -= 1\n",
    "            cells = nextday(cells)\n",
    "    \n",
    "    return cells\n",
    "\n",
    "print(prisonAfterNDays([0,1,0,1,1,0,0,1], 7))\n",
    "print(prisonAfterNDays([1,0,0,1,0,0,1,0], 1000000000))"
   ]
  },
  {
   "cell_type": "code",
   "execution_count": 107,
   "metadata": {},
   "outputs": [
    {
     "name": "stdout",
     "output_type": "stream",
     "text": [
      "['kite', 'KiTe', 'KiTe', 'Hare', 'hare', '', '', 'KiTe', '', 'KiTe']\n"
     ]
    }
   ],
   "source": [
    "\"\"\"\n",
    "966. 元音拼写检查器\n",
    "https://leetcode-cn.com/problems/vowel-spellchecker/\n",
    "\"\"\"\n",
    "def spellchecker(wordlist, queries):\n",
    "    def devowel(word):\n",
    "        return ''.join('*' if c in 'aeiou' else c for c in word)\n",
    "    \n",
    "    words_perfect = set(wordlist)\n",
    "    words_cap = {}\n",
    "    words_vow = {}\n",
    "    \n",
    "    for word in wordlist:\n",
    "        wordlow = word.lower()\n",
    "        words_cap.setdefault(wordlow, word)\n",
    "        words_vow.setdefault(devowel(wordlow), word)\n",
    "        \n",
    "    def solve(query):\n",
    "        if query in words_perfect:\n",
    "            return query\n",
    "        \n",
    "        queryL = query.lower()\n",
    "        if queryL in words_cap:\n",
    "            return words_cap[queryL]\n",
    "        \n",
    "        queryLV = devowel(queryL)\n",
    "        if queryLV in words_vow:\n",
    "            return words_vow[queryLV]\n",
    "        \n",
    "        return \"\"\n",
    "    \n",
    "    return list(map(solve, queries))\n",
    "\n",
    "wordlist = [\"KiTe\",\"kite\",\"hare\",\"Hare\"]\n",
    "queries = [\"kite\",\"Kite\",\"KiTe\",\"Hare\",\"HARE\",\"Hear\",\"hear\",\"keti\",\"keet\",\"keto\"]\n",
    "print(spellchecker(wordlist, queries))\n",
    "        "
   ]
  },
  {
   "cell_type": "code",
   "execution_count": 108,
   "metadata": {},
   "outputs": [],
   "source": [
    "\"\"\"\n",
    "974. 和可被 K 整除的子数组\n",
    "https://leetcode-cn.com/problems/subarray-sums-divisible-by-k/\n",
    "\"\"\"\n",
    "def subarraysDivByK(A, K):\n",
    "    P = [0]\n",
    "    for x in A:\n",
    "        P.append((P[-1] + x) % K)\n",
    "        \n",
    "    count = collections.Counter(P)\n",
    "    return sum(v*(v-1)/2 for v in count.values())"
   ]
  },
  {
   "cell_type": "code",
   "execution_count": 110,
   "metadata": {},
   "outputs": [],
   "source": [
    "\"\"\"\n",
    "981. 基于时间的键值存储\n",
    "https://leetcode-cn.com/problems/time-based-key-value-store/submissions/\n",
    "\"\"\"\n",
    "class TimeMap:\n",
    "\n",
    "    def __init__(self):\n",
    "        \"\"\"\n",
    "        Initialize your data structure here.\n",
    "        \"\"\"\n",
    "        self.dic = collections.defaultdict(list)\n",
    "\n",
    "    def set(self, key: str, value: str, timestamp: int) -> None:\n",
    "        self.dic[key].append((timestamp, value))\n",
    "\n",
    "    def get(self, key: str, timestamp: int) -> str:\n",
    "        vals = self.dic[key]\n",
    "        if not vals:\n",
    "            return \"\"\n",
    "        i = bisect.bisect(vals, (timestamp, chr(127)))\n",
    "        return vals[i-1][1] if i else \"\"\n",
    "        # 原始写法, 标准答案用了bisect\n",
    "        # vals = [v for v in self.dic[key] if v[0] <= timestamp]\n",
    "        # if not vals:\n",
    "        #     return \"\"\n",
    "        # return sorted(vals)[-1][1]"
   ]
  },
  {
   "cell_type": "code",
   "execution_count": null,
   "metadata": {},
   "outputs": [],
   "source": []
  }
 ],
 "metadata": {
  "kernelspec": {
   "display_name": "Python 3",
   "language": "python",
   "name": "python3"
  },
  "language_info": {
   "codemirror_mode": {
    "name": "ipython",
    "version": 3
   },
   "file_extension": ".py",
   "mimetype": "text/x-python",
   "name": "python",
   "nbconvert_exporter": "python",
   "pygments_lexer": "ipython3",
   "version": "3.7.3"
  }
 },
 "nbformat": 4,
 "nbformat_minor": 2
}
